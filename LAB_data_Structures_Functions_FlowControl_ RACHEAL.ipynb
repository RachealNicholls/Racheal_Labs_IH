{
 "cells": [
  {
   "cell_type": "raw",
   "metadata": {
    "tags": []
   },
   "source": [
    "#Racheal's  Lab | Data Structures "
   ]
  },
  {
   "cell_type": "markdown",
   "metadata": {
    "tags": []
   },
   "source": [
    "## Exercise: Managing Customer Orders\n",
    "\n",
    "As part of a business venture, you are starting an online store that sells various products. To ensure smooth operations, you need to develop a program that manages customer orders and inventory.\n",
    "\n",
    "Follow the steps below to complete the exercise:\n",
    "\n",
    "1. Define a list called `products` that contains the following items: \"t-shirt\", \"mug\", \"hat\", \"book\", \"keychain\".\n",
    "\n",
    "2. Create an empty dictionary called `inventory`.\n",
    "\n",
    "3. Ask the user to input the quantity of each product available in the inventory. Use the product names from the `products` list as keys in the `inventory` dictionary and assign the respective quantities as values.\n",
    "\n",
    "4. Create an empty set called `customer_orders`.\n",
    "\n",
    "5. Ask the user to input the name of three products that a customer wants to order (from those in the products list, meaning three products out of \"t-shirt\", \"mug\", \"hat\", \"book\" or \"keychain\". Add each product name to the `customer_orders` set.\n",
    "\n",
    "6. Print the products in the `customer_orders` set.\n",
    "\n",
    "7. Calculate the following order statistics:\n",
    "   - Total Products Ordered: The total number of products in the `customer_orders` set.\n",
    "   - Percentage of Products Ordered: The percentage of products ordered compared to the total available products.\n",
    "   \n",
    "   Store these statistics in a tuple called `order_status`.\n",
    "\n",
    "8. Print the order statistics using the following format:\n",
    "   ```\n",
    "   Order Statistics:\n",
    "   Total Products Ordered: <total_products_ordered>\n",
    "   Percentage of Products Ordered: <percentage_ordered>% \n",
    "   ```\n",
    "\n",
    "9. Update the inventory by subtracting 1 from the quantity of each product. Modify the `inventory` dictionary accordingly.\n",
    "\n",
    "10. Print the updated inventory, displaying the quantity of each product on separate lines.\n",
    "\n",
    "Solve the exercise by implementing the steps using the Python concepts of lists, dictionaries, sets, and basic input/output operations. "
   ]
  },
  {
   "cell_type": "code",
   "execution_count": 11,
   "metadata": {},
   "outputs": [
    {
     "name": "stdout",
     "output_type": "stream",
     "text": [
      "['t-shirt', 'mug', 'hat', 'book', 'keychain']\n"
     ]
    }
   ],
   "source": [
    "#1 defining a list called function\n",
    "\n",
    "products=[\"t-shirt\", \"mug\", \"hat\", \"book\", \"keychain\"]\n",
    "print (products)"
   ]
  },
  {
   "cell_type": "code",
   "execution_count": 10,
   "metadata": {},
   "outputs": [],
   "source": [
    "#2 creating an empty dictionary called inventory\n",
    "inventory={}"
   ]
  },
  {
   "cell_type": "code",
   "execution_count": 12,
   "metadata": {},
   "outputs": [
    {
     "name": "stdout",
     "output_type": "stream",
     "text": [
      "Enter quantity of t-shirt: 6\n",
      "Enter quantity of mug: 9\n",
      "Enter quantity of hat: 2\n",
      "Enter quantity of book: 8\n",
      "Enter quantity of keychain: 4\n"
     ]
    }
   ],
   "source": [
    "#3 Ask the user to input the quantity of each product available \n",
    "#\n",
    "\n",
    "# Get product quantities from user\n",
    "for product in products:\n",
    "    quantity = int(input(f\"Enter quantity of {product}: \"))\n",
    "    inventory[product] = quantity"
   ]
  },
  {
   "cell_type": "code",
   "execution_count": 17,
   "metadata": {},
   "outputs": [],
   "source": [
    "#4 Creating an empty set set labeled customer_orders\n",
    "\n",
    "customer_orders = set()"
   ]
  },
  {
   "cell_type": "code",
   "execution_count": 18,
   "metadata": {},
   "outputs": [
    {
     "name": "stdout",
     "output_type": "stream",
     "text": [
      "Enter the product name (t-shirt, mug, hat, book, keychain): book\n",
      "Enter the product name (t-shirt, mug, hat, book, keychain): keychain\n",
      "Enter the product name (t-shirt, mug, hat, book, keychain): pot\n",
      "Invalid product name. Please choose from: t-shirt, mug, hat, book, keychain\n"
     ]
    }
   ],
   "source": [
    "#5. Requesting the user to input the name of three products to be ordered\n",
    "for i in range(3):\n",
    "    product_name = input(\"Enter the product name (t-shirt, mug, hat, book, keychain): \")\n",
    "    if product_name in products:\n",
    "        customer_orders.add(product_name)\n",
    "    else:\n",
    "        print(\"Invalid product name. Please choose from: t-shirt, mug, hat, book, keychain\")\n",
    "        continue"
   ]
  },
  {
   "cell_type": "code",
   "execution_count": 19,
   "metadata": {},
   "outputs": [
    {
     "name": "stdout",
     "output_type": "stream",
     "text": [
      "{'keychain', 'book'}\n"
     ]
    }
   ],
   "source": [
    "#6.Print the products in the customer_orders set.\n",
    "print(customer_orders)"
   ]
  },
  {
   "cell_type": "code",
   "execution_count": 25,
   "metadata": {},
   "outputs": [
    {
     "name": "stdout",
     "output_type": "stream",
     "text": [
      "Total Products Ordered: 5\n"
     ]
    }
   ],
   "source": [
    "#7.\n",
    "# All orders in customer_orders\n",
    "customer_orders = {\"t-shirt\", \"mug\", \"hat\", \"book\", \"keychain\", \"mug\", \"hat\", \"t-shirt\"}\n",
    "\n",
    "# Calculating  the total number of products\n",
    "total_products_ordered = len(customer_orders)\n",
    "\n",
    "# Print the result\n",
    "print(\"Total Products Ordered:\", total_products_ordered)\n",
    "\n",
    "total_available_products = sum(inventory.values())\n"
   ]
  },
  {
   "cell_type": "code",
   "execution_count": 31,
   "metadata": {},
   "outputs": [
    {
     "name": "stdout",
     "output_type": "stream",
     "text": [
      "17.24137931034483\n"
     ]
    }
   ],
   "source": [
    "#PErcentage of orders compared to still available products\n",
    "\n",
    "percentage_ordered = (total_products_ordered / total_available_products) * 100\n",
    "   \n",
    "print (percentage_ordered)\n",
    "\n",
    "# Create a tuple with the order statistics\n",
    "#order_status = (total_products_ordered, total_available_products, percentage_ordered)\n",
    "\n",
    "# Print the result\n"
   ]
  },
  {
   "cell_type": "code",
   "execution_count": 32,
   "metadata": {},
   "outputs": [],
   "source": [
    "\n",
    "# # Store the order statistics in a tuple\n",
    "order_status = (total_products_ordered, percentage_ordered)"
   ]
  },
  {
   "cell_type": "code",
   "execution_count": 33,
   "metadata": {},
   "outputs": [
    {
     "name": "stdout",
     "output_type": "stream",
     "text": [
      "Updated inventory:\n",
      "t-shirt: 16\n",
      "mug: 8\n",
      "hat: 7\n",
      "book: 11\n",
      "keychain: 22\n"
     ]
    }
   ],
   "source": [
    "#9 Update the inventory by subtracting 1 from the quantity of each product. \n",
    "inventory = {\n",
    "    \"t-shirt\":17,\n",
    "    \"mug\": 9,\n",
    "    \"hat\": 8,\n",
    "    \"book\": 12,\n",
    "    \"keychain\": 23\n",
    "}\n",
    "#9 subrCTing one (1)from each product in inventory \n",
    "for product, quantity in inventory.items():\n",
    "    inventory[product] -= 1\n",
    "\n",
    "#10. Now Printing  the updated inventory\n",
    "print(\"Updated inventory:\")\n",
    "for product, quantity in inventory.items():\n",
    "    print(f\"{product}: {quantity}\")"
   ]
  },
  {
   "cell_type": "code",
   "execution_count": null,
   "metadata": {},
   "outputs": [],
   "source": [
    "########## CONTINUATION. ......  LAB FLOW CONTROL ....... LAB FLOW CONTROL\n",
    "\n",
    "#Exercise: Managing Customer Orders Optimized\n",
    "#In the last lab, you were starting an online store that sells various products. To ensure smooth operations, you developed a program that manages customer orders and inventory.\n",
    "#You did so without using flow control. Let's go a step further and improve this code.\n",
    "#Follow the steps below to complete the exercise:\n",
    "#Look at your code from the lab data structures, and improve repeated code with loops.\n",
    "#Instead of asking the user to input the name of three products that a customer wants to order, do the following:\n",
    "\n",
    "#a. Prompt the user to enter the name of a product that a customer wants to order.\n",
    "#b. Add the product name to the \"customer_orders\" set.\n",
    "#c. Ask the user if they want to add another product (yes/no).\n",
    "#d. Continue the loop until the user does not want to add another product.\n",
    "#Instead of updating the inventory by subtracting 1 from the quantity of each product, only do it for the products that were ordered (those in \"customer_orders\")."
   ]
  },
  {
   "cell_type": "code",
   "execution_count": null,
   "metadata": {},
   "outputs": [],
   "source": [
    "#requesting user to name a (1) product wished to be ordered using loops this time around :\n",
    "while True:\n",
    "    order_product = input(\"Enter a product to order: \")\n",
    "    customer_orders.add(order_product)\n",
    "\n",
    "    another_product = input(\"Do you want to add another product? (yes/no): \").lower()\n",
    "    if another_product != 'yes':\n",
    "        break\n"
   ]
  },
  {
   "cell_type": "code",
   "execution_count": null,
   "metadata": {},
   "outputs": [],
   "source": [
    "# Print the products in the customer_orders set\n",
    "print(\"Products in Customer Orders:\", customer_orders)\n",
    "\n",
    "# Updated inventory using a loop list for the products that were ordered\n",
    "for ordered_product in customer_orders:\n",
    "    if ordered_product in inventory and inventory[ordered_product] > 0:\n",
    "        inventory[ordered_product] -= 1\n",
    "    else:\n",
    "        print(f\"Warning: {ordered_product} is out of stock or not available.\")\n",
    "\n",
    "# loops enabling code repetition und better comprehension for the user "
   ]
  },
  {
   "cell_type": "code",
   "execution_count": null,
   "metadata": {},
   "outputs": [],
   "source": [
    "########## CONTINUATION. ......  LAB FUNCTION .....LAB FUNCTION....\n",
    "#Exercise: Managing Customer Orders with Functions\n",
    "#In the previous exercise, you improved the code for managing customer orders by using loops and flow control. Now, let's take it a step further and refactor the code by introducing functions.\n",
    "#Follow the steps below to complete the exercise:\n",
    "#Define a function named initialize_inventory that takes products as a parameter. Inside the function, implement the code for initializing the inventory dictionary using a loop and user input.\n",
    "#Define a function named get_customer_orders that takes no parameters. Inside the function, implement the code for prompting the user to enter the product names using a loop. The function should return the customer_orders set.\n",
    "#Define a function named update_inventory that takes customer_orders and inventory as parameters. Inside the function, implement the code for updating the inventory dictionary based on the customer orders.\n",
    "#Define a function named calculate_order_statistics that takes customer_orders and products as parameters. Inside the function, implement the code for calculating the order statistics (total products ordered, and percentage of unique \n",
    "#products ordered). The function should return these values.\n",
    "#Define a function named print_order_statistics that takes order_statistics as a parameter. Inside the function, implement the code for printing the order statistics.\n",
    "#Define a function named print_updated_inventory that takes inventory as a parameter. Inside the function, implement the code for printing the updated inventory.\n",
    "#Call the functions in the appropriate sequence to execute the program and manage customer orders.\n",
    "#Hints for functions:\n",
    "#Consider the input parameters required for each function and their return values.\n",
    "#Utilize function parameters and return values to transfer data between functions.\n",
    "#Test your functions individually to ensure they work correctly."
   ]
  },
  {
   "cell_type": "code",
   "execution_count": null,
   "metadata": {},
   "outputs": [],
   "source": []
  },
  {
   "cell_type": "code",
   "execution_count": 35,
   "metadata": {},
   "outputs": [],
   "source": [
    "#Define a function named initialize_inventory that takes products as a parameter. Inside the function, implement the code for initializing the inventory dictionary using a loop and user input.\n",
    "\n",
    "def initialize_inventory(products):\n",
    "    inventory = {}\n",
    "    for product in products:\n",
    "        quantity = int(input(f\"Enter the quantity of {product}s in the inventory: \"))\n",
    "        inventory[product] = quantity\n",
    "    return inventory"
   ]
  },
  {
   "cell_type": "code",
   "execution_count": 36,
   "metadata": {},
   "outputs": [],
   "source": [
    "#defining a function taking customer orders\n",
    "\n",
    "def get_customer_orders():\n",
    "    customer_orders = set()\n",
    "    while True:\n",
    "        order_product = input(\"Enter a product to order: \")\n",
    "        customer_orders.add(order_product)\n",
    "        another_product = input(\"Do you want to add another product? (yes/no): \").lower()\n",
    "        if another_product != 'yes':\n",
    "            break\n",
    "    return customer_orders"
   ]
  },
  {
   "cell_type": "code",
   "execution_count": null,
   "metadata": {},
   "outputs": [],
   "source": [
    "#Define a function named update_inventory that takes customer_orders and\n",
    "#inventory as parameters. Inside the function, implement the code for updating the inventory dictionary based on the customer orders.\n",
    "def update_inventory(customer_orders, inventory):\n",
    "    for ordered_product in customer_orders:\n",
    "        if ordered_product in inventory and inventory[ordered_product] > 0:\n",
    "            inventory[ordered_product] -= 1\n",
    "        else:\n",
    "            print(f\"Warning: {ordered_product} is out of stock or not available.\")\n",
    "    return inventory\n"
   ]
  },
  {
   "cell_type": "code",
   "execution_count": null,
   "metadata": {},
   "outputs": [],
   "source": [
    "#Define a function named calculate_order_statistics that takes customer_orders \n",
    "#and products as parameters. Inside the function, implement the code for calculating\n",
    "#the order statistics (total products ordered, and percentage of unique products ordered). \n",
    "#The function should return these values.\n",
    "\n",
    "def calculate_order_statistics(customer_orders, products):\n",
    "    total_products_ordered = len(customer_orders)\n",
    "    total_available_products = len(set(products) & set(customer_orders))\n",
    "    percentage_ordered = (total_products_ordered / len(products)) * 100 if len(products) > 0 else 0\n",
    "    return total_products_ordered, percentage_ordered\n",
    "\n",
    "# returns value of total products ordered,and percentage "
   ]
  },
  {
   "cell_type": "code",
   "execution_count": null,
   "metadata": {},
   "outputs": [],
   "source": [
    "#Defining a function named print_order_statistics that takes order_statistics as a parameter. \n",
    "#Inside the function, implement the code for printing the order statistics.\n",
    "\n",
    "def print_order_statistics(order_statistics):\n",
    "    print(\"\\nOrder Statistics:\")\n",
    "    print(f\"Total Products ordered: {order_statistics[0]}\")\n",
    "    print(f\"Percentage of Products ordered: {order_statistics[1]:.2f}%\")\n"
   ]
  },
  {
   "cell_type": "code",
   "execution_count": null,
   "metadata": {},
   "outputs": [],
   "source": [
    "#Define a function named print_updated_inventory that takes inventory as a parameter. \n",
    "#Inside the function, implement the code for printing the updated inventory.\n",
    "def print_updated_inventory(inventory):\n",
    "    print(\"\\nUpdated Inventory:\")\n",
    "    for product, quantity in inventory.items():\n",
    "        print(f\"{product}: {quantity}\")\n"
   ]
  },
  {
   "cell_type": "code",
   "execution_count": null,
   "metadata": {},
   "outputs": [],
   "source": [
    "#calling all the abeve created functions\n",
    "\n",
    "inventory = initialize_inventory(products)\n",
    "customer_orders = get_customer_orders()\n",
    "inventory = update_inventory(customer_orders, inventory)\n",
    "order_statistics = calculate_order_statistics(customer_orders, products)\n",
    "print_order_statistics(order_statistics)\n",
    "print_updated_inventory(inventory)"
   ]
  }
 ],
 "metadata": {
  "kernelspec": {
   "display_name": "Python 3 (ipykernel)",
   "language": "python",
   "name": "python3"
  },
  "language_info": {
   "codemirror_mode": {
    "name": "ipython",
    "version": 3
   },
   "file_extension": ".py",
   "mimetype": "text/x-python",
   "name": "python",
   "nbconvert_exporter": "python",
   "pygments_lexer": "ipython3",
   "version": "3.11.5"
  }
 },
 "nbformat": 4,
 "nbformat_minor": 4
}
