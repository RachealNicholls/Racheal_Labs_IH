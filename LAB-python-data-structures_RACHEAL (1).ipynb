{
 "cells": [
  {
   "cell_type": "raw",
   "metadata": {
    "tags": []
   },
   "source": [
    "#Racheal's  Lab | Data Structures "
   ]
  },
  {
   "cell_type": "markdown",
   "metadata": {
    "tags": []
   },
   "source": [
    "## Exercise: Managing Customer Orders\n",
    "\n",
    "As part of a business venture, you are starting an online store that sells various products. To ensure smooth operations, you need to develop a program that manages customer orders and inventory.\n",
    "\n",
    "Follow the steps below to complete the exercise:\n",
    "\n",
    "1. Define a list called `products` that contains the following items: \"t-shirt\", \"mug\", \"hat\", \"book\", \"keychain\".\n",
    "\n",
    "2. Create an empty dictionary called `inventory`.\n",
    "\n",
    "3. Ask the user to input the quantity of each product available in the inventory. Use the product names from the `products` list as keys in the `inventory` dictionary and assign the respective quantities as values.\n",
    "\n",
    "4. Create an empty set called `customer_orders`.\n",
    "\n",
    "5. Ask the user to input the name of three products that a customer wants to order (from those in the products list, meaning three products out of \"t-shirt\", \"mug\", \"hat\", \"book\" or \"keychain\". Add each product name to the `customer_orders` set.\n",
    "\n",
    "6. Print the products in the `customer_orders` set.\n",
    "\n",
    "7. Calculate the following order statistics:\n",
    "   - Total Products Ordered: The total number of products in the `customer_orders` set.\n",
    "   - Percentage of Products Ordered: The percentage of products ordered compared to the total available products.\n",
    "   \n",
    "   Store these statistics in a tuple called `order_status`.\n",
    "\n",
    "8. Print the order statistics using the following format:\n",
    "   ```\n",
    "   Order Statistics:\n",
    "   Total Products Ordered: <total_products_ordered>\n",
    "   Percentage of Products Ordered: <percentage_ordered>% \n",
    "   ```\n",
    "\n",
    "9. Update the inventory by subtracting 1 from the quantity of each product. Modify the `inventory` dictionary accordingly.\n",
    "\n",
    "10. Print the updated inventory, displaying the quantity of each product on separate lines.\n",
    "\n",
    "Solve the exercise by implementing the steps using the Python concepts of lists, dictionaries, sets, and basic input/output operations. "
   ]
  },
  {
   "cell_type": "code",
   "execution_count": 13,
   "metadata": {},
   "outputs": [
    {
     "name": "stdout",
     "output_type": "stream",
     "text": [
      "['t-shirt', 'mug', 'hat', 'book', 'keychain']\n"
     ]
    }
   ],
   "source": [
    "#1\n",
    "def products():\n",
    "    return products\n",
    "products=[\"t-shirt\", \"mug\", \"hat\", \"book\", \"keychain\"]\n",
    "print (products)"
   ]
  },
  {
   "cell_type": "code",
   "execution_count": 8,
   "metadata": {},
   "outputs": [],
   "source": [
    "#2 creating an empty dictionary called inventory\n",
    "inventory={}"
   ]
  },
  {
   "cell_type": "code",
   "execution_count": 17,
   "metadata": {},
   "outputs": [
    {
     "name": "stdin",
     "output_type": "stream",
     "text": [
      "state quantity of items desired 5\n"
     ]
    }
   ],
   "source": [
    "#3 Ask the user to input the quantity of each product available \n",
    "# in the inventory. Use the product names \n",
    "# from the products list as keys in the inventory dictionary and assign the respective quantities as values.\n",
    "# Dictionary essential availabel\n",
    "input_product_quantity=input(\"state quantity of items desired\")"
   ]
  },
  {
   "cell_type": "code",
   "execution_count": null,
   "metadata": {},
   "outputs": [],
   "source": [
    "#4 Creating an empty set set labeled customer_orders\n",
    "def customer_orders:\n",
    "    return customer_orders\n",
    "\n",
    "customer_orders()"
   ]
  },
  {
   "cell_type": "code",
   "execution_count": null,
   "metadata": {},
   "outputs": [],
   "source": [
    "#5. Ask the user to input the name of three products that a customer wants to order\n",
    "for i in range(3):\n",
    "    product_name = input(\"Enter the product name (t-shirt, mug, hat, book, keychain): \")\n",
    "    if product_name in products:\n",
    "        customer_orders.add(product_name)\n",
    "    else:\n",
    "        print(\"Invalid product name. Please choose from: t-shirt, mug, hat, book, keychain\")\n",
    "        continue"
   ]
  },
  {
   "cell_type": "code",
   "execution_count": null,
   "metadata": {},
   "outputs": [],
   "source": [
    "#6.Print the products in the customer_orders set.\n",
    "print(customer_orders)"
   ]
  },
  {
   "cell_type": "code",
   "execution_count": 26,
   "metadata": {},
   "outputs": [
    {
     "name": "stdout",
     "output_type": "stream",
     "text": [
      "Total Products Ordered: 5\n"
     ]
    }
   ],
   "source": [
    "#7.\n",
    "# All orders in customer_orders\n",
    "customer_orders = {\"t-shirt\", \"mug\", \"hat\", \"book\", \"keychain\", \"mug\", \"hat\", \"t-shirt\"}\n",
    "\n",
    "# Calculate the total number of products\n",
    "total_products_ordered = len(customer_orders)\n",
    "\n",
    "# Print the result\n",
    "print(\"Total Products Ordered:\", total_products_ordered)"
   ]
  },
  {
   "cell_type": "code",
   "execution_count": 19,
   "metadata": {},
   "outputs": [
    {
     "ename": "SyntaxError",
     "evalue": "invalid syntax (1593687203.py, line 3)",
     "output_type": "error",
     "traceback": [
      "\u001b[0;36m  Input \u001b[0;32mIn [19]\u001b[0;36m\u001b[0m\n\u001b[0;31m    def percentage_ordered = (total_products_ordered / total_available_products) * 100:\u001b[0m\n\u001b[0m                           ^\u001b[0m\n\u001b[0;31mSyntaxError\u001b[0m\u001b[0;31m:\u001b[0m invalid syntax\n"
     ]
    }
   ],
   "source": [
    "#PErcentage of orders compared to still available products\n",
    "\n",
    "def percentage_ordered = (total_products_ordered / total_available_products) * 100:\n",
    "    return percentage_ordered\n",
    "print (percentage_ordered)\n",
    "\n",
    "# Create a tuple with the order statistics\n",
    "order_status = (total_products_ordered, total_available_products, percentage_ordered)\n",
    "\n",
    "# Print the result\n",
    "print(order_status)\n",
    "# # Store the order statistics in a tuple\n",
    "order_status = (total_products_ordered, percentage_ordered)"
   ]
  },
  {
   "cell_type": "code",
   "execution_count": 15,
   "metadata": {},
   "outputs": [
    {
     "name": "stdout",
     "output_type": "stream",
     "text": [
      "Updated inventory:\n",
      "t-shirt: 16\n",
      "mug: 8\n",
      "hat: 7\n",
      "book: 11\n",
      "keychain: 22\n"
     ]
    }
   ],
   "source": [
    "#9 Update the inventory by subtracting 1 from the quantity of each product. \n",
    "inventory = {\n",
    "    \"t-shirt\":17,\n",
    "    \"mug\": 9,\n",
    "    \"hat\": 8,\n",
    "    \"book\": 12,\n",
    "    \"keychain\": 23\n",
    "}\n",
    "#9 subrCTing one (1)from each product in inventory \n",
    "for product, quantity in inventory.items():\n",
    "    inventory[product] -= 1\n",
    "\n",
    "#10. Now Printing  the updated inventory\n",
    "print(\"Updated inventory:\")\n",
    "for product, quantity in inventory.items():\n",
    "    print(f\"{product}: {quantity}\")"
   ]
  },
  {
   "cell_type": "code",
   "execution_count": null,
   "metadata": {},
   "outputs": [],
   "source": []
  }
 ],
 "metadata": {
  "kernelspec": {
   "display_name": "anaconda-2022.05-py39",
   "language": "python",
   "name": "conda-env-anaconda-2022.05-py39-py"
  },
  "language_info": {
   "codemirror_mode": {
    "name": "ipython",
    "version": 3
   },
   "file_extension": ".py",
   "mimetype": "text/x-python",
   "name": "python",
   "nbconvert_exporter": "python",
   "pygments_lexer": "ipython3",
   "version": "3.9.12"
  }
 },
 "nbformat": 4,
 "nbformat_minor": 4
}
