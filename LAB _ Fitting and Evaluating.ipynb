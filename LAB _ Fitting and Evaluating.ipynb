{
 "cells": [
  {
   "cell_type": "code",
   "execution_count": 1,
   "id": "362657fa",
   "metadata": {},
   "outputs": [],
   "source": [
    "import pandas as pd\n",
    "df = pd.read_csv(\"Data_Marketing_Customer_Analysis_Round3.csv\")"
   ]
  },
  {
   "cell_type": "code",
   "execution_count": 2,
   "id": "19e9582e",
   "metadata": {},
   "outputs": [],
   "source": [
    "# creating numerical_df\n",
    "df = df.select_dtypes(include=['number'])"
   ]
  },
  {
   "cell_type": "markdown",
   "id": "d1c83967",
   "metadata": {},
   "source": [
    "### DATA WRANGLING"
   ]
  },
  {
   "cell_type": "code",
   "execution_count": 3,
   "id": "e18bd51a",
   "metadata": {},
   "outputs": [
    {
     "name": "stdout",
     "output_type": "stream",
     "text": [
      "<class 'pandas.core.frame.DataFrame'>\n",
      "Index: 9082 entries, 0 to 10688\n",
      "Data columns (total 8 columns):\n",
      " #   Column                         Non-Null Count  Dtype\n",
      "---  ------                         --------------  -----\n",
      " 0   customer_lifetime_value        9082 non-null   int64\n",
      " 1   income                         9082 non-null   int64\n",
      " 2   monthly_premium_auto           9082 non-null   int64\n",
      " 3   months_since_last_claim        9082 non-null   int64\n",
      " 4   months_since_policy_inception  9082 non-null   int64\n",
      " 5   number_of_open_complaints      9082 non-null   int64\n",
      " 6   number_of_policies             9082 non-null   int64\n",
      " 7   total_claim_amount             9082 non-null   int64\n",
      "dtypes: int64(8)\n",
      "memory usage: 638.6 KB\n"
     ]
    }
   ],
   "source": [
    "df = df.dropna()\n",
    "df = df.drop_duplicates()\n",
    "df.info()"
   ]
  },
  {
   "cell_type": "markdown",
   "id": "35793498",
   "metadata": {},
   "source": [
    "### SPLIT"
   ]
  },
  {
   "cell_type": "code",
   "execution_count": 4,
   "id": "92c10a44",
   "metadata": {},
   "outputs": [],
   "source": [
    " # Defining x explanatory variables and 1x y traget variable"
   ]
  },
  {
   "cell_type": "code",
   "execution_count": 5,
   "id": "8188fd3c",
   "metadata": {},
   "outputs": [],
   "source": [
    "X = df[[\"customer_lifetime_value\",\"income\",\"monthly_premium_auto\",\"months_since_last_claim\",\"months_since_policy_inception\",\n",
    "        \"number_of_open_complaints\",\"number_of_policies\"]]\n",
    "y = df[[\"total_claim_amount\"]]"
   ]
  },
  {
   "cell_type": "code",
   "execution_count": 6,
   "id": "00cf2328",
   "metadata": {},
   "outputs": [],
   "source": [
    "from sklearn.model_selection import train_test_split"
   ]
  },
  {
   "cell_type": "code",
   "execution_count": 7,
   "id": "82528181",
   "metadata": {},
   "outputs": [
    {
     "name": "stdout",
     "output_type": "stream",
     "text": [
      "       customer_lifetime_value  income  monthly_premium_auto  \\\n",
      "0                         4809   48029                    61   \n",
      "1                         2228   92260                    64   \n",
      "2                        14947   22139                   100   \n",
      "3                        22332   49078                    97   \n",
      "4                         9025   23675                   117   \n",
      "...                        ...     ...                   ...   \n",
      "10684                    15563   61541                   253   \n",
      "10685                     5259   61146                    65   \n",
      "10686                    23893   39837                   201   \n",
      "10687                    11971   64195                   158   \n",
      "10688                     6857   68942                   101   \n",
      "\n",
      "       months_since_last_claim  months_since_policy_inception  \\\n",
      "0                            7                             52   \n",
      "1                            3                             26   \n",
      "2                           34                             31   \n",
      "3                           10                              3   \n",
      "4                           33                             31   \n",
      "...                        ...                            ...   \n",
      "10684                       12                             40   \n",
      "10685                        7                             68   \n",
      "10686                       11                             63   \n",
      "10687                        0                             27   \n",
      "10688                       31                              1   \n",
      "\n",
      "       number_of_open_complaints  number_of_policies  total_claim_amount  \n",
      "0                              0                   9                 292  \n",
      "1                              0                   1                 744  \n",
      "2                              0                   2                 480  \n",
      "3                              0                   2                 484  \n",
      "4                              0                   7                 707  \n",
      "...                          ...                 ...                 ...  \n",
      "10684                          0                   7                1214  \n",
      "10685                          0                   6                 273  \n",
      "10686                          0                   2                 381  \n",
      "10687                          4                   6                 618  \n",
      "10688                          0                   3                1021  \n",
      "\n",
      "[9082 rows x 8 columns]\n"
     ]
    },
    {
     "data": {
      "text/plain": [
       "<bound method DataFrame.info of        customer_lifetime_value  income  monthly_premium_auto  \\\n",
       "0                         4809   48029                    61   \n",
       "1                         2228   92260                    64   \n",
       "2                        14947   22139                   100   \n",
       "3                        22332   49078                    97   \n",
       "4                         9025   23675                   117   \n",
       "...                        ...     ...                   ...   \n",
       "10684                    15563   61541                   253   \n",
       "10685                     5259   61146                    65   \n",
       "10686                    23893   39837                   201   \n",
       "10687                    11971   64195                   158   \n",
       "10688                     6857   68942                   101   \n",
       "\n",
       "       months_since_last_claim  months_since_policy_inception  \\\n",
       "0                            7                             52   \n",
       "1                            3                             26   \n",
       "2                           34                             31   \n",
       "3                           10                              3   \n",
       "4                           33                             31   \n",
       "...                        ...                            ...   \n",
       "10684                       12                             40   \n",
       "10685                        7                             68   \n",
       "10686                       11                             63   \n",
       "10687                        0                             27   \n",
       "10688                       31                              1   \n",
       "\n",
       "       number_of_open_complaints  number_of_policies  total_claim_amount  \n",
       "0                              0                   9                 292  \n",
       "1                              0                   1                 744  \n",
       "2                              0                   2                 480  \n",
       "3                              0                   2                 484  \n",
       "4                              0                   7                 707  \n",
       "...                          ...                 ...                 ...  \n",
       "10684                          0                   7                1214  \n",
       "10685                          0                   6                 273  \n",
       "10686                          0                   2                 381  \n",
       "10687                          4                   6                 618  \n",
       "10688                          0                   3                1021  \n",
       "\n",
       "[9082 rows x 8 columns]>"
      ]
     },
     "execution_count": 7,
     "metadata": {},
     "output_type": "execute_result"
    }
   ],
   "source": [
    "X_train, X_test, y_train, y_test = train_test_split(X,y,random_state = 42)\n",
    "print(df)\n",
    "df.info"
   ]
  },
  {
   "cell_type": "markdown",
   "id": "3c91168d",
   "metadata": {},
   "source": [
    "### SCALING WITH PT (PowerTransformer)"
   ]
  },
  {
   "cell_type": "code",
   "execution_count": 8,
   "id": "8703a923",
   "metadata": {},
   "outputs": [],
   "source": [
    "import seaborn as sns"
   ]
  },
  {
   "cell_type": "code",
   "execution_count": 9,
   "id": "7196557e",
   "metadata": {},
   "outputs": [],
   "source": [
    "from sklearn.preprocessing import MinMaxScaler, StandardScaler, PowerTransformer\n",
    "import numpy as np"
   ]
  },
  {
   "cell_type": "code",
   "execution_count": 10,
   "id": "8d9187da",
   "metadata": {},
   "outputs": [],
   "source": [
    "# Iniciated the PowerTransformer my my case # \"pt is the scaler \n",
    "pt = PowerTransformer()\n",
    "\n",
    "# Fit the transformer to my X_train data \n",
    "pt = pt.fit(X_train)\n",
    "\n",
    "# Transform X_train using the fitted transformer\n",
    "X_train_trans = pt.transform(X_train)\n",
    "\n",
    "# Transform X_test using the fitted transformer\n",
    "X_test_trans = pt.transform(X_test) \n",
    "\n",
    "# keeps them separately. It also ensures consistency in the transformation process, but only for X! \n",
    "\n",
    "# --------------------WHY DONT WE SCALE Y???? --------------------------------"
   ]
  },
  {
   "cell_type": "code",
   "execution_count": 11,
   "id": "e92a4c9f",
   "metadata": {},
   "outputs": [
    {
     "data": {
      "text/plain": [
       "array([[<Axes: title={'center': 'total_claim_amount'}>]], dtype=object)"
      ]
     },
     "execution_count": 11,
     "metadata": {},
     "output_type": "execute_result"
    },
    {
     "data": {
      "image/png": "[encoded data removed]",
      "text/plain": [
       "<Figure size 640x480 with 1 Axes>"
      ]
     },
     "metadata": {},
     "output_type": "display_data"
    }
   ],
   "source": [
    "y_train.hist()"
   ]
  },
  {
   "cell_type": "markdown",
   "id": "32c971c4",
   "metadata": {},
   "source": [
    "###  ALTERNATIVE: SCALING WITH STANDARD SCALER "
   ]
  },
  {
   "cell_type": "code",
   "execution_count": 12,
   "id": "be8c77ef",
   "metadata": {},
   "outputs": [],
   "source": [
    "# calling the scaler and saving with scaler \n",
    "scaler = StandardScaler()\n",
    "\n",
    "# create the frame/fit\n",
    "scaler = scaler.fit(X_train)\n",
    "\n",
    "# populate with data/transform and save in new variables \n",
    "X_train_trans = scaler.transform(X_train)\n",
    "X_test_trans = scaler.transform(X_test)"
   ]
  },
  {
   "cell_type": "code",
   "execution_count": 13,
   "id": "5c945cf0",
   "metadata": {
    "tags": []
   },
   "outputs": [
    {
     "ename": "NameError",
     "evalue": "name 'X_train_fit' is not defined",
     "output_type": "error",
     "traceback": [
      "\u001b[0;31m---------------------------------------------------------------------------\u001b[0m",
      "\u001b[0;31mNameError\u001b[0m                                 Traceback (most recent call last)",
      "Cell \u001b[0;32mIn[13], line 1\u001b[0m\n\u001b[0;32m----> 1\u001b[0m X_train_fit\n",
      "\u001b[0;31mNameError\u001b[0m: name 'X_train_fit' is not defined"
     ]
    }
   ],
   "source": [
    "X_train_fit"
   ]
  },
  {
   "cell_type": "markdown",
   "id": "91f03b01",
   "metadata": {},
   "source": [
    "### Model training"
   ]
  },
  {
   "cell_type": "code",
   "execution_count": null,
   "id": "878544c4",
   "metadata": {},
   "outputs": [],
   "source": [
    "from sklearn.linear_model import LinearRegression"
   ]
  },
  {
   "cell_type": "code",
   "execution_count": null,
   "id": "4762ea12",
   "metadata": {},
   "outputs": [],
   "source": [
    "# i train the model with the transformed training sets from exploring var x and **non-transformed** labels y\n",
    "lm = LinearRegression()\n",
    "model = lm.fit(X_train_trans,y_train) # fitting the model to the data! using the liner functon formula. \n",
    "\n",
    "#creates the linear function line\n",
    "\n",
    "# y_train can be scaled by not in this task. \n",
    "\n",
    "# calculating the line of best fit \n",
    "# the process my test data goes through must be the same train data. e.g. same scaler "
   ]
  },
  {
   "cell_type": "code",
   "execution_count": null,
   "id": "230c7057",
   "metadata": {},
   "outputs": [],
   "source": [
    "model.coef_"
   ]
  },
  {
   "cell_type": "code",
   "execution_count": null,
   "id": "2b4b5791",
   "metadata": {
    "tags": []
   },
   "outputs": [],
   "source": [
    "model.intercept_\n",
    "\n",
    "### NOT SO OBVIOUS WHAT WENT WRONG"
   ]
  },
  {
   "cell_type": "markdown",
   "id": "19e8d923",
   "metadata": {},
   "source": [
    "### Model Interpretation"
   ]
  },
  {
   "cell_type": "code",
   "execution_count": null,
   "id": "42ebbf85",
   "metadata": {},
   "outputs": [],
   "source": [
    "predictions = model.predict(X_test_trans)\n",
    "predictions"
   ]
  },
  {
   "cell_type": "code",
   "execution_count": null,
   "id": "277d1ae5",
   "metadata": {
    "tags": []
   },
   "outputs": [],
   "source": [
    "random_test = X_test_trans.sample()"
   ]
  },
  {
   "cell_type": "code",
   "execution_count": null,
   "id": "7c20ecb0",
   "metadata": {},
   "outputs": [],
   "source": [
    "random_test"
   ]
  },
  {
   "cell_type": "code",
   "execution_count": null,
   "id": "f7679d5b",
   "metadata": {},
   "outputs": [],
   "source": [
    "model.predict(random_test)"
   ]
  },
  {
   "cell_type": "markdown",
   "id": "2d80149d",
   "metadata": {},
   "source": [
    "### Create predictions for test set"
   ]
  },
  {
   "cell_type": "code",
   "execution_count": null,
   "id": "85c88806",
   "metadata": {},
   "outputs": [],
   "source": [
    "y_pred = model.predict(X_test_trans)"
   ]
  },
  {
   "cell_type": "code",
   "execution_count": null,
   "id": "6e41e6f4",
   "metadata": {},
   "outputs": [],
   "source": [
    "y_pred = pd.DataFrame(y_pred)"
   ]
  },
  {
   "cell_type": "code",
   "execution_count": null,
   "id": "f9fe886e",
   "metadata": {},
   "outputs": [],
   "source": [
    "y_test = y_test.reset_index(drop=True)"
   ]
  },
  {
   "cell_type": "code",
   "execution_count": null,
   "id": "ae28a81e",
   "metadata": {},
   "outputs": [],
   "source": [
    "residuals_df = pd.concat([y_test,y_pred],axis=1)"
   ]
  },
  {
   "cell_type": "code",
   "execution_count": null,
   "id": "80ede0dd",
   "metadata": {},
   "outputs": [],
   "source": [
    "residuals_df = resiudals_df.rename(columns={\"total_claim_amount\":\"y_test\", 0:\"y_pred\"})\n",
    "\n"
   ]
  },
  {
   "cell_type": "code",
   "execution_count": null,
   "id": "9431062a",
   "metadata": {},
   "outputs": [],
   "source": [
    "residuals_df[\"residual\"] = residuals_df[\"y_test\"]-residuals_df[\"y_pred\"]"
   ]
  },
  {
   "cell_type": "code",
   "execution_count": null,
   "id": "527caa74",
   "metadata": {},
   "outputs": [],
   "source": [
    "round(residuals_df,2)"
   ]
  },
  {
   "cell_type": "code",
   "execution_count": null,
   "id": "3bfd00d8",
   "metadata": {},
   "outputs": [],
   "source": []
  },
  {
   "cell_type": "markdown",
   "id": "4de2d3bf",
   "metadata": {},
   "source": [
    "## (Wednesday)\n",
    "\n",
    "Model Validation\n",
    "Model Evaluation:\n",
    "MSE.\n",
    "RMSE.\n",
    "MAE.\n",
    "R2.\n",
    "Adjusted R2.\n",
    "Feature Importance."
   ]
  },
  {
   "cell_type": "code",
   "execution_count": null,
   "id": "baac6253",
   "metadata": {},
   "outputs": [],
   "source": [
    "y_pred = model.predict(X_test_scaled)"
   ]
  },
  {
   "cell_type": "code",
   "execution_count": null,
   "id": "4f92ffbc",
   "metadata": {},
   "outputs": [],
   "source": [
    "y_pred = pd.DataFrame(y_pred)"
   ]
  },
  {
   "cell_type": "code",
   "execution_count": null,
   "id": "41fa2767",
   "metadata": {},
   "outputs": [],
   "source": [
    "y_test = y_test.reset_index(drop=True)"
   ]
  },
  {
   "cell_type": "code",
   "execution_count": null,
   "id": "27437e25",
   "metadata": {},
   "outputs": [],
   "source": [
    "residuals_df = pd.concat([y_test,y_pred],axis=1)"
   ]
  },
  {
   "cell_type": "code",
   "execution_count": null,
   "id": "086c4851",
   "metadata": {},
   "outputs": [],
   "source": [
    "residuals_df = resiudals_df.rename(columns={\"body_mass_g\":\"y_test\", 0:\"y_pred\"})"
   ]
  },
  {
   "cell_type": "code",
   "execution_count": null,
   "id": "a110675e",
   "metadata": {},
   "outputs": [],
   "source": [
    "residuals_df[\"residual\"] = residuals_df[\"y_test\"]-residuals_df[\"y_pred\"]"
   ]
  },
  {
   "cell_type": "code",
   "execution_count": null,
   "id": "eadab40f",
   "metadata": {},
   "outputs": [],
   "source": [
    "residuals_df.head()"
   ]
  },
  {
   "cell_type": "code",
   "execution_count": null,
   "id": "8824eba6",
   "metadata": {},
   "outputs": [],
   "source": [
    "from sklearn. metrics import mean_squared_error as mse, mean_absolute_error as mae \n",
    "mse(y_test,y_pred)"
   ]
  },
  {
   "cell_type": "code",
   "execution_count": null,
   "id": "53bca2d4",
   "metadata": {},
   "outputs": [],
   "source": []
  }
 ],
 "metadata": {
  "kernelspec": {
   "display_name": "Python 3 (ipykernel)",
   "language": "python",
   "name": "python3"
  },
  "language_info": {
   "codemirror_mode": {
    "name": "ipython",
    "version": 3
   },
   "file_extension": ".py",
   "mimetype": "text/x-python",
   "name": "python",
   "nbconvert_exporter": "python",
   "pygments_lexer": "ipython3",
   "version": "3.11.5"
  }
 },
 "nbformat": 4,
 "nbformat_minor": 5
}
