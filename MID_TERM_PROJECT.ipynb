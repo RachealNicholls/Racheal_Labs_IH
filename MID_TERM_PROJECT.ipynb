{
 "cells": [
  {
   "cell_type": "code",
   "execution_count": 1,
   "id": "8140b727-b46f-43a2-935f-75622e61c996",
   "metadata": {
    "tags": []
   },
   "outputs": [],
   "source": [
    "## AIRLINE PASSENGER SATISFACTION \n",
    "#DATA source: Kaggle\n",
    "#REGRESSION type: LOGISTIC REGRESSION\n",
    " "
   ]
  },
  {
   "cell_type": "code",
   "execution_count": 2,
   "id": "1dd2ca3d-3654-49af-b9cf-a7a88bb4c96b",
   "metadata": {},
   "outputs": [],
   "source": [
    "# import all libraries needed here\n",
    "import pandas as pd\n",
    "import numpy as np\n",
    "import seaborn as sns\n",
    "import matplotlib.pyplot as plt\n",
    "from sklearn.linear_model import LogisticRegression\n",
    "from sklearn.model_selection import train_test_split\n",
    "from sklearn.linear_model import LogisticRegression\n",
    "from sklearn.metrics import confusion_matrix\n",
    "\n"
   ]
  },
  {
   "cell_type": "code",
   "execution_count": 3,
   "id": "a28b8ef8-899b-4e1a-87bf-ef85f4312822",
   "metadata": {
    "tags": []
   },
   "outputs": [],
   "source": [
    "df_2 = pd.read_csv('Invistico_Airline.csv')\n"
   ]
  },
  {
   "cell_type": "code",
   "execution_count": 4,
   "id": "e45b18f0-ae86-4b7c-b6a5-7279fe124999",
   "metadata": {
    "tags": []
   },
   "outputs": [
    {
     "data": {
      "text/html": [
       "<div>\n",
       "<style scoped>\n",
       "    .dataframe tbody tr th:only-of-type {\n",
       "        vertical-align: middle;\n",
       "    }\n",
       "\n",
       "    .dataframe tbody tr th {\n",
       "        vertical-align: top;\n",
       "    }\n",
       "\n",
       "    .dataframe thead th {\n",
       "        text-align: right;\n",
       "    }\n",
       "</style>\n",
       "<table border=\"1\" class=\"dataframe\">\n",
       "  <thead>\n",
       "    <tr style=\"text-align: right;\">\n",
       "      <th></th>\n",
       "      <th>satisfaction</th>\n",
       "      <th>Gender</th>\n",
       "      <th>Customer Type</th>\n",
       "      <th>Age</th>\n",
       "      <th>Type of Travel</th>\n",
       "      <th>Class</th>\n",
       "      <th>Flight Distance</th>\n",
       "      <th>Seat comfort</th>\n",
       "      <th>Departure/Arrival time convenient</th>\n",
       "      <th>Food and drink</th>\n",
       "      <th>...</th>\n",
       "      <th>Online support</th>\n",
       "      <th>Ease of Online booking</th>\n",
       "      <th>On-board service</th>\n",
       "      <th>Leg room service</th>\n",
       "      <th>Baggage handling</th>\n",
       "      <th>Checkin service</th>\n",
       "      <th>Cleanliness</th>\n",
       "      <th>Online boarding</th>\n",
       "      <th>Departure Delay in Minutes</th>\n",
       "      <th>Arrival Delay in Minutes</th>\n",
       "    </tr>\n",
       "  </thead>\n",
       "  <tbody>\n",
       "    <tr>\n",
       "      <th>0</th>\n",
       "      <td>satisfied</td>\n",
       "      <td>Female</td>\n",
       "      <td>Loyal Customer</td>\n",
       "      <td>65</td>\n",
       "      <td>Personal Travel</td>\n",
       "      <td>Eco</td>\n",
       "      <td>265</td>\n",
       "      <td>0</td>\n",
       "      <td>0</td>\n",
       "      <td>0</td>\n",
       "      <td>...</td>\n",
       "      <td>2</td>\n",
       "      <td>3</td>\n",
       "      <td>3</td>\n",
       "      <td>0</td>\n",
       "      <td>3</td>\n",
       "      <td>5</td>\n",
       "      <td>3</td>\n",
       "      <td>2</td>\n",
       "      <td>0</td>\n",
       "      <td>0.0</td>\n",
       "    </tr>\n",
       "    <tr>\n",
       "      <th>1</th>\n",
       "      <td>satisfied</td>\n",
       "      <td>Male</td>\n",
       "      <td>Loyal Customer</td>\n",
       "      <td>47</td>\n",
       "      <td>Personal Travel</td>\n",
       "      <td>Business</td>\n",
       "      <td>2464</td>\n",
       "      <td>0</td>\n",
       "      <td>0</td>\n",
       "      <td>0</td>\n",
       "      <td>...</td>\n",
       "      <td>2</td>\n",
       "      <td>3</td>\n",
       "      <td>4</td>\n",
       "      <td>4</td>\n",
       "      <td>4</td>\n",
       "      <td>2</td>\n",
       "      <td>3</td>\n",
       "      <td>2</td>\n",
       "      <td>310</td>\n",
       "      <td>305.0</td>\n",
       "    </tr>\n",
       "    <tr>\n",
       "      <th>2</th>\n",
       "      <td>satisfied</td>\n",
       "      <td>Female</td>\n",
       "      <td>Loyal Customer</td>\n",
       "      <td>15</td>\n",
       "      <td>Personal Travel</td>\n",
       "      <td>Eco</td>\n",
       "      <td>2138</td>\n",
       "      <td>0</td>\n",
       "      <td>0</td>\n",
       "      <td>0</td>\n",
       "      <td>...</td>\n",
       "      <td>2</td>\n",
       "      <td>2</td>\n",
       "      <td>3</td>\n",
       "      <td>3</td>\n",
       "      <td>4</td>\n",
       "      <td>4</td>\n",
       "      <td>4</td>\n",
       "      <td>2</td>\n",
       "      <td>0</td>\n",
       "      <td>0.0</td>\n",
       "    </tr>\n",
       "    <tr>\n",
       "      <th>3</th>\n",
       "      <td>satisfied</td>\n",
       "      <td>Female</td>\n",
       "      <td>Loyal Customer</td>\n",
       "      <td>60</td>\n",
       "      <td>Personal Travel</td>\n",
       "      <td>Eco</td>\n",
       "      <td>623</td>\n",
       "      <td>0</td>\n",
       "      <td>0</td>\n",
       "      <td>0</td>\n",
       "      <td>...</td>\n",
       "      <td>3</td>\n",
       "      <td>1</td>\n",
       "      <td>1</td>\n",
       "      <td>0</td>\n",
       "      <td>1</td>\n",
       "      <td>4</td>\n",
       "      <td>1</td>\n",
       "      <td>3</td>\n",
       "      <td>0</td>\n",
       "      <td>0.0</td>\n",
       "    </tr>\n",
       "    <tr>\n",
       "      <th>4</th>\n",
       "      <td>satisfied</td>\n",
       "      <td>Female</td>\n",
       "      <td>Loyal Customer</td>\n",
       "      <td>70</td>\n",
       "      <td>Personal Travel</td>\n",
       "      <td>Eco</td>\n",
       "      <td>354</td>\n",
       "      <td>0</td>\n",
       "      <td>0</td>\n",
       "      <td>0</td>\n",
       "      <td>...</td>\n",
       "      <td>4</td>\n",
       "      <td>2</td>\n",
       "      <td>2</td>\n",
       "      <td>0</td>\n",
       "      <td>2</td>\n",
       "      <td>4</td>\n",
       "      <td>2</td>\n",
       "      <td>5</td>\n",
       "      <td>0</td>\n",
       "      <td>0.0</td>\n",
       "    </tr>\n",
       "  </tbody>\n",
       "</table>\n",
       "<p>5 rows × 23 columns</p>\n",
       "</div>"
      ],
      "text/plain": [
       "  satisfaction  Gender   Customer Type  Age   Type of Travel     Class  \\\n",
       "0    satisfied  Female  Loyal Customer   65  Personal Travel       Eco   \n",
       "1    satisfied    Male  Loyal Customer   47  Personal Travel  Business   \n",
       "2    satisfied  Female  Loyal Customer   15  Personal Travel       Eco   \n",
       "3    satisfied  Female  Loyal Customer   60  Personal Travel       Eco   \n",
       "4    satisfied  Female  Loyal Customer   70  Personal Travel       Eco   \n",
       "\n",
       "   Flight Distance  Seat comfort  Departure/Arrival time convenient  \\\n",
       "0              265             0                                  0   \n",
       "1             2464             0                                  0   \n",
       "2             2138             0                                  0   \n",
       "3              623             0                                  0   \n",
       "4              354             0                                  0   \n",
       "\n",
       "   Food and drink  ...  Online support  Ease of Online booking  \\\n",
       "0               0  ...               2                       3   \n",
       "1               0  ...               2                       3   \n",
       "2               0  ...               2                       2   \n",
       "3               0  ...               3                       1   \n",
       "4               0  ...               4                       2   \n",
       "\n",
       "   On-board service  Leg room service  Baggage handling  Checkin service  \\\n",
       "0                 3                 0                 3                5   \n",
       "1                 4                 4                 4                2   \n",
       "2                 3                 3                 4                4   \n",
       "3                 1                 0                 1                4   \n",
       "4                 2                 0                 2                4   \n",
       "\n",
       "   Cleanliness  Online boarding  Departure Delay in Minutes  \\\n",
       "0            3                2                           0   \n",
       "1            3                2                         310   \n",
       "2            4                2                           0   \n",
       "3            1                3                           0   \n",
       "4            2                5                           0   \n",
       "\n",
       "   Arrival Delay in Minutes  \n",
       "0                       0.0  \n",
       "1                     305.0  \n",
       "2                       0.0  \n",
       "3                       0.0  \n",
       "4                       0.0  \n",
       "\n",
       "[5 rows x 23 columns]"
      ]
     },
     "execution_count": 4,
     "metadata": {},
     "output_type": "execute_result"
    }
   ],
   "source": [
    "df_2.head()"
   ]
  },
  {
   "cell_type": "code",
   "execution_count": 5,
   "id": "983f8f78-9975-4614-8ad4-1c204542875d",
   "metadata": {
    "tags": []
   },
   "outputs": [
    {
     "data": {
      "text/html": [
       "<div>\n",
       "<style scoped>\n",
       "    .dataframe tbody tr th:only-of-type {\n",
       "        vertical-align: middle;\n",
       "    }\n",
       "\n",
       "    .dataframe tbody tr th {\n",
       "        vertical-align: top;\n",
       "    }\n",
       "\n",
       "    .dataframe thead th {\n",
       "        text-align: right;\n",
       "    }\n",
       "</style>\n",
       "<table border=\"1\" class=\"dataframe\">\n",
       "  <thead>\n",
       "    <tr style=\"text-align: right;\">\n",
       "      <th></th>\n",
       "      <th>satisfaction</th>\n",
       "      <th>Gender</th>\n",
       "      <th>Customer Type</th>\n",
       "      <th>Age</th>\n",
       "      <th>Type of Travel</th>\n",
       "      <th>Class</th>\n",
       "      <th>Flight Distance</th>\n",
       "      <th>Seat comfort</th>\n",
       "      <th>Departure/Arrival time convenient</th>\n",
       "      <th>Food and drink</th>\n",
       "      <th>...</th>\n",
       "      <th>Online support</th>\n",
       "      <th>Ease of Online booking</th>\n",
       "      <th>On-board service</th>\n",
       "      <th>Leg room service</th>\n",
       "      <th>Baggage handling</th>\n",
       "      <th>Checkin service</th>\n",
       "      <th>Cleanliness</th>\n",
       "      <th>Online boarding</th>\n",
       "      <th>Departure Delay in Minutes</th>\n",
       "      <th>Arrival Delay in Minutes</th>\n",
       "    </tr>\n",
       "  </thead>\n",
       "  <tbody>\n",
       "    <tr>\n",
       "      <th>129875</th>\n",
       "      <td>satisfied</td>\n",
       "      <td>Female</td>\n",
       "      <td>disloyal Customer</td>\n",
       "      <td>29</td>\n",
       "      <td>Personal Travel</td>\n",
       "      <td>Eco</td>\n",
       "      <td>1731</td>\n",
       "      <td>5</td>\n",
       "      <td>5</td>\n",
       "      <td>5</td>\n",
       "      <td>...</td>\n",
       "      <td>2</td>\n",
       "      <td>2</td>\n",
       "      <td>3</td>\n",
       "      <td>3</td>\n",
       "      <td>4</td>\n",
       "      <td>4</td>\n",
       "      <td>4</td>\n",
       "      <td>2</td>\n",
       "      <td>0</td>\n",
       "      <td>0.0</td>\n",
       "    </tr>\n",
       "    <tr>\n",
       "      <th>129876</th>\n",
       "      <td>dissatisfied</td>\n",
       "      <td>Male</td>\n",
       "      <td>disloyal Customer</td>\n",
       "      <td>63</td>\n",
       "      <td>Personal Travel</td>\n",
       "      <td>Business</td>\n",
       "      <td>2087</td>\n",
       "      <td>2</td>\n",
       "      <td>3</td>\n",
       "      <td>2</td>\n",
       "      <td>...</td>\n",
       "      <td>1</td>\n",
       "      <td>3</td>\n",
       "      <td>2</td>\n",
       "      <td>3</td>\n",
       "      <td>3</td>\n",
       "      <td>1</td>\n",
       "      <td>2</td>\n",
       "      <td>1</td>\n",
       "      <td>174</td>\n",
       "      <td>172.0</td>\n",
       "    </tr>\n",
       "    <tr>\n",
       "      <th>129877</th>\n",
       "      <td>dissatisfied</td>\n",
       "      <td>Male</td>\n",
       "      <td>disloyal Customer</td>\n",
       "      <td>69</td>\n",
       "      <td>Personal Travel</td>\n",
       "      <td>Eco</td>\n",
       "      <td>2320</td>\n",
       "      <td>3</td>\n",
       "      <td>0</td>\n",
       "      <td>3</td>\n",
       "      <td>...</td>\n",
       "      <td>2</td>\n",
       "      <td>4</td>\n",
       "      <td>4</td>\n",
       "      <td>3</td>\n",
       "      <td>4</td>\n",
       "      <td>2</td>\n",
       "      <td>3</td>\n",
       "      <td>2</td>\n",
       "      <td>155</td>\n",
       "      <td>163.0</td>\n",
       "    </tr>\n",
       "    <tr>\n",
       "      <th>129878</th>\n",
       "      <td>dissatisfied</td>\n",
       "      <td>Male</td>\n",
       "      <td>disloyal Customer</td>\n",
       "      <td>66</td>\n",
       "      <td>Personal Travel</td>\n",
       "      <td>Eco</td>\n",
       "      <td>2450</td>\n",
       "      <td>3</td>\n",
       "      <td>2</td>\n",
       "      <td>3</td>\n",
       "      <td>...</td>\n",
       "      <td>2</td>\n",
       "      <td>3</td>\n",
       "      <td>3</td>\n",
       "      <td>2</td>\n",
       "      <td>3</td>\n",
       "      <td>2</td>\n",
       "      <td>1</td>\n",
       "      <td>2</td>\n",
       "      <td>193</td>\n",
       "      <td>205.0</td>\n",
       "    </tr>\n",
       "    <tr>\n",
       "      <th>129879</th>\n",
       "      <td>dissatisfied</td>\n",
       "      <td>Female</td>\n",
       "      <td>disloyal Customer</td>\n",
       "      <td>38</td>\n",
       "      <td>Personal Travel</td>\n",
       "      <td>Eco</td>\n",
       "      <td>4307</td>\n",
       "      <td>3</td>\n",
       "      <td>4</td>\n",
       "      <td>3</td>\n",
       "      <td>...</td>\n",
       "      <td>3</td>\n",
       "      <td>4</td>\n",
       "      <td>5</td>\n",
       "      <td>5</td>\n",
       "      <td>5</td>\n",
       "      <td>3</td>\n",
       "      <td>3</td>\n",
       "      <td>3</td>\n",
       "      <td>185</td>\n",
       "      <td>186.0</td>\n",
       "    </tr>\n",
       "  </tbody>\n",
       "</table>\n",
       "<p>5 rows × 23 columns</p>\n",
       "</div>"
      ],
      "text/plain": [
       "        satisfaction  Gender      Customer Type  Age   Type of Travel  \\\n",
       "129875     satisfied  Female  disloyal Customer   29  Personal Travel   \n",
       "129876  dissatisfied    Male  disloyal Customer   63  Personal Travel   \n",
       "129877  dissatisfied    Male  disloyal Customer   69  Personal Travel   \n",
       "129878  dissatisfied    Male  disloyal Customer   66  Personal Travel   \n",
       "129879  dissatisfied  Female  disloyal Customer   38  Personal Travel   \n",
       "\n",
       "           Class  Flight Distance  Seat comfort  \\\n",
       "129875       Eco             1731             5   \n",
       "129876  Business             2087             2   \n",
       "129877       Eco             2320             3   \n",
       "129878       Eco             2450             3   \n",
       "129879       Eco             4307             3   \n",
       "\n",
       "        Departure/Arrival time convenient  Food and drink  ...  \\\n",
       "129875                                  5               5  ...   \n",
       "129876                                  3               2  ...   \n",
       "129877                                  0               3  ...   \n",
       "129878                                  2               3  ...   \n",
       "129879                                  4               3  ...   \n",
       "\n",
       "        Online support  Ease of Online booking  On-board service  \\\n",
       "129875               2                       2                 3   \n",
       "129876               1                       3                 2   \n",
       "129877               2                       4                 4   \n",
       "129878               2                       3                 3   \n",
       "129879               3                       4                 5   \n",
       "\n",
       "        Leg room service  Baggage handling  Checkin service  Cleanliness  \\\n",
       "129875                 3                 4                4            4   \n",
       "129876                 3                 3                1            2   \n",
       "129877                 3                 4                2            3   \n",
       "129878                 2                 3                2            1   \n",
       "129879                 5                 5                3            3   \n",
       "\n",
       "        Online boarding  Departure Delay in Minutes  Arrival Delay in Minutes  \n",
       "129875                2                           0                       0.0  \n",
       "129876                1                         174                     172.0  \n",
       "129877                2                         155                     163.0  \n",
       "129878                2                         193                     205.0  \n",
       "129879                3                         185                     186.0  \n",
       "\n",
       "[5 rows x 23 columns]"
      ]
     },
     "execution_count": 5,
     "metadata": {},
     "output_type": "execute_result"
    }
   ],
   "source": [
    "df_2.tail()"
   ]
  },
  {
   "cell_type": "markdown",
   "id": "8457e6f1-b4d1-4fd6-ac7a-fbba3374f023",
   "metadata": {},
   "source": [
    "Information about Dataframe: 129880 rows and 23 columns\n",
    "Information about columns:\n",
    "       'satisfaction', 'Gender', 'Customer Type', 'Age', 'Type of Travel',\n",
    "       'Class', 'Flight Distance', 'Seat comfort',\n",
    "       'Departure/Arrival time convenient', 'Food and drink', 'Gate location',\n",
    "       'Inflight wifi service', 'Inflight entertainment', 'Online support',\n",
    "       'Ease of Online booking', 'On-board service', 'Leg room service',\n",
    "       'Baggage handling', 'Checkin service', 'Cleanliness', 'Online boarding',\n",
    "       'Departure Delay in Minutes', 'Arrival Delay in Minutes'"
   ]
  },
  {
   "cell_type": "code",
   "execution_count": 6,
   "id": "a359b5a1-42e8-4392-a0de-82bd7f4e84e5",
   "metadata": {
    "tags": []
   },
   "outputs": [
    {
     "data": {
      "text/plain": [
       "RangeIndex(start=0, stop=129880, step=1)"
      ]
     },
     "execution_count": 6,
     "metadata": {},
     "output_type": "execute_result"
    }
   ],
   "source": [
    "df_2.index"
   ]
  },
  {
   "cell_type": "code",
   "execution_count": 7,
   "id": "ee1c64a6-99d1-41a1-af59-542f8720cda1",
   "metadata": {
    "tags": []
   },
   "outputs": [
    {
     "data": {
      "text/plain": [
       "Index(['satisfaction', 'Gender', 'Customer Type', 'Age', 'Type of Travel',\n",
       "       'Class', 'Flight Distance', 'Seat comfort',\n",
       "       'Departure/Arrival time convenient', 'Food and drink', 'Gate location',\n",
       "       'Inflight wifi service', 'Inflight entertainment', 'Online support',\n",
       "       'Ease of Online booking', 'On-board service', 'Leg room service',\n",
       "       'Baggage handling', 'Checkin service', 'Cleanliness', 'Online boarding',\n",
       "       'Departure Delay in Minutes', 'Arrival Delay in Minutes'],\n",
       "      dtype='object')"
      ]
     },
     "execution_count": 7,
     "metadata": {},
     "output_type": "execute_result"
    }
   ],
   "source": [
    "df_2.columns"
   ]
  },
  {
   "cell_type": "markdown",
   "id": "38f2d3b0-8646-4c5c-b0f2-d154ffdc111d",
   "metadata": {
    "tags": []
   },
   "source": [
    "### DATA WRANGLING / CLEANING THE DATA"
   ]
  },
  {
   "cell_type": "code",
   "execution_count": 8,
   "id": "077f8cc8-5f8c-4666-99d2-6d61f62b394f",
   "metadata": {
    "tags": []
   },
   "outputs": [
    {
     "name": "stdout",
     "output_type": "stream",
     "text": [
      "Index(['satisfaction', 'gender', 'customer_type', 'age', 'type_of_travel',\n",
      "       'class', 'flight_distance', 'seat_comfort',\n",
      "       'departure/arrival_time_convenient', 'food_and_drink', 'gate_location',\n",
      "       'inflight_wifi_service', 'inflight_entertainment', 'online_support',\n",
      "       'ease_of_online_booking', 'on_board_service', 'leg_room_service',\n",
      "       'baggage_handling', 'checkin_service', 'cleanliness', 'online_boarding',\n",
      "       'departure_delay_in_minutes', 'arrival_delay_in_minutes'],\n",
      "      dtype='object')\n"
     ]
    }
   ],
   "source": [
    "#converting all letters to lower case \n",
    "df_2.columns=df_2.columns.str.replace('-','_')\n",
    "df_2.columns =df_2.columns.str.lower()\n",
    "df_2.columns=df_2.columns.str.replace(' ','_')\n",
    "df_2.columns\n",
    "print(df_2.columns)"
   ]
  },
  {
   "cell_type": "code",
   "execution_count": 9,
   "id": "9d9995a8-2473-49e6-b832-ed4da8b931f0",
   "metadata": {
    "tags": []
   },
   "outputs": [
    {
     "data": {
      "text/plain": [
       "Index(['satisfaction', 'gender', 'customer_type', 'age', 'travel_type',\n",
       "       'class', 'flight_distance', 'seat_comfort',\n",
       "       'departure_arrival_time_convenient', 'refreshments', 'gate_location',\n",
       "       'onboard_wifi', 'inflight_entertainment', 'online_support',\n",
       "       'online_booking', 'onboard_service', 'leg_room', 'baggage_handling',\n",
       "       'checkin_service', 'cleanliness', 'online_boarding', 'departure_delay',\n",
       "       'arrival_delay'],\n",
       "      dtype='object')"
      ]
     },
     "execution_count": 9,
     "metadata": {},
     "output_type": "execute_result"
    }
   ],
   "source": [
    "## Renaming columns for better readability\n",
    "#df_2.columns\n",
    "\n",
    "rename_dict = {\n",
    "    'type_of_travel': 'travel_type',\n",
    "    'departure/arrival_time_convenient': 'departure_arrival_time_convenient',\n",
    "    'ease_of_online_booking': 'online_booking',\n",
    "    'on_board_service': 'onboard_service',\n",
    "    'leg_room_service': 'leg_room',\n",
    "    'departure_delay_in_minutes': 'departure_delay',\n",
    "    'arrival_delay_in_minutes': 'arrival_delay',\n",
    "    'Departure Delay in Minutes': 'departure_delay', \n",
    "    'food_and_drink': 'refreshments',\n",
    "    'inflight_wifi_service': 'onboard_wifi'\n",
    "}\n",
    "df_2.rename(columns=rename_dict, inplace=True)\n",
    "\n",
    "#df.drop(['departure/arrival_time_convenient',arrival_delay_in_minutes,inflight_entertainment,  ], axis=1, inplace=True)\n",
    "#df_2_modified = df_2.rename(columns=rename_dict)\n",
    "#df_3=df_2.copy()\n",
    "#df_3.index\n",
    "#df_3.columns\n",
    "df_2.columns\n"
   ]
  },
  {
   "cell_type": "code",
   "execution_count": 10,
   "id": "92b2c626-c0ae-44a4-bc5c-b0528e41e2e0",
   "metadata": {
    "tags": []
   },
   "outputs": [
    {
     "data": {
      "text/plain": [
       "satisfaction                           0\n",
       "gender                                 0\n",
       "customer_type                          0\n",
       "age                                    0\n",
       "travel_type                            0\n",
       "class                                  0\n",
       "flight_distance                        0\n",
       "seat_comfort                           0\n",
       "departure_arrival_time_convenient      0\n",
       "refreshments                           0\n",
       "gate_location                          0\n",
       "onboard_wifi                           0\n",
       "inflight_entertainment                 0\n",
       "online_support                         0\n",
       "online_booking                         0\n",
       "onboard_service                        0\n",
       "leg_room                               0\n",
       "baggage_handling                       0\n",
       "checkin_service                        0\n",
       "cleanliness                            0\n",
       "online_boarding                        0\n",
       "departure_delay                        0\n",
       "arrival_delay                        393\n",
       "dtype: int64"
      ]
     },
     "execution_count": 10,
     "metadata": {},
     "output_type": "execute_result"
    }
   ],
   "source": [
    "#checking for null values\n",
    "null_values = df_2.isnull().sum()\n",
    "null_values"
   ]
  },
  {
   "cell_type": "code",
   "execution_count": 11,
   "id": "efa82f06-07a7-4134-bef0-f94882b437e7",
   "metadata": {
    "tags": []
   },
   "outputs": [
    {
     "name": "stdout",
     "output_type": "stream",
     "text": [
      "satisfaction                         0\n",
      "gender                               0\n",
      "customer_type                        0\n",
      "age                                  0\n",
      "travel_type                          0\n",
      "class                                0\n",
      "flight_distance                      0\n",
      "seat_comfort                         0\n",
      "departure_arrival_time_convenient    0\n",
      "refreshments                         0\n",
      "gate_location                        0\n",
      "onboard_wifi                         0\n",
      "inflight_entertainment               0\n",
      "online_support                       0\n",
      "online_booking                       0\n",
      "onboard_service                      0\n",
      "leg_room                             0\n",
      "baggage_handling                     0\n",
      "checkin_service                      0\n",
      "cleanliness                          0\n",
      "online_boarding                      0\n",
      "departure_delay                      0\n",
      "arrival_delay                        0\n",
      "dtype: int64\n"
     ]
    }
   ],
   "source": [
    "#filling in the 393 null-values with a numeric\n",
    "## Impute missing values in 'Arrival Delay in Minutes' with its median\n",
    "df_2['arrival_delay'].fillna(df_2['arrival_delay'].median(), inplace=True)\n",
    "\n",
    "# Verify that there are no more missing values\n",
    "print(df_2.isnull().sum())"
   ]
  },
  {
   "cell_type": "code",
   "execution_count": 12,
   "id": "90c3d1b8-5ba0-4ce7-8647-9b701147ad09",
   "metadata": {
    "tags": []
   },
   "outputs": [
    {
     "data": {
      "text/plain": [
       "0           0.0\n",
       "1         305.0\n",
       "2           0.0\n",
       "3           0.0\n",
       "4           0.0\n",
       "          ...  \n",
       "129875      0.0\n",
       "129876    172.0\n",
       "129877    163.0\n",
       "129878    205.0\n",
       "129879    186.0\n",
       "Name: arrival_delay, Length: 129880, dtype: float64"
      ]
     },
     "execution_count": 12,
     "metadata": {},
     "output_type": "execute_result"
    }
   ],
   "source": [
    "df_2.arrival_delay"
   ]
  },
  {
   "cell_type": "code",
   "execution_count": 13,
   "id": "eb0666ef-80e2-47a8-92b8-55f291d50798",
   "metadata": {
    "tags": []
   },
   "outputs": [
    {
     "name": "stdout",
     "output_type": "stream",
     "text": [
      "Empty DataFrame\n",
      "Columns: [satisfaction, gender, customer_type, age, travel_type, class, flight_distance, seat_comfort, departure_arrival_time_convenient, refreshments, gate_location, onboard_wifi, inflight_entertainment, online_support, online_booking, onboard_service, leg_room, baggage_handling, checkin_service, cleanliness, online_boarding, departure_delay, arrival_delay]\n",
      "Index: []\n",
      "\n",
      "[0 rows x 23 columns]\n"
     ]
    }
   ],
   "source": [
    "rows_with_nulls = df_2.isnull().any(axis=1)\n",
    "df_2_with_nulls = df_2[rows_with_nulls]\n",
    "\n",
    "# Display the filtered DataFrame\n",
    "print(df_2_with_nulls)"
   ]
  },
  {
   "cell_type": "code",
   "execution_count": 14,
   "id": "8ffd7efe-a3f5-4e8f-a9b2-9e2c230c7b54",
   "metadata": {
    "tags": []
   },
   "outputs": [
    {
     "name": "stdout",
     "output_type": "stream",
     "text": [
      "False\n",
      "satisfaction                         0\n",
      "gender                               0\n",
      "customer_type                        0\n",
      "age                                  0\n",
      "travel_type                          0\n",
      "class                                0\n",
      "flight_distance                      0\n",
      "seat_comfort                         0\n",
      "departure_arrival_time_convenient    0\n",
      "refreshments                         0\n",
      "gate_location                        0\n",
      "onboard_wifi                         0\n",
      "inflight_entertainment               0\n",
      "online_support                       0\n",
      "online_booking                       0\n",
      "onboard_service                      0\n",
      "leg_room                             0\n",
      "baggage_handling                     0\n",
      "checkin_service                      0\n",
      "cleanliness                          0\n",
      "online_boarding                      0\n",
      "departure_delay                      0\n",
      "arrival_delay                        0\n",
      "dtype: int64\n"
     ]
    }
   ],
   "source": [
    "#checking for na / nan values\n",
    "has_na = df_2.isna().values.any()\n",
    "print(has_na)  # Will print True if there are any NaN values, False otherwise\n",
    "na_counts = df_2.isna().sum()\n",
    "print(na_counts)\n"
   ]
  },
  {
   "cell_type": "code",
   "execution_count": 15,
   "id": "d6192289-0754-4b4f-8319-2c347742ed48",
   "metadata": {
    "tags": []
   },
   "outputs": [
    {
     "name": "stdout",
     "output_type": "stream",
     "text": [
      "satisfaction                         0\n",
      "gender                               0\n",
      "customer_type                        0\n",
      "age                                  0\n",
      "travel_type                          0\n",
      "class                                0\n",
      "flight_distance                      0\n",
      "seat_comfort                         0\n",
      "departure_arrival_time_convenient    0\n",
      "refreshments                         0\n",
      "gate_location                        0\n",
      "onboard_wifi                         0\n",
      "inflight_entertainment               0\n",
      "online_support                       0\n",
      "online_booking                       0\n",
      "onboard_service                      0\n",
      "leg_room                             0\n",
      "baggage_handling                     0\n",
      "checkin_service                      0\n",
      "cleanliness                          0\n",
      "online_boarding                      0\n",
      "departure_delay                      0\n",
      "arrival_delay                        0\n",
      "dtype: int64\n"
     ]
    }
   ],
   "source": [
    "#checking for null values in columns\n",
    "null_values_count = df_2.isnull().sum()\n",
    "\n",
    "# Display the count of null values for each column\n",
    "print(null_values_count)"
   ]
  },
  {
   "cell_type": "code",
   "execution_count": 16,
   "id": "989ef40f-d268-458f-a98a-dcc9ce82442e",
   "metadata": {
    "tags": []
   },
   "outputs": [
    {
     "name": "stdout",
     "output_type": "stream",
     "text": [
      "Empty DataFrame\n",
      "Columns: [satisfaction, gender, customer_type, age, travel_type, class, flight_distance, seat_comfort, departure_arrival_time_convenient, refreshments, gate_location, onboard_wifi, inflight_entertainment, online_support, online_booking, onboard_service, leg_room, baggage_handling, checkin_service, cleanliness, online_boarding, departure_delay, arrival_delay]\n",
      "Index: []\n",
      "\n",
      "[0 rows x 23 columns]\n"
     ]
    }
   ],
   "source": [
    "#showing duplicates\n",
    "duplicates = df_2.duplicated(keep=False)\n",
    "\n",
    "# Filter the DataFrame to show only duplicate rows\n",
    "duplicate_rows = df_2[duplicates]\n",
    "\n",
    "# Display the duplicate rows\n",
    "print(duplicate_rows)\n",
    "\n",
    "df_2.drop_duplicates(inplace=True)"
   ]
  },
  {
   "cell_type": "code",
   "execution_count": 17,
   "id": "7c77b2b7-ba56-4938-b3fd-f5dae681c60d",
   "metadata": {
    "tags": []
   },
   "outputs": [
    {
     "data": {
      "text/plain": [
       "(129880, 23)"
      ]
     },
     "execution_count": 17,
     "metadata": {},
     "output_type": "execute_result"
    }
   ],
   "source": [
    "df_2.shape"
   ]
  },
  {
   "cell_type": "markdown",
   "id": "f9555c04-fa10-44ad-9957-aa96ea4f976e",
   "metadata": {},
   "source": [
    " ## Data Preprocessing\n",
    " ### Checking for outliers\n",
    " ### Using Frequency Analysis Distribution since handling categorical values\n",
    " "
   ]
  },
  {
   "cell_type": "code",
   "execution_count": 18,
   "id": "db84fe5e-d144-42c3-9e62-f5b9c297f554",
   "metadata": {
    "tags": []
   },
   "outputs": [
    {
     "name": "stdout",
     "output_type": "stream",
     "text": [
      "satisfaction\n",
      "satisfied       71087\n",
      "dissatisfied    58793\n",
      "Name: count, dtype: int64\n",
      "\n",
      "\n",
      "gender\n",
      "Female    65899\n",
      "Male      63981\n",
      "Name: count, dtype: int64\n",
      "\n",
      "\n",
      "customer_type\n",
      "Loyal Customer       106100\n",
      "disloyal Customer     23780\n",
      "Name: count, dtype: int64\n",
      "\n",
      "\n",
      "travel_type\n",
      "Business travel    89693\n",
      "Personal Travel    40187\n",
      "Name: count, dtype: int64\n",
      "\n",
      "\n",
      "class\n",
      "Business    62160\n",
      "Eco         58309\n",
      "Eco Plus     9411\n",
      "Name: count, dtype: int64\n",
      "\n",
      "\n"
     ]
    }
   ],
   "source": [
    "import seaborn as sns\n",
    "import matplotlib.pyplot as plt\n",
    "\n",
    "# Example for a single numerical column\n",
    "for column in df_2.select_dtypes(include=['object', 'category']).columns:\n",
    "    print(df_2[column].value_counts())\n",
    "    print(\"\\n\")"
   ]
  },
  {
   "cell_type": "markdown",
   "id": "40420eb8-8d27-42b1-b275-9488f785188f",
   "metadata": {},
   "source": [
    "### Data Consistency Check"
   ]
  },
  {
   "cell_type": "code",
   "execution_count": 19,
   "id": "2e5fb1d5-d22c-4d95-a5a5-cf59e53bd93c",
   "metadata": {
    "tags": []
   },
   "outputs": [
    {
     "name": "stdout",
     "output_type": "stream",
     "text": [
      "['satisfied' 'dissatisfied']\n",
      "['Female' 'Male']\n",
      "['Loyal Customer' 'disloyal Customer']\n",
      "['Personal Travel' 'Business travel']\n",
      "['Eco' 'Business' 'Eco Plus']\n"
     ]
    }
   ],
   "source": [
    "# Applying to a single categorical column\n",
    "print(df_2['satisfaction'].unique())\n",
    "print(df_2['gender'].unique())\n",
    "print(df_2['customer_type'].unique())\n",
    "print(df_2['travel_type'].unique())\n",
    "print(df_2['class'].unique())\n",
    "# Select only categorical columns (you might adjust this based on how your categorical data is represented)\n",
    "#categorical_columns = df_3.select_dtypes(include=['satisfaction', 'category']).columns\n",
    "\n",
    "# Select only categorical columns (you might adjust this based on how your categorical data is represented)\n",
    "#categorical_columns = df_3.select_dtypes(include=['customer_type', 'travel_type', 'class', 'gender']).columns\n",
    "\n",
    "# Loop through each categorical column and print unique values to check for consistency\n",
    "#for column in categorical_columns:\n",
    "    #print(f\"Unique values in '{column}':\")\n",
    "    #print(sorted(df_3[column].unique()))  # Using sorted to list the values in a consistent order\n",
    "    #print(\"\\n\")"
   ]
  },
  {
   "cell_type": "code",
   "execution_count": 20,
   "id": "bae0ce75-641f-43ce-8046-014c333fa415",
   "metadata": {
    "tags": []
   },
   "outputs": [
    {
     "data": {
      "image/png": "[encoded data removed]",
      "text/plain": [
       "<Figure size 1000x500 with 1 Axes>"
      ]
     },
     "metadata": {},
     "output_type": "display_data"
    },
    {
     "data": {
      "image/png": "[encoded data removed]",
      "text/plain": [
       "<Figure size 1000x500 with 1 Axes>"
      ]
     },
     "metadata": {},
     "output_type": "display_data"
    },
    {
     "data": {
      "image/png": "[encoded data removed]",
      "text/plain": [
       "<Figure size 1000x500 with 1 Axes>"
      ]
     },
     "metadata": {},
     "output_type": "display_data"
    },
    {
     "data": {
      "image/png": "[encoded data removed]",
      "text/plain": [
       "<Figure size 1000x500 with 1 Axes>"
      ]
     },
     "metadata": {},
     "output_type": "display_data"
    },
    {
     "data": {
      "image/png": "[encoded data removed]",
      "text/plain": [
       "<Figure size 1000x500 with 1 Axes>"
      ]
     },
     "metadata": {},
     "output_type": "display_data"
    }
   ],
   "source": [
    "# For this categorical data, bar charts or count plots will be insightful.\n",
    "import pandas as pd\n",
    "import seaborn as sns\n",
    "import matplotlib.pyplot as plt\n",
    "\n",
    "#Defining the list of columns  to perform EDA on\n",
    "categorical_columns = ['satisfaction', 'gender', 'customer_type', 'age', 'travel_type']\n",
    "\n",
    "# Plotting of above - chosen categorical variables\n",
    "for column in categorical_columns:\n",
    "    plt.figure(figsize=(10, 5))\n",
    "    sns.countplot(x=column, data=df_2)\n",
    "    plt.title(f'Distribution of {column}')\n",
    "    plt.xticks(rotation=45)\n",
    "    plt.show()"
   ]
  },
  {
   "cell_type": "markdown",
   "id": "fea02b20-ef58-4e69-a798-98db7d8adaf3",
   "metadata": {},
   "source": [
    "### Converting categorical variables into numeric. \n",
    "### In this case, the values are nominal since no intrinsic order, hence using One-Hot Encoding"
   ]
  },
  {
   "cell_type": "markdown",
   "id": "713bd56a-f053-49fe-aa2a-14be3fdd1ca0",
   "metadata": {},
   "source": [
    "### Converting the column 'satisfaction' into a numeric value"
   ]
  },
  {
   "cell_type": "code",
   "execution_count": 21,
   "id": "8f4e8e69-0dd1-4d8b-9f83-3d11d80c12f2",
   "metadata": {
    "tags": []
   },
   "outputs": [],
   "source": [
    "#importing more libraries for use:\n",
    "from sklearn.preprocessing import OneHotEncoder "
   ]
  },
  {
   "cell_type": "code",
   "execution_count": 22,
   "id": "9f58bca4-7195-4d7c-a86b-bdc8988e1292",
   "metadata": {
    "tags": []
   },
   "outputs": [
    {
     "data": {
      "text/html": [
       "<div>\n",
       "<style scoped>\n",
       "    .dataframe tbody tr th:only-of-type {\n",
       "        vertical-align: middle;\n",
       "    }\n",
       "\n",
       "    .dataframe tbody tr th {\n",
       "        vertical-align: top;\n",
       "    }\n",
       "\n",
       "    .dataframe thead th {\n",
       "        text-align: right;\n",
       "    }\n",
       "</style>\n",
       "<table border=\"1\" class=\"dataframe\">\n",
       "  <thead>\n",
       "    <tr style=\"text-align: right;\">\n",
       "      <th></th>\n",
       "      <th>satisfaction</th>\n",
       "      <th>gender</th>\n",
       "      <th>customer_type</th>\n",
       "      <th>age</th>\n",
       "      <th>travel_type</th>\n",
       "      <th>class</th>\n",
       "      <th>flight_distance</th>\n",
       "      <th>seat_comfort</th>\n",
       "      <th>departure_arrival_time_convenient</th>\n",
       "      <th>refreshments</th>\n",
       "      <th>...</th>\n",
       "      <th>online_support</th>\n",
       "      <th>online_booking</th>\n",
       "      <th>onboard_service</th>\n",
       "      <th>leg_room</th>\n",
       "      <th>baggage_handling</th>\n",
       "      <th>checkin_service</th>\n",
       "      <th>cleanliness</th>\n",
       "      <th>online_boarding</th>\n",
       "      <th>departure_delay</th>\n",
       "      <th>arrival_delay</th>\n",
       "    </tr>\n",
       "  </thead>\n",
       "  <tbody>\n",
       "    <tr>\n",
       "      <th>0</th>\n",
       "      <td>1.0</td>\n",
       "      <td>Female</td>\n",
       "      <td>Loyal Customer</td>\n",
       "      <td>65</td>\n",
       "      <td>Personal Travel</td>\n",
       "      <td>Eco</td>\n",
       "      <td>265</td>\n",
       "      <td>0</td>\n",
       "      <td>0</td>\n",
       "      <td>0</td>\n",
       "      <td>...</td>\n",
       "      <td>2</td>\n",
       "      <td>3</td>\n",
       "      <td>3</td>\n",
       "      <td>0</td>\n",
       "      <td>3</td>\n",
       "      <td>5</td>\n",
       "      <td>3</td>\n",
       "      <td>2</td>\n",
       "      <td>0</td>\n",
       "      <td>0.0</td>\n",
       "    </tr>\n",
       "    <tr>\n",
       "      <th>1</th>\n",
       "      <td>1.0</td>\n",
       "      <td>Male</td>\n",
       "      <td>Loyal Customer</td>\n",
       "      <td>47</td>\n",
       "      <td>Personal Travel</td>\n",
       "      <td>Business</td>\n",
       "      <td>2464</td>\n",
       "      <td>0</td>\n",
       "      <td>0</td>\n",
       "      <td>0</td>\n",
       "      <td>...</td>\n",
       "      <td>2</td>\n",
       "      <td>3</td>\n",
       "      <td>4</td>\n",
       "      <td>4</td>\n",
       "      <td>4</td>\n",
       "      <td>2</td>\n",
       "      <td>3</td>\n",
       "      <td>2</td>\n",
       "      <td>310</td>\n",
       "      <td>305.0</td>\n",
       "    </tr>\n",
       "    <tr>\n",
       "      <th>2</th>\n",
       "      <td>1.0</td>\n",
       "      <td>Female</td>\n",
       "      <td>Loyal Customer</td>\n",
       "      <td>15</td>\n",
       "      <td>Personal Travel</td>\n",
       "      <td>Eco</td>\n",
       "      <td>2138</td>\n",
       "      <td>0</td>\n",
       "      <td>0</td>\n",
       "      <td>0</td>\n",
       "      <td>...</td>\n",
       "      <td>2</td>\n",
       "      <td>2</td>\n",
       "      <td>3</td>\n",
       "      <td>3</td>\n",
       "      <td>4</td>\n",
       "      <td>4</td>\n",
       "      <td>4</td>\n",
       "      <td>2</td>\n",
       "      <td>0</td>\n",
       "      <td>0.0</td>\n",
       "    </tr>\n",
       "    <tr>\n",
       "      <th>3</th>\n",
       "      <td>1.0</td>\n",
       "      <td>Female</td>\n",
       "      <td>Loyal Customer</td>\n",
       "      <td>60</td>\n",
       "      <td>Personal Travel</td>\n",
       "      <td>Eco</td>\n",
       "      <td>623</td>\n",
       "      <td>0</td>\n",
       "      <td>0</td>\n",
       "      <td>0</td>\n",
       "      <td>...</td>\n",
       "      <td>3</td>\n",
       "      <td>1</td>\n",
       "      <td>1</td>\n",
       "      <td>0</td>\n",
       "      <td>1</td>\n",
       "      <td>4</td>\n",
       "      <td>1</td>\n",
       "      <td>3</td>\n",
       "      <td>0</td>\n",
       "      <td>0.0</td>\n",
       "    </tr>\n",
       "    <tr>\n",
       "      <th>4</th>\n",
       "      <td>1.0</td>\n",
       "      <td>Female</td>\n",
       "      <td>Loyal Customer</td>\n",
       "      <td>70</td>\n",
       "      <td>Personal Travel</td>\n",
       "      <td>Eco</td>\n",
       "      <td>354</td>\n",
       "      <td>0</td>\n",
       "      <td>0</td>\n",
       "      <td>0</td>\n",
       "      <td>...</td>\n",
       "      <td>4</td>\n",
       "      <td>2</td>\n",
       "      <td>2</td>\n",
       "      <td>0</td>\n",
       "      <td>2</td>\n",
       "      <td>4</td>\n",
       "      <td>2</td>\n",
       "      <td>5</td>\n",
       "      <td>0</td>\n",
       "      <td>0.0</td>\n",
       "    </tr>\n",
       "  </tbody>\n",
       "</table>\n",
       "<p>5 rows × 23 columns</p>\n",
       "</div>"
      ],
      "text/plain": [
       "   satisfaction  gender   customer_type  age      travel_type     class  \\\n",
       "0           1.0  Female  Loyal Customer   65  Personal Travel       Eco   \n",
       "1           1.0    Male  Loyal Customer   47  Personal Travel  Business   \n",
       "2           1.0  Female  Loyal Customer   15  Personal Travel       Eco   \n",
       "3           1.0  Female  Loyal Customer   60  Personal Travel       Eco   \n",
       "4           1.0  Female  Loyal Customer   70  Personal Travel       Eco   \n",
       "\n",
       "   flight_distance  seat_comfort  departure_arrival_time_convenient  \\\n",
       "0              265             0                                  0   \n",
       "1             2464             0                                  0   \n",
       "2             2138             0                                  0   \n",
       "3              623             0                                  0   \n",
       "4              354             0                                  0   \n",
       "\n",
       "   refreshments  ...  online_support  online_booking  onboard_service  \\\n",
       "0             0  ...               2               3                3   \n",
       "1             0  ...               2               3                4   \n",
       "2             0  ...               2               2                3   \n",
       "3             0  ...               3               1                1   \n",
       "4             0  ...               4               2                2   \n",
       "\n",
       "   leg_room  baggage_handling  checkin_service  cleanliness  online_boarding  \\\n",
       "0         0                 3                5            3                2   \n",
       "1         4                 4                2            3                2   \n",
       "2         3                 4                4            4                2   \n",
       "3         0                 1                4            1                3   \n",
       "4         0                 2                4            2                5   \n",
       "\n",
       "   departure_delay  arrival_delay  \n",
       "0                0            0.0  \n",
       "1              310          305.0  \n",
       "2                0            0.0  \n",
       "3                0            0.0  \n",
       "4                0            0.0  \n",
       "\n",
       "[5 rows x 23 columns]"
      ]
     },
     "execution_count": 22,
     "metadata": {},
     "output_type": "execute_result"
    }
   ],
   "source": [
    "df_2['satisfaction'] = OneHotEncoder(drop='first').fit_transform(df_2[['satisfaction']]).toarray()\n",
    "df_2.head()"
   ]
  },
  {
   "cell_type": "code",
   "execution_count": 23,
   "id": "c8fbea3c-e38e-49c8-b571-0dce9662e96d",
   "metadata": {
    "tags": []
   },
   "outputs": [
    {
     "data": {
      "text/html": [
       "<div>\n",
       "<style scoped>\n",
       "    .dataframe tbody tr th:only-of-type {\n",
       "        vertical-align: middle;\n",
       "    }\n",
       "\n",
       "    .dataframe tbody tr th {\n",
       "        vertical-align: top;\n",
       "    }\n",
       "\n",
       "    .dataframe thead th {\n",
       "        text-align: right;\n",
       "    }\n",
       "</style>\n",
       "<table border=\"1\" class=\"dataframe\">\n",
       "  <thead>\n",
       "    <tr style=\"text-align: right;\">\n",
       "      <th></th>\n",
       "      <th>satisfaction</th>\n",
       "      <th>gender</th>\n",
       "      <th>customer_type</th>\n",
       "      <th>age</th>\n",
       "      <th>travel_type</th>\n",
       "      <th>class</th>\n",
       "      <th>flight_distance</th>\n",
       "      <th>seat_comfort</th>\n",
       "      <th>departure_arrival_time_convenient</th>\n",
       "      <th>refreshments</th>\n",
       "      <th>...</th>\n",
       "      <th>online_support</th>\n",
       "      <th>online_booking</th>\n",
       "      <th>onboard_service</th>\n",
       "      <th>leg_room</th>\n",
       "      <th>baggage_handling</th>\n",
       "      <th>checkin_service</th>\n",
       "      <th>cleanliness</th>\n",
       "      <th>online_boarding</th>\n",
       "      <th>departure_delay</th>\n",
       "      <th>arrival_delay</th>\n",
       "    </tr>\n",
       "  </thead>\n",
       "  <tbody>\n",
       "    <tr>\n",
       "      <th>129875</th>\n",
       "      <td>1.0</td>\n",
       "      <td>Female</td>\n",
       "      <td>disloyal Customer</td>\n",
       "      <td>29</td>\n",
       "      <td>Personal Travel</td>\n",
       "      <td>Eco</td>\n",
       "      <td>1731</td>\n",
       "      <td>5</td>\n",
       "      <td>5</td>\n",
       "      <td>5</td>\n",
       "      <td>...</td>\n",
       "      <td>2</td>\n",
       "      <td>2</td>\n",
       "      <td>3</td>\n",
       "      <td>3</td>\n",
       "      <td>4</td>\n",
       "      <td>4</td>\n",
       "      <td>4</td>\n",
       "      <td>2</td>\n",
       "      <td>0</td>\n",
       "      <td>0.0</td>\n",
       "    </tr>\n",
       "    <tr>\n",
       "      <th>129876</th>\n",
       "      <td>0.0</td>\n",
       "      <td>Male</td>\n",
       "      <td>disloyal Customer</td>\n",
       "      <td>63</td>\n",
       "      <td>Personal Travel</td>\n",
       "      <td>Business</td>\n",
       "      <td>2087</td>\n",
       "      <td>2</td>\n",
       "      <td>3</td>\n",
       "      <td>2</td>\n",
       "      <td>...</td>\n",
       "      <td>1</td>\n",
       "      <td>3</td>\n",
       "      <td>2</td>\n",
       "      <td>3</td>\n",
       "      <td>3</td>\n",
       "      <td>1</td>\n",
       "      <td>2</td>\n",
       "      <td>1</td>\n",
       "      <td>174</td>\n",
       "      <td>172.0</td>\n",
       "    </tr>\n",
       "    <tr>\n",
       "      <th>129877</th>\n",
       "      <td>0.0</td>\n",
       "      <td>Male</td>\n",
       "      <td>disloyal Customer</td>\n",
       "      <td>69</td>\n",
       "      <td>Personal Travel</td>\n",
       "      <td>Eco</td>\n",
       "      <td>2320</td>\n",
       "      <td>3</td>\n",
       "      <td>0</td>\n",
       "      <td>3</td>\n",
       "      <td>...</td>\n",
       "      <td>2</td>\n",
       "      <td>4</td>\n",
       "      <td>4</td>\n",
       "      <td>3</td>\n",
       "      <td>4</td>\n",
       "      <td>2</td>\n",
       "      <td>3</td>\n",
       "      <td>2</td>\n",
       "      <td>155</td>\n",
       "      <td>163.0</td>\n",
       "    </tr>\n",
       "    <tr>\n",
       "      <th>129878</th>\n",
       "      <td>0.0</td>\n",
       "      <td>Male</td>\n",
       "      <td>disloyal Customer</td>\n",
       "      <td>66</td>\n",
       "      <td>Personal Travel</td>\n",
       "      <td>Eco</td>\n",
       "      <td>2450</td>\n",
       "      <td>3</td>\n",
       "      <td>2</td>\n",
       "      <td>3</td>\n",
       "      <td>...</td>\n",
       "      <td>2</td>\n",
       "      <td>3</td>\n",
       "      <td>3</td>\n",
       "      <td>2</td>\n",
       "      <td>3</td>\n",
       "      <td>2</td>\n",
       "      <td>1</td>\n",
       "      <td>2</td>\n",
       "      <td>193</td>\n",
       "      <td>205.0</td>\n",
       "    </tr>\n",
       "    <tr>\n",
       "      <th>129879</th>\n",
       "      <td>0.0</td>\n",
       "      <td>Female</td>\n",
       "      <td>disloyal Customer</td>\n",
       "      <td>38</td>\n",
       "      <td>Personal Travel</td>\n",
       "      <td>Eco</td>\n",
       "      <td>4307</td>\n",
       "      <td>3</td>\n",
       "      <td>4</td>\n",
       "      <td>3</td>\n",
       "      <td>...</td>\n",
       "      <td>3</td>\n",
       "      <td>4</td>\n",
       "      <td>5</td>\n",
       "      <td>5</td>\n",
       "      <td>5</td>\n",
       "      <td>3</td>\n",
       "      <td>3</td>\n",
       "      <td>3</td>\n",
       "      <td>185</td>\n",
       "      <td>186.0</td>\n",
       "    </tr>\n",
       "  </tbody>\n",
       "</table>\n",
       "<p>5 rows × 23 columns</p>\n",
       "</div>"
      ],
      "text/plain": [
       "        satisfaction  gender      customer_type  age      travel_type  \\\n",
       "129875           1.0  Female  disloyal Customer   29  Personal Travel   \n",
       "129876           0.0    Male  disloyal Customer   63  Personal Travel   \n",
       "129877           0.0    Male  disloyal Customer   69  Personal Travel   \n",
       "129878           0.0    Male  disloyal Customer   66  Personal Travel   \n",
       "129879           0.0  Female  disloyal Customer   38  Personal Travel   \n",
       "\n",
       "           class  flight_distance  seat_comfort  \\\n",
       "129875       Eco             1731             5   \n",
       "129876  Business             2087             2   \n",
       "129877       Eco             2320             3   \n",
       "129878       Eco             2450             3   \n",
       "129879       Eco             4307             3   \n",
       "\n",
       "        departure_arrival_time_convenient  refreshments  ...  online_support  \\\n",
       "129875                                  5             5  ...               2   \n",
       "129876                                  3             2  ...               1   \n",
       "129877                                  0             3  ...               2   \n",
       "129878                                  2             3  ...               2   \n",
       "129879                                  4             3  ...               3   \n",
       "\n",
       "        online_booking  onboard_service  leg_room  baggage_handling  \\\n",
       "129875               2                3         3                 4   \n",
       "129876               3                2         3                 3   \n",
       "129877               4                4         3                 4   \n",
       "129878               3                3         2                 3   \n",
       "129879               4                5         5                 5   \n",
       "\n",
       "        checkin_service  cleanliness  online_boarding  departure_delay  \\\n",
       "129875                4            4                2                0   \n",
       "129876                1            2                1              174   \n",
       "129877                2            3                2              155   \n",
       "129878                2            1                2              193   \n",
       "129879                3            3                3              185   \n",
       "\n",
       "        arrival_delay  \n",
       "129875            0.0  \n",
       "129876          172.0  \n",
       "129877          163.0  \n",
       "129878          205.0  \n",
       "129879          186.0  \n",
       "\n",
       "[5 rows x 23 columns]"
      ]
     },
     "execution_count": 23,
     "metadata": {},
     "output_type": "execute_result"
    }
   ],
   "source": [
    "df_2.tail()"
   ]
  },
  {
   "cell_type": "markdown",
   "id": "4497094d-b52d-4abb-b12c-cbc05b19b938",
   "metadata": {},
   "source": [
    "### Splitting the data up to perform training and testing "
   ]
  },
  {
   "cell_type": "code",
   "execution_count": 24,
   "id": "d58239ca-d6ea-4e44-a293-05cef6e69fbd",
   "metadata": {
    "tags": []
   },
   "outputs": [],
   "source": [
    "X = df_2[['online_booking']]\n",
    "y = df_2['satisfaction']\n",
    "#training with 70 / 30\n",
    "X_train, X_test, y_train, y_test = train_test_split(X,y, test_size=0.3, random_state=42)"
   ]
  },
  {
   "cell_type": "code",
   "execution_count": 51,
   "id": "4b8234ef-224c-4b0d-a378-0a1bd140310d",
   "metadata": {
    "tags": []
   },
   "outputs": [],
   "source": [
    "clf = LogisticRegression().fit(X_train,y_train)"
   ]
  },
  {
   "cell_type": "code",
   "execution_count": 26,
   "id": "531cda64-f60c-4ccc-b132-63a482d2216a",
   "metadata": {
    "tags": []
   },
   "outputs": [
    {
     "data": {
      "text/plain": [
       "array([[0.75552539]])"
      ]
     },
     "execution_count": 26,
     "metadata": {},
     "output_type": "execute_result"
    }
   ],
   "source": [
    "clf.coef_"
   ]
  },
  {
   "cell_type": "code",
   "execution_count": 27,
   "id": "f5f21044-1bff-4ce9-acaa-4a1a41cb7761",
   "metadata": {
    "tags": []
   },
   "outputs": [
    {
     "data": {
      "text/plain": [
       "array([-2.43043036])"
      ]
     },
     "execution_count": 27,
     "metadata": {},
     "output_type": "execute_result"
    }
   ],
   "source": [
    "clf.intercept_"
   ]
  },
  {
   "cell_type": "code",
   "execution_count": 50,
   "id": "77a3ee21-7ad4-45d7-8f6e-d3a0eff58ba0",
   "metadata": {
    "tags": []
   },
   "outputs": [
    {
     "data": {
      "text/plain": [
       "array([-2.41342683])"
      ]
     },
     "execution_count": 50,
     "metadata": {},
     "output_type": "execute_result"
    }
   ],
   "source": [
    "#training with 80/20\n",
    "X = df_2[['online_booking']]\n",
    "y = df_2['satisfaction']\n",
    "\n",
    "#training with 70 / 30\n",
    "X_train, X_test, y_train, y_test = train_test_split(X,y, test_size=0.2, random_state=42)\n",
    "clf = LogisticRegression().fit(X_train,y_train)\n",
    "clf.coef_\n",
    "clf.intercept_"
   ]
  },
  {
   "cell_type": "code",
   "execution_count": 29,
   "id": "9c51b09a-9e4c-4484-965e-19e37c905e07",
   "metadata": {},
   "outputs": [],
   "source": [
    "# # Importing the necessary libraries needed in the visualization\n",
    "\n",
    "import matplotlib.pyplot as plt\n",
    "import seaborn as sns\n"
   ]
  },
  {
   "cell_type": "code",
   "execution_count": 30,
   "id": "10c55cee-9924-4e6a-acf6-23f7f909c9f0",
   "metadata": {
    "tags": []
   },
   "outputs": [
    {
     "data": {
      "text/plain": [
       "<Axes: xlabel='satisfaction', ylabel='count'>"
      ]
     },
     "execution_count": 30,
     "metadata": {},
     "output_type": "execute_result"
    },
    {
     "data": {
      "image/png": "[encoded data removed]",
      "text/plain": [
       "<Figure size 640x480 with 1 Axes>"
      ]
     },
     "metadata": {},
     "output_type": "display_data"
    }
   ],
   "source": [
    "sns.countplot(x='satisfaction',data=df_2)"
   ]
  },
  {
   "cell_type": "code",
   "execution_count": 31,
   "id": "180eab25-21a7-4a88-bd3c-6fc538528e93",
   "metadata": {
    "tags": []
   },
   "outputs": [
    {
     "data": {
      "text/plain": [
       "<Axes: xlabel='online_booking', ylabel='count'>"
      ]
     },
     "execution_count": 31,
     "metadata": {},
     "output_type": "execute_result"
    },
    {
     "data": {
      "image/png": "[encoded data removed]",
      "text/plain": [
       "<Figure size 640x480 with 1 Axes>"
      ]
     },
     "metadata": {},
     "output_type": "display_data"
    }
   ],
   "source": [
    "sns.countplot(x='online_booking',data=df_2, hue ='satisfaction')"
   ]
  },
  {
   "cell_type": "code",
   "execution_count": 32,
   "id": "86c3d31b-472a-4ad2-b3e5-edd873f8fbf2",
   "metadata": {
    "tags": []
   },
   "outputs": [
    {
     "data": {
      "text/plain": [
       "Index(['satisfaction', 'gender', 'customer_type', 'age', 'travel_type',\n",
       "       'class', 'flight_distance', 'seat_comfort',\n",
       "       'departure_arrival_time_convenient', 'refreshments', 'gate_location',\n",
       "       'onboard_wifi', 'inflight_entertainment', 'online_support',\n",
       "       'online_booking', 'onboard_service', 'leg_room', 'baggage_handling',\n",
       "       'checkin_service', 'cleanliness', 'online_boarding', 'departure_delay',\n",
       "       'arrival_delay'],\n",
       "      dtype='object')"
      ]
     },
     "execution_count": 32,
     "metadata": {},
     "output_type": "execute_result"
    }
   ],
   "source": [
    "df_2.columns"
   ]
  },
  {
   "cell_type": "code",
   "execution_count": 33,
   "id": "af2e018f-cc7d-4978-8355-b0c65908acbb",
   "metadata": {
    "tags": []
   },
   "outputs": [
    {
     "data": {
      "text/plain": [
       "<Axes: xlabel='online_booking', ylabel='satisfaction'>"
      ]
     },
     "execution_count": 33,
     "metadata": {},
     "output_type": "execute_result"
    },
    {
     "data": {
      "image/png": "[encoded data removed]",
      "text/plain": [
       "<Figure size 640x480 with 1 Axes>"
      ]
     },
     "metadata": {},
     "output_type": "display_data"
    }
   ],
   "source": [
    "\n",
    "sns.regplot(x='online_booking', y='satisfaction', data=df_2, logistic=True, ci=None)"
   ]
  },
  {
   "cell_type": "markdown",
   "id": "64977029-14f9-4b3f-bf30-bbc17f962baf",
   "metadata": {},
   "source": [
    " Graph sort of confirms that a better online booking possiblity increases the satisfaction of the customers "
   ]
  },
  {
   "cell_type": "markdown",
   "id": "d20925ec-6d01-4c6c-b253-86b15788ec0d",
   "metadata": {},
   "source": [
    "### Using the values given above, a prediction of the data set is initiated\n"
   ]
  },
  {
   "cell_type": "code",
   "execution_count": 34,
   "id": "3bce909c-5841-4de2-a026-985d24984352",
   "metadata": {},
   "outputs": [],
   "source": [
    "## This line below uses the trained classifier clf to predict the class labels \n",
    "#for the test set X_test. The output y_pred contains the predicted labels,\n",
    "#where 1 represents one class (often \"positive\" or the presence of a condition)\n",
    "#and 0 represents the other class \n",
    "#(often \"negative\" or the absence of a condition)."
   ]
  },
  {
   "cell_type": "code",
   "execution_count": 35,
   "id": "0b1cd013-3838-4c9f-8aee-b2bfbfb7951c",
   "metadata": {
    "tags": []
   },
   "outputs": [
    {
     "name": "stdout",
     "output_type": "stream",
     "text": [
      "[1. 1. 1. ... 1. 0. 0.]\n"
     ]
    }
   ],
   "source": [
    "y_pred = clf.predict(X_test)\n",
    "print (y_pred)"
   ]
  },
  {
   "cell_type": "code",
   "execution_count": 36,
   "id": "898b2170-0fe3-4f2e-93cf-ca6dcf327bd2",
   "metadata": {
    "tags": []
   },
   "outputs": [
    {
     "data": {
      "text/plain": [
       "array([[0.35602408, 0.64397592],\n",
       "       [0.35602408, 0.64397592],\n",
       "       [0.35602408, 0.64397592],\n",
       "       ...,\n",
       "       [0.35602408, 0.64397592],\n",
       "       [0.53963156, 0.46036844],\n",
       "       [0.84049348, 0.15950652]])"
      ]
     },
     "execution_count": 36,
     "metadata": {},
     "output_type": "execute_result"
    }
   ],
   "source": [
    "# the probability on the X-test with PREDICT_PROBA\n",
    "clf.predict_proba(X_test)"
   ]
  },
  {
   "cell_type": "code",
   "execution_count": 37,
   "id": "ab94719c-4264-435b-b628-78d6330507f0",
   "metadata": {
    "tags": []
   },
   "outputs": [
    {
     "data": {
      "text/plain": [
       "array([1., 1., 1., ..., 1., 0., 0.])"
      ]
     },
     "execution_count": 37,
     "metadata": {},
     "output_type": "execute_result"
    }
   ],
   "source": [
    "# with the use of PREDICT the outputs of 1s and 0s are achieved \n",
    "clf.predict(X_test)"
   ]
  },
  {
   "cell_type": "code",
   "execution_count": 38,
   "id": "983eec91-41d9-4ee7-bc97-7fb0fd8fe51a",
   "metadata": {
    "tags": []
   },
   "outputs": [],
   "source": [
    "import sklearn.metrics as metrics"
   ]
  },
  {
   "cell_type": "code",
   "execution_count": 39,
   "id": "257abb8b-f4e2-493b-8b42-cdfd9b5d5744",
   "metadata": {
    "tags": []
   },
   "outputs": [
    {
     "name": "stdout",
     "output_type": "stream",
     "text": [
      "Accuracy: 0.726363\n",
      "Precision: 0.742270\n",
      "Recall: 0.770506\n",
      "F1 Score: 0.756124\n"
     ]
    }
   ],
   "source": [
    "# Running an analysis of all results\n",
    "print(\"Accuracy:\", \"%.6f\" % metrics.accuracy_score(y_test, y_pred))\n",
    "print(\"Precision:\", \"%.6f\" % metrics.precision_score(y_test, y_pred))\n",
    "print(\"Recall:\", \"%.6f\" % metrics.recall_score(y_test, y_pred))\n",
    "print(\"F1 Score:\", \"%.6f\" % metrics.f1_score(y_test, y_pred))"
   ]
  },
  {
   "cell_type": "code",
   "execution_count": 40,
   "id": "dc956506-2191-4b3e-b64d-946313391a2c",
   "metadata": {},
   "outputs": [],
   "source": [
    "##Metrics\n",
    "#Accuracy: This is the ratio of correctly predicted observations to the total observations.\n",
    "#It gives you the fraction of the total number of correct predictions.\n",
    "\n",
    "#Precision: This is the ratio of correctly predicted positive observations to the \n",
    "#total predicted positives. It is a measure of the quality of the positive class predictions.\n",
    "\n",
    "#Recall (Sensitivity): This is the ratio of correctly predicted \n",
    "#positive observations to all observations in the actual class. It measures how well \n",
    "#the model can find the positive instances.\n",
    "\n",
    "#F1 Score: This is the weighted average of Precision and Recall.\n",
    "#It takes both false positives and false negatives into account.\n",
    "#An F1 score reaches its best value at 1 (perfect precision and recall) and worst at 0."
   ]
  },
  {
   "cell_type": "code",
   "execution_count": 42,
   "id": "da7a686c-ae6a-4b66-af56-6688ff7b8081",
   "metadata": {},
   "outputs": [],
   "source": [
    "# Precision results are alright given model selected and available data.\n",
    " #Accuracy can be further increade by using other ML models\n",
    " #Precision is calculated as the ratio of corrctly predicted positive observations\n",
    " #Recall is the ratio of correctly predicted positive observations in actual class\n",
    " #F1-score is the weighted average of precision and recall"
   ]
  },
  {
   "cell_type": "markdown",
   "id": "35c8caed-a990-4574-826d-4ed474a52735",
   "metadata": {},
   "source": [
    "# Making use of the CONFUSION MATRIX, BUILDING AND EVALUATING IT"
   ]
  },
  {
   "cell_type": "code",
   "execution_count": null,
   "id": "dd68b5b8-546a-4299-97db-ebc7807ecdfb",
   "metadata": {
    "tags": []
   },
   "outputs": [],
   "source": [
    "from sklearn.model_selection import train_test_split\n",
    "from sklearn.preprocessing import LabelEncoder, StandardScaler\n",
    "from sklearn.linear_model import LogisticRegression\n",
    "from sklearn.metrics import accuracy_score, confusion_matrix, classification_report\n",
    "import pandas as pd\n",
    "from sklearn.metrics import confusion_matrix"
   ]
  },
  {
   "cell_type": "code",
   "execution_count": null,
   "id": "c301edb7-697f-45ac-8da7-785acea62d95",
   "metadata": {
    "tags": []
   },
   "outputs": [],
   "source": [
    "# Handle missing values\n",
    "df_2['arrival_delay'].fillna(df_2['arrival_delay'].median(), inplace=True)\n",
    "\n",
    "# Encode categorical variables and the target variable\n",
    "df_2_encoded = pd.get_dummies(df_2, columns=['gender', 'customer_type', 'travel_type', 'class'])\n",
    "label_encoder = LabelEncoder()\n",
    "df_2_encoded['satisfaction'] = label_encoder.fit_transform(df_2_encoded['satisfaction'])"
   ]
  },
  {
   "cell_type": "code",
   "execution_count": null,
   "id": "1d9540e8-a651-437f-ac5b-b8fabbd8f288",
   "metadata": {
    "tags": []
   },
   "outputs": [],
   "source": [
    "# Define features and target\n",
    "X = df_2_encoded.drop('satisfaction', axis=1)\n",
    "y = df_2_encoded['satisfaction']\n",
    "\n",
    "# Split the dataset\n",
    "X_train, X_test, y_train, y_test = train_test_split(X, y, test_size=0.2, random_state=42)\n",
    "\n",
    "# Standardize features\n",
    "scaler = StandardScaler()\n",
    "X_train_scaled = scaler.fit_transform(X_train)\n",
    "X_test_scaled = scaler.transform(X_test)\n",
    "\n",
    "# Define and train the logistic regression model\n",
    "logistic_model = LogisticRegression(max_iter=1000)\n",
    "logistic_model.fit(X_train_scaled, y_train)"
   ]
  },
  {
   "cell_type": "code",
   "execution_count": null,
   "id": "029f4432-d4de-4e69-9c19-ebb685c3f519",
   "metadata": {
    "tags": []
   },
   "outputs": [],
   "source": [
    "# Make predictions\n",
    "y_pred = logistic_model.predict(X_test_scaled)\n"
   ]
  },
  {
   "cell_type": "code",
   "execution_count": null,
   "id": "5da2a8a6-e9ff-4e1c-ad63-4d0c339dd193",
   "metadata": {
    "tags": []
   },
   "outputs": [],
   "source": [
    "# Evaluate the model\n",
    "accuracy = accuracy_score(y_test, y_pred)\n",
    "conf_matrix = confusion_matrix(y_test, y_pred)\n",
    "class_report = classification_report(y_test, y_pred)\n",
    "\n",
    "# Print evaluation metrics\n",
    "print(f\"Accuracy: {accuracy}\")\n",
    "print(f\"Confusion Matrix: \\n{conf_matrix}\")\n",
    "print(f\"Classification Report: \\n{class_report}\")\n"
   ]
  },
  {
   "cell_type": "code",
   "execution_count": null,
   "id": "6c17a97e-ee03-44bc-b5b5-482687ed3785",
   "metadata": {
    "tags": []
   },
   "outputs": [],
   "source": [
    "cm = metrics.confusion_matrix(y_test, y_pred, labels = clf.classes_)\n",
    "disp = metrics.ConfusionMatrixDisplay(confusion_matrix = cm,display_labels = clf.classes_)\n",
    "disp.plot()"
   ]
  },
  {
   "cell_type": "code",
   "execution_count": null,
   "id": "e6f67174-08d3-4183-b970-a9d521096202",
   "metadata": {},
   "outputs": [],
   "source": [
    "#True negatives (TN): The count of actual \"No\" instances correctly predicted as \"No.\"\n",
    "#False positives (FP): The count of actual \"No\" instances incorrectly predicted as \"Yes.\"\n",
    "#False negatives (FN): The count of actual \"Yes\" instances incorrectly predicted as \"No.\"\n",
    "#True positives (TP): The count of actual \"Yes\" instances correctly predicted as \"Yes.\""
   ]
  },
  {
   "cell_type": "code",
   "execution_count": null,
   "id": "9ef09a2f-b548-45be-8a51-15717f50fe53",
   "metadata": {
    "tags": []
   },
   "outputs": [],
   "source": [
    "### Key insights: \n",
    "###Two of the quadrants are under 4,000, which are relatively low numbers.\n",
    "###Additionally, the other two quadrants—the true positives and true negatives—are both high numbers ###above 13,000.\n",
    "###There isn't a large difference in the number of false positives and false negatives."
   ]
  }
 ],
 "metadata": {
  "kernelspec": {
   "display_name": "Python 3 (ipykernel)",
   "language": "python",
   "name": "python3"
  },
  "language_info": {
   "codemirror_mode": {
    "name": "ipython",
    "version": 3
   },
   "file_extension": ".py",
   "mimetype": "text/x-python",
   "name": "python",
   "nbconvert_exporter": "python",
   "pygments_lexer": "ipython3",
   "version": "3.11.5"
  }
 },
 "nbformat": 4,
 "nbformat_minor": 5
}
