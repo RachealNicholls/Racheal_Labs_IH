{
 "cells": [
  {
   "cell_type": "markdown",
   "id": "d6e80b01",
   "metadata": {},
   "source": [
    "## HYPOTHESIS TESTING systolic blood pressure"
   ]
  },
  {
   "cell_type": "markdown",
   "id": "55e94397",
   "metadata": {},
   "source": [
    "####  It is assumed that the mean systolic blood pressure is μ = 120 mm Hg. In the Honolulu Heart Study, a sample of n = 100 people had an average systolic blood pressure of 130.1 mm Hg with a standard deviation of 21.21 mm Hg. Is the group significantly different (with respect to systolic blood pressure!) from the regular population?\n",
    "\n",
    "Set up the hypothesis test.\n",
    "Write down all the steps followed for setting up the test.\n",
    "Calculate the test statistic by hand and also code it in Python. It should be 4.76190. What decision can you make based on this calculated value?"
   ]
  },
  {
   "cell_type": "code",
   "execution_count": null,
   "id": "1e76d417",
   "metadata": {},
   "outputs": [],
   "source": [
    "## setting up an hypothesis\n",
    "## H0 : the mean systolic blood pressure of the sample group is equal to the population mean, which is 120mm Hg\n",
    "\n",
    "## H1 ( Alternative Hypothesis) : the mean systolic B.P is not equal to the population mean"
   ]
  },
  {
   "cell_type": "code",
   "execution_count": 1,
   "id": "7950d04d",
   "metadata": {},
   "outputs": [
    {
     "name": "stdout",
     "output_type": "stream",
     "text": [
      "Test Statistic: 4.761904761904759\n"
     ]
    }
   ],
   "source": [
    "# Given values\n",
    "x_bar = 130.1  # Sample mean\n",
    "mu_0 = 120  # Population mean\n",
    "s = 21.21  # Sample standard deviation\n",
    "n = 100  # Sample size\n",
    "\n",
    "# Calculate the test statistic\n",
    "t_statistic = (x_bar - mu_0) / (s / (n**0.5))\n",
    "\n",
    "# Display the test statistic\n",
    "print(f\"Test Statistic: {t_statistic}\")\n"
   ]
  },
  {
   "cell_type": "code",
   "execution_count": null,
   "id": "22273f6c",
   "metadata": {},
   "outputs": [],
   "source": [
    "## after getting the value of the test statistics,\n",
    "## we refer to the t-distribution table which was given in this exercice.\n",
    "\n",
    "## If our calculated t-statistic exceeds the critical value from the table,\n",
    "## we reject the null hypothesis, indicating a statistically significant difference \n",
    "## between the sample mean and the population mean. \n",
    "## The critical values adjust based on the degrees of freedom and the desired confidence level, \n",
    "## tailoring the test to the specific conditions of our data.\n",
    "\n"
   ]
  },
  {
   "cell_type": "markdown",
   "id": "5c924aa7",
   "metadata": {},
   "source": [
    "###  ## Given the high t-statistic value, it suggests a significant difference, meaning the sample's mean systolic blood pressure is significantly different from the population mean, assuming the critical value for 99 degrees of freedom at α = 0.05 for a two-tailed test is less than our t-statistic. This decision framework directly leverages the t-distribution table to interpret the test statistic's significance. Rejecting the null hypothesis in this context means concluding that the sample group's mean systolic blood pressure is significantly different from the general population mean of 120 mm Hg.\n",
    "\n",
    "\n",
    "\n",
    "\n"
   ]
  }
 ],
 "metadata": {
  "kernelspec": {
   "display_name": "Python 3 (ipykernel)",
   "language": "python",
   "name": "python3"
  },
  "language_info": {
   "codemirror_mode": {
    "name": "ipython",
    "version": 3
   },
   "file_extension": ".py",
   "mimetype": "text/x-python",
   "name": "python",
   "nbconvert_exporter": "python",
   "pygments_lexer": "ipython3",
   "version": "3.11.5"
  },
  "varInspector": {
   "cols": {
    "lenName": 16,
    "lenType": 16,
    "lenVar": 40
   },
   "kernels_config": {
    "python": {
     "delete_cmd_postfix": "",
     "delete_cmd_prefix": "del ",
     "library": "var_list.py",
     "varRefreshCmd": "print(var_dic_list())"
    },
    "r": {
     "delete_cmd_postfix": ") ",
     "delete_cmd_prefix": "rm(",
     "library": "var_list.r",
     "varRefreshCmd": "cat(var_dic_list()) "
    }
   },
   "types_to_exclude": [
    "module",
    "function",
    "builtin_function_or_method",
    "instance",
    "_Feature"
   ],
   "window_display": false
  }
 },
 "nbformat": 4,
 "nbformat_minor": 5
}
