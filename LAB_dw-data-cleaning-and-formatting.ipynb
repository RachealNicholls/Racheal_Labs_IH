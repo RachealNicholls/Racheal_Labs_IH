{
 "cells": [
  {
   "cell_type": "markdown",
   "id": "25d7736c-ba17-4aff-b6bb-66eba20fbf4e",
   "metadata": {
    "id": "25d7736c-ba17-4aff-b6bb-66eba20fbf4e"
   },
   "source": [
    "# Lab | Data Cleaning and Formatting"
   ]
  },
  {
   "cell_type": "markdown",
   "id": "d1973e9e-8be6-4039-b70e-d73ee0d94c99",
   "metadata": {
    "id": "d1973e9e-8be6-4039-b70e-d73ee0d94c99"
   },
   "source": [
    "In this lab, we will be working with the customer data from an insurance company, which can be found in the CSV file located at the following link: https://raw.githubusercontent.com/data-bootcamp-v4/data/main/file1.csv\n"
   ]
  },
  {
   "cell_type": "markdown",
   "id": "31b8a9e7-7db9-4604-991b-ef6771603e57",
   "metadata": {
    "id": "31b8a9e7-7db9-4604-991b-ef6771603e57"
   },
   "source": [
    "# Challenge 1: Data Cleaning and Formatting"
   ]
  },
  {
   "cell_type": "markdown",
   "id": "81553f19-9f2c-484b-8940-520aff884022",
   "metadata": {
    "id": "81553f19-9f2c-484b-8940-520aff884022"
   },
   "source": [
    "## Exercise 1: Cleaning Column Names"
   ]
  },
  {
   "cell_type": "markdown",
   "id": "34a929f4-1be4-4fa8-adda-42ffd920be90",
   "metadata": {
    "id": "34a929f4-1be4-4fa8-adda-42ffd920be90"
   },
   "source": [
    "### To ensure consistency and ease of use, standardize the column names of the dataframe. Start by taking a first look at the dataframe and identifying any column names that need to be modified. Use appropriate naming conventions and make sure that column names are descriptive and informative.\n",
    "\n",
    "#*Hint*:\n",
    "#- *Column names should be in lower case*\n",
    "#- *White spaces in column names should be replaced by `_`*\n",
    "#- *`st` could be replaced for `state`*"
   ]
  },
  {
   "cell_type": "code",
   "execution_count": 1,
   "id": "5810735c-8056-4442-bbf2-dda38d3e284a",
   "metadata": {
    "id": "5810735c-8056-4442-bbf2-dda38d3e284a",
    "scrolled": true
   },
   "outputs": [
    {
     "name": "stdout",
     "output_type": "stream",
     "text": [
      "<class 'pandas.core.frame.DataFrame'>\n",
      "RangeIndex: 5498 entries, 0 to 5497\n",
      "Data columns (total 27 columns):\n",
      " #   Column                         Non-Null Count  Dtype  \n",
      "---  ------                         --------------  -----  \n",
      " 0   unnamed:_0                     5498 non-null   int64  \n",
      " 1   customer                       5498 non-null   object \n",
      " 2   state                          5498 non-null   object \n",
      " 3   customer_lifetime_value        5498 non-null   float64\n",
      " 4   response                       5498 non-null   object \n",
      " 5   coverage                       5498 non-null   object \n",
      " 6   education                      5498 non-null   object \n",
      " 7   effective_to_date              5498 non-null   object \n",
      " 8   employmentstatus               5498 non-null   object \n",
      " 9   gender                         5498 non-null   object \n",
      " 10  income                         5498 non-null   int64  \n",
      " 11  location_code                  5498 non-null   object \n",
      " 12  marital_status                 5498 non-null   object \n",
      " 13  monthly_premium_auto           5498 non-null   int64  \n",
      " 14  months_since_last_claim        5498 non-null   float64\n",
      " 15  months_since_policy_inception  5498 non-null   int64  \n",
      " 16  number_of_open_complaints      5498 non-null   float64\n",
      " 17  number_of_policies             5498 non-null   int64  \n",
      " 18  policy_type                    5498 non-null   object \n",
      " 19  policy                         5498 non-null   object \n",
      " 20  renew_offer_type               5498 non-null   object \n",
      " 21  sales_channel                  5498 non-null   object \n",
      " 22  total_claim_amount             5498 non-null   float64\n",
      " 23  vehicle_class                  5497 non-null   object \n",
      " 24  vehicle_size                   5497 non-null   object \n",
      " 25  vehicle_type                   5497 non-null   object \n",
      " 26  month                          5497 non-null   float64\n",
      "dtypes: float64(5), int64(5), object(17)\n",
      "memory usage: 1.1+ MB\n",
      "<class 'pandas.core.frame.DataFrame'>\n",
      "RangeIndex: 5498 entries, 0 to 5497\n",
      "Data columns (total 27 columns):\n",
      " #   Column                         Non-Null Count  Dtype  \n",
      "---  ------                         --------------  -----  \n",
      " 0   unnamed:_0                     5498 non-null   int64  \n",
      " 1   customer                       5498 non-null   object \n",
      " 2   state                          5498 non-null   object \n",
      " 3   customer_lifetime_value        5498 non-null   float64\n",
      " 4   response                       5498 non-null   object \n",
      " 5   coverage                       5498 non-null   object \n",
      " 6   education                      5498 non-null   object \n",
      " 7   effective_to_date              5498 non-null   object \n",
      " 8   employmentstatus               5498 non-null   object \n",
      " 9   gender                         5498 non-null   object \n",
      " 10  income                         5498 non-null   int64  \n",
      " 11  location_code                  5498 non-null   object \n",
      " 12  marital_status                 5498 non-null   object \n",
      " 13  monthly_premium_auto           5498 non-null   int64  \n",
      " 14  months_since_last_claim        5498 non-null   float64\n",
      " 15  months_since_policy_inception  5498 non-null   int64  \n",
      " 16  number_of_open_complaints      5498 non-null   float64\n",
      " 17  number_of_policies             5498 non-null   int64  \n",
      " 18  policy_type                    5498 non-null   object \n",
      " 19  policy                         5498 non-null   object \n",
      " 20  renew_offer_type               5498 non-null   object \n",
      " 21  sales_channel                  5498 non-null   object \n",
      " 22  total_claim_amount             5498 non-null   float64\n",
      " 23  vehicle_class                  5497 non-null   object \n",
      " 24  vehicle_size                   5497 non-null   object \n",
      " 25  vehicle_type                   5497 non-null   object \n",
      " 26  month                          5497 non-null   float64\n",
      "dtypes: float64(5), int64(5), object(17)\n",
      "memory usage: 1.1+ MB\n"
     ]
    }
   ],
   "source": [
    "import pandas as pd\n",
    "df=pd.read_csv('customer_analysis.csv')\n",
    "df.info()\n",
    "\n",
    "df.info()"
   ]
  },
  {
   "cell_type": "code",
   "execution_count": 2,
   "id": "f090835a",
   "metadata": {},
   "outputs": [
    {
     "ename": "NameError",
     "evalue": "name 'customer_analysis' is not defined",
     "output_type": "error",
     "traceback": [
      "\u001b[0;31m---------------------------------------------------------------------------\u001b[0m",
      "\u001b[0;31mNameError\u001b[0m                                 Traceback (most recent call last)",
      "Cell \u001b[0;32mIn[2], line 17\u001b[0m\n\u001b[1;32m     14\u001b[0m     \u001b[38;5;28;01mreturn\u001b[39;00m customer_analysis\n\u001b[1;32m     16\u001b[0m \u001b[38;5;66;03m# Apply the standardization function\u001b[39;00m\n\u001b[0;32m---> 17\u001b[0m standardize_column_names(customer_analysis)\n\u001b[1;32m     19\u001b[0m \u001b[38;5;66;03m# Print the standardized DataFrame\u001b[39;00m\n\u001b[1;32m     20\u001b[0m \u001b[38;5;28mprint\u001b[39m(customer_analysis\u001b[38;5;241m.\u001b[39mcolumns)\n",
      "\u001b[0;31mNameError\u001b[0m: name 'customer_analysis' is not defined"
     ]
    }
   ],
   "source": [
    "def standardize_column_names(customer_analysis):\n",
    "    # Convert to lowercase \n",
    "    customer_analysis.columns = customer_analysis.columns.str.lower() \n",
    "   \n",
    "    # Replace spaces with underscores\n",
    "    customer_analysis.columns = customer_analysis.columns.str.replace(\" \", \"_\")  \n",
    "    \n",
    "     # Remove non-word characters\n",
    "    customer_analysis.columns = customer_analysis.columns.str.replace(r\"[^\\w]\", \"\", regex=True)\n",
    "    \n",
    "     # Replace \"st\" with \"state\" \n",
    "    customer_analysis.columns = customer_analysis.columns.str.replace(\"st\", \"state\")  # Replace \"st\" with \"state\" (optional)\n",
    "  \n",
    "    return customer_analysis\n",
    "\n",
    "# Apply the standardization function\n",
    "standardize_column_names(customer_analysis)\n",
    "\n",
    "# Print the standardized DataFrame\n",
    "print(customer_analysis.columns)"
   ]
  },
  {
   "cell_type": "markdown",
   "id": "9cb501ec-36ff-4589-b872-6252bb150316",
   "metadata": {
    "id": "9cb501ec-36ff-4589-b872-6252bb150316"
   },
   "source": [
    "## Exercise 2: Cleaning invalid Values"
   ]
  },
  {
   "cell_type": "markdown",
   "id": "771fdcf3-8e20-4b06-9c24-3a93ba2b0909",
   "metadata": {
    "id": "771fdcf3-8e20-4b06-9c24-3a93ba2b0909"
   },
   "source": [
    "The dataset contains columns with inconsistent and incorrect values that could affect the accuracy of our analysis. Therefore, we need to clean these columns to ensure that they only contain valid data.\n",
    "\n",
    "Note that this exercise will focus only on cleaning inconsistent values and will not involve handling null values (NaN or None).\n",
    "\n",
    "*Hint*:\n",
    "- *Gender column contains various inconsistent values such as \"F\", \"M\", \"Femal\", \"Male\", \"female\", which need to be standardized, for example, to \"M\" and \"F\".*\n",
    "- *State abbreviations be can replaced with its full name, for example \"AZ\": \"Arizona\", \"Cali\": \"California\", \"WA\": \"Washington\"*\n",
    "- *In education, \"Bachelors\" could be replaced by \"Bachelor\"*\n",
    "- *In Customer Lifetime Value, delete the `%` character*\n",
    "- *In vehicle class, \"Sports Car\", \"Luxury SUV\" and \"Luxury Car\" could be replaced by \"Luxury\"*"
   ]
  },
  {
   "cell_type": "code",
   "execution_count": null,
   "id": "3f8ee5cb-50ab-48af-8a9f-9a389804033c",
   "metadata": {
    "id": "3f8ee5cb-50ab-48af-8a9f-9a389804033c"
   },
   "outputs": [],
   "source": [
    "# customer_analysis = df\n",
    "#df shortened for quicker referencing and writing\n",
    "\n",
    "# making changes to the gender for uniformity\n",
    "def clean_gender(df):\n",
    "    df['gender'] = df['gender'].replace({'Femal': 'F', 'female': 'F', 'Male': 'M'}).str.upper()\n",
    "\n",
    "# Clean the State column\n",
    "def clean_state(df):\n",
    "    state_mapping = {\n",
    "        'AZ': 'Arizona',\n",
    "        'Cali': 'California',\n",
    "        'WA': 'Washington'\n",
    "    }\n",
    "    df['state'] = df['state'].replace(state_mapping)\n",
    "\n",
    "# Clean the education column\n",
    "def clean_education(df):\n",
    "    df['education'] = df['education'].replace({'Bachelors': 'Bachelor'})\n",
    "\n",
    "# Clean the Customer Lifetime Value column\n",
    "def clean_customer_lifetime_value(df):\n",
    "    df['customer_lifetime_value'] = df['customer_lifetime_value'].str.replace('%', '').astype(float)\n",
    "\n",
    "# Clean the Vehicle Class column\n",
    "def clean_vehicle_class(df):\n",
    "    luxury_replacements = ['Sports Car', 'Luxury SUV', 'Luxury Car']\n",
    "    df['vehicle_class'] = df['vehicle_class'].replace(luxury_replacements, 'Luxury')\n",
    "\n",
    "# Apply all cleaning functions\n",
    "def clean_data(df):\n",
    "    clean_gender(df)\n",
    "    clean_state(df)\n",
    "    clean_education(df)\n",
    "    clean_customer_lifetime_value(df)\n",
    "    clean_vehicle_class(df)\n",
    "\n",
    "print(df)"
   ]
  },
  {
   "cell_type": "markdown",
   "id": "85ff78ce-0174-4890-9db3-8048b7d7d2d0",
   "metadata": {
    "id": "85ff78ce-0174-4890-9db3-8048b7d7d2d0"
   },
   "source": [
    "## Exercise 3: Formatting data types"
   ]
  },
  {
   "cell_type": "markdown",
   "id": "b91c2cf8-79a2-4baf-9f65-ff2fb22270bd",
   "metadata": {
    "id": "b91c2cf8-79a2-4baf-9f65-ff2fb22270bd"
   },
   "source": [
    "The data types of many columns in the dataset appear to be incorrect. This could impact the accuracy of our analysis. To ensure accurate analysis, we need to correct the data types of these columns. Please update the data types of the columns as appropriate."
   ]
  },
  {
   "cell_type": "markdown",
   "id": "43e5d853-ff9e-43b2-9d92-aef2f78764f3",
   "metadata": {
    "id": "43e5d853-ff9e-43b2-9d92-aef2f78764f3"
   },
   "source": [
    "It is important to note that this exercise does not involve handling null values (NaN or None)."
   ]
  },
  {
   "cell_type": "markdown",
   "id": "329ca691-9196-4419-8969-3596746237a1",
   "metadata": {
    "id": "329ca691-9196-4419-8969-3596746237a1"
   },
   "source": [
    "*Hint*:\n",
    "- *Customer lifetime value should be numeric*\n",
    "- *Number of open complaints has an incorrect format. Look at the different values it takes with `unique()` and take the middle value. As an example, 1/5/00 should be 5. Number of open complaints is a string - remember you can use `split()` to deal with it and take the number you need. Finally, since it should be numeric, cast the column to be in its proper type.*"
   ]
  },
  {
   "cell_type": "code",
   "execution_count": null,
   "id": "eb8f5991-73e9-405f-bf1c-6b7c589379a9",
   "metadata": {
    "id": "eb8f5991-73e9-405f-bf1c-6b7c589379a9"
   },
   "outputs": [],
   "source": [
    "#making customer_lifetime _value numeric \n",
    "df = pd.DataFrame({\n",
    "    'customer_lifetime_value': ['1,000', '2,500', '3,000', '1,500'],\n",
    "    'number_of_open_complaints': ['0/1/2023', '2/1/2023', 'N/A', '3/1/2023'],\n",
    "})\n",
    "\n",
    "# Clean customer lifetime value\n",
    "df['customer_lifetime_value'] = df['customer_lifetime_value'].str.replace(',', '')\n",
    "df['customer_lifetime_value'] = pd.to_numeric(df['customer_lifetime_value'])\n",
    "df.info()"
   ]
  },
  {
   "cell_type": "code",
   "execution_count": null,
   "id": "e0120067",
   "metadata": {},
   "outputs": [],
   "source": [
    "#Number of open complaints has an incorrect format. \n",
    "#Look at the different values it takes with unique() and take the middle value.\n",
    "#As an example, 1/5/00 should be 5. Number of open complaints is a string - \n",
    "#remember you can use split() to deal with it and take the number you need.\n",
    "#Finally, since it should be numeric, cast the column to be in its proper type.\n",
    "\n",
    "def clean_complaints(complaint):\n",
    "    if complaint == 'N/A':\n",
    "        return 0\n",
    "    else:\n",
    "        return int(complaint.split('/')[1])\n",
    "\n",
    "df['number_of_open_complaints'] = df['number_of_open_complaints'].apply(clean_complaints)\n",
    "\n",
    "# Print the cleaned DataFrame\n",
    "print(df)\n"
   ]
  },
  {
   "cell_type": "markdown",
   "id": "14c52e28-2d0c-4dd2-8bd5-3476e34fadc1",
   "metadata": {
    "id": "14c52e28-2d0c-4dd2-8bd5-3476e34fadc1"
   },
   "source": [
    "## Exercise 4: Dealing with Null values"
   ]
  },
  {
   "cell_type": "markdown",
   "id": "34b9a20f-7d32-4417-975e-1b4dfb0e16cd",
   "metadata": {
    "id": "34b9a20f-7d32-4417-975e-1b4dfb0e16cd"
   },
   "source": [
    "Identify any columns with null or missing values. Identify how many null values each column has. You can use the `isnull()` function in pandas to find columns with null values.\n",
    "\n",
    "Decide on a strategy for handling the null values. There are several options, including:\n",
    "\n",
    "- Drop the rows or columns with null values\n",
    "- Fill the null values with a specific value (such as the column mean or median for numerical variables, and mode for categorical variables)\n",
    "- Fill the null values with the previous or next value in the column\n",
    "- Fill the null values based on a more complex algorithm or model (note: we haven't covered this yet)\n",
    "\n",
    "Implement your chosen strategy to handle the null values. You can use the `fillna()` function in pandas to fill null values or `dropna()` function to drop null values.\n",
    "\n",
    "Verify that your strategy has successfully handled the null values. You can use the `isnull()` function again to check if there are still null values in the dataset.\n",
    "\n",
    "Remember to document your process and explain your reasoning for choosing a particular strategy for handling null values.\n",
    "\n",
    "After formatting data types, as a last step, convert all the numeric variables to integers."
   ]
  },
  {
   "cell_type": "code",
   "execution_count": null,
   "id": "f184fc35-7831-4836-a0a5-e7f99e01b40e",
   "metadata": {
    "id": "f184fc35-7831-4836-a0a5-e7f99e01b40e",
    "scrolled": false
   },
   "outputs": [],
   "source": [
    "# to drop columns /rows with null values\n",
    "null_values_after = df.isnull().sum()\n",
    "print(null_values_after[null_values_after > 0])"
   ]
  },
  {
   "cell_type": "code",
   "execution_count": null,
   "id": "ef6ce6ff",
   "metadata": {},
   "outputs": [],
   "source": [
    "print(df.info())"
   ]
  },
  {
   "cell_type": "code",
   "execution_count": null,
   "id": "8b866948",
   "metadata": {},
   "outputs": [],
   "source": [
    "# Fill missing values in 'customer_lifetime_value' with the mean\n",
    "df['customer_lifetime_value'].fillna(df['customer_lifetime_value'].mean(), inplace=True)\n",
    "\n"
   ]
  },
  {
   "cell_type": "code",
   "execution_count": null,
   "id": "3d1c4e2b",
   "metadata": {},
   "outputs": [],
   "source": [
    "#  Dropping rows with missing values in 'state'\n",
    "df.dropna(subset=['state'], inplace=True)\n"
   ]
  },
  {
   "cell_type": "code",
   "execution_count": null,
   "id": "59b434b4",
   "metadata": {
    "scrolled": true
   },
   "outputs": [],
   "source": [
    "#crosschecking\n",
    "print(df.isnull().sum())\n"
   ]
  },
  {
   "cell_type": "markdown",
   "id": "98416351-e999-4156-9834-9b00a311adfa",
   "metadata": {
    "id": "98416351-e999-4156-9834-9b00a311adfa"
   },
   "source": [
    "## Exercise 5: Dealing with duplicates"
   ]
  },
  {
   "cell_type": "markdown",
   "id": "ea0816a7-a18e-4d4c-b667-a8452a800bd1",
   "metadata": {
    "id": "ea0816a7-a18e-4d4c-b667-a8452a800bd1"
   },
   "source": [
    "Use the `.duplicated()` method to identify any duplicate rows in the dataframe.\n",
    "\n",
    "Decide on a strategy for handling the duplicates. Options include:\n",
    "- Dropping all duplicate rows\n",
    "- Keeping only the first occurrence of each duplicated row\n",
    "- Keeping only the last occurrence of each duplicated row\n",
    "- Dropping duplicates based on a subset of columns\n",
    "- Dropping duplicates based on a specific column\n",
    "\n",
    "Implement your chosen strategy using the `drop_duplicates()` function.\n",
    "\n",
    "Verify that your strategy has successfully handled the duplicates by checking for duplicates again using `.duplicated()`.\n",
    "\n",
    "Remember to document your process and explain your reasoning for choosing a particular strategy for handling duplicates.\n",
    "\n",
    "Save the cleaned dataset to a new CSV file.\n",
    "\n",
    "*Hint*: *after dropping duplicates, reset the index to ensure consistency*."
   ]
  },
  {
   "cell_type": "code",
   "execution_count": null,
   "id": "1929362c-47ed-47cb-baca-358b78d401a0",
   "metadata": {
    "id": "1929362c-47ed-47cb-baca-358b78d401a0"
   },
   "outputs": [],
   "source": [
    "#dropping all duplicate rows:\n",
    "\n",
    "df= df.drop_duplicates()\n",
    "\n",
    "\n",
    "# to keep only first occurrence:\n",
    "\n",
    "df = df.drop_duplicates(keep='first')\n",
    "\n",
    "\n",
    "# for Keeping last occurrence:\n",
    "\n",
    "df = df.drop_duplicates(keep='last')\n",
    "\n",
    "\n",
    "# dropping using subset\n",
    "subset_columns = ['customer', 'state']  \n",
    "df = df.drop_duplicates(subset=subset_columns)\n",
    "\n",
    "\n",
    "# to drop specific column:\n",
    "\n",
    "df = df.drop_duplicates(subset=['customer'])\n",
    "\n",
    "df(columns)\n",
    "\n"
   ]
  },
  {
   "cell_type": "markdown",
   "id": "60840701-4783-40e2-b4d8-55303f9100c9",
   "metadata": {
    "id": "60840701-4783-40e2-b4d8-55303f9100c9"
   },
   "source": [
    "# Bonus: Challenge 2: creating functions on a separate `py` file"
   ]
  },
  {
   "cell_type": "markdown",
   "id": "9d1adb3a-17cf-4899-8041-da21a4337fb4",
   "metadata": {
    "id": "9d1adb3a-17cf-4899-8041-da21a4337fb4"
   },
   "source": [
    "Put all the data cleaning and formatting steps into functions, and create a main function that performs all the cleaning and formatting.\n",
    "\n",
    "Write these functions in separate .py file(s). By putting these steps into functions, we can make the code more modular and easier to maintain."
   ]
  },
  {
   "cell_type": "markdown",
   "id": "0e170dc2-b62c-417a-8248-e63ed18a70c4",
   "metadata": {
    "id": "0e170dc2-b62c-417a-8248-e63ed18a70c4"
   },
   "source": [
    "*Hint: autoreload module is a utility module in Python that allows you to automatically reload modules in the current session when changes are made to the source code. This can be useful in situations where you are actively developing code and want to see the effects of changes you make without having to constantly restart the Python interpreter or Jupyter Notebook kernel.*"
   ]
  },
  {
   "cell_type": "code",
   "execution_count": null,
   "id": "a52c6dfc-cd11-4d01-bda4-f719fa33e9a4",
   "metadata": {
    "id": "a52c6dfc-cd11-4d01-bda4-f719fa33e9a4"
   },
   "outputs": [],
   "source": [
    "# data_cleaning.py\n",
    "\n",
    "import pandas as pd\n",
    "\n",
    "def clean_gender(df):\n",
    "    df['gender'] = df['gender'].replace({'Femal': 'F', 'female': 'F', 'Male': 'M'}).str.upper()\n",
    "    return df\n",
    "\n",
    "def clean_state(df):\n",
    "    state_mapping = {'AZ': 'Arizona', 'Cali': 'California', 'WA': 'Washington'}\n",
    "    df['state'] = df['state'].replace(state_mapping)\n",
    "    return df\n",
    "\n",
    "def clean_education(df):\n",
    "    df['education'] = df['education'].replace({'Bachelors': 'Bachelor'})\n",
    "    return df\n",
    "\n",
    "def clean_customer_lifetime_value(df):\n",
    "    df['customer_lifetime_value'] = df['customer_lifetime_value'].str.replace('%', '').astype(float)\n",
    "    return df\n",
    "\n",
    "def clean_vehicle_class(df):\n",
    "    luxury_replacements = ['Sports Car', 'Luxury SUV', 'Luxury Car']\n",
    "    df['vehicle_class'] = df['vehicle_class'].replace(luxury_replacements, 'Luxury')\n",
    "    return df\n",
    "\n",
    "def clean_number_of_open_complaints(df):\n",
    "    df['number_of_open_complaints'] = df['number_of_open_complaints'].str.split('/').str[1].astype(int)\n",
    "    return df\n",
    "\n",
    "def drop_duplicates(df):\n",
    "    df = df.drop_duplicates()\n",
    "    return df\n",
    "\n",
    "def handle_missing_values(df):\n",
    "    # Example: fill missing values for a numerical column with the median\n",
    "    # df['numerical_column'] = df['numerical_column'].fillna(df['numerical_column'].median())\n",
    "    return df\n",
    "\n",
    "def convert_numeric_to_int(df):\n",
    "    for col in df.select_dtypes(include=['float64', 'float32']).columns:\n",
    "        df[col] = df[col].fillna(0).astype(int)\n",
    "    return df\n",
    "\n",
    "def main_cleaning_function(df):\n",
    "    df = clean_gender(df)\n",
    "    df = clean_state(df)\n",
    "    df = clean_education(df)\n",
    "    df = clean_customer_lifetime_value(df)\n",
    "    df = clean_vehicle_class(df)\n",
    "    df = clean_number_of_open_complaints(df)\n",
    "    df = drop_duplicates(df)\n",
    "    df = handle_missing_values(df)\n",
    "    df = convert_numeric_to_int(df)\n",
    "    return df\n"
   ]
  },
  {
   "cell_type": "markdown",
   "id": "80f846bb-3f5e-4ca2-96c0-900728daca5a",
   "metadata": {
    "id": "80f846bb-3f5e-4ca2-96c0-900728daca5a",
    "tags": []
   },
   "source": [
    "# Bonus: Challenge 3: Analyzing Clean and Formated Data"
   ]
  },
  {
   "cell_type": "markdown",
   "id": "9021630e-cc90-446c-b5bd-264d6c864207",
   "metadata": {
    "id": "9021630e-cc90-446c-b5bd-264d6c864207"
   },
   "source": [
    "You have been tasked with analyzing the data to identify potential areas for improving customer retention and profitability. Your goal is to identify customers with a high policy claim amount and a low customer lifetime value.\n",
    "\n",
    "In the Pandas Lab, we only looked at high policy claim amounts because we couldn't look into low customer lifetime values. If we had tried to work with that column, we wouldn't have been able to because customer lifetime value wasn't clean and in its proper format. So after cleaning and formatting the data, let's get some more interesting insights!\n",
    "\n",
    "Instructions:\n",
    "\n",
    "- Review the statistics again for total claim amount and customer lifetime value to gain an understanding of the data.\n",
    "- To identify potential areas for improving customer retention and profitability, we want to focus on customers with a high policy claim amount and a low customer lifetime value. Consider customers with a high policy claim amount to be those in the top 25% of the total claim amount, and clients with a low customer lifetime value to be those in the bottom 25% of the customer lifetime value. Create a pandas DataFrame object that contains information about customers with a policy claim amount greater than the 75th percentile and a customer lifetime value in the bottom 25th percentile.\n",
    "- Use DataFrame methods to calculate summary statistics about the high policy claim amount and low customer lifetime value data. To do so, select both columns of the dataframe simultaneously and pass it to the `.describe()` method. This will give you descriptive statistics, such as mean, median, standard deviation, minimum and maximum values for both columns at the same time, allowing you to compare and analyze their characteristics."
   ]
  },
  {
   "cell_type": "code",
   "execution_count": null,
   "id": "211e82b5-461a-4d6f-8a23-4deccb84173c",
   "metadata": {
    "id": "211e82b5-461a-4d6f-8a23-4deccb84173c"
   },
   "outputs": [],
   "source": [
    "# Your code here"
   ]
  }
 ],
 "metadata": {
  "colab": {
   "provenance": []
  },
  "kernelspec": {
   "display_name": "Python 3 (ipykernel)",
   "language": "python",
   "name": "python3"
  },
  "language_info": {
   "codemirror_mode": {
    "name": "ipython",
    "version": 3
   },
   "file_extension": ".py",
   "mimetype": "text/x-python",
   "name": "python",
   "nbconvert_exporter": "python",
   "pygments_lexer": "ipython3",
   "version": "3.11.5"
  }
 },
 "nbformat": 4,
 "nbformat_minor": 5
}
