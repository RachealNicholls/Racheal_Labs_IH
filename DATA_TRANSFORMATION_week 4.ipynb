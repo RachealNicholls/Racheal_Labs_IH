{
 "cells": [
  {
   "cell_type": "markdown",
   "id": "df36d8e5",
   "metadata": {},
   "source": [
    "## DATA TRANSFORMATION ...week 4"
   ]
  },
  {
   "cell_type": "markdown",
   "id": "cd88d29f",
   "metadata": {},
   "source": [
    "### Exercise 1.\n",
    "\n",
    "Hint: use the file Data_Marketing_Customer_Analysis_Round3.csv\n",
    "\n",
    "One Hot/Label Encoding of the categorical variables in the categoricals data frame that you created in Activity 3. ( Hint: check Dropfirst option).\n",
    "for the first iteration, we will focus on the numericals data (numericals data frame) as our data source.\n",
    "Exercise 2.\n",
    "\n",
    "Begin by visually examining distributions (histograms) of the numerical features. Select a variable, call it varA, which takes on a wide range of numerical values, and another, varB, which has a noticeably large skew. For example, you might select customer_lifetime_value as a candidate varB which has skew.\n",
    "\n",
    "varA\n",
    "Use minmax transform to bring varA's values into the range [0,1].\n",
    "Check that varA has been rescaled using a displot or a histogram\n",
    "varB\n",
    "Use StandardScaler to standardize the variable or PowerTransform to reduce its skew.\n",
    "Check that the result has zero mean, unit variance, and reduced skew using mean(), std(), and a plot of the PDF.\n",
    "\n",
    "Import transformers from the sklearn library from sklearn.preprocessing import PowerTransformer, StandardScaler, MinMaxScaler\n",
    "To reduce the skew and standardize a column, PowerTransformer from sklearn has two options (box-cox and yeo-johnson)\n",
    "To rescale the column, use the MinMaxScaler transform.\n",
    "Format the column correctly for the transformer. The sklearn transformers expect numpy.ndarray object types as input. To take a pandas column and transform it into the correct form for PowerTransform and Minmax_Scaler use the to_numpy() and reshape(-1,1) methods.\n",
    "\n",
    "## Optional Task\n",
    "\n",
    "check if there are highly correlated features and drop them (if there are any).\n"
   ]
  },
  {
   "cell_type": "code",
   "execution_count": 15,
   "id": "a57a7575",
   "metadata": {},
   "outputs": [],
   "source": [
    "import pandas as pd\n",
    "from sklearn.preprocessing import OneHotEncoder\n",
    "import matplotlib.pyplot as plt\n",
    "import seaborn as sns\n",
    "from sklearn.preprocessing import MinMaxScaler, PowerTransformer\n",
    "\n",
    "\n",
    "customer_data=pd.read_csv('customer_analysis.csv')"
   ]
  },
  {
   "cell_type": "code",
   "execution_count": 6,
   "id": "eae338bb",
   "metadata": {},
   "outputs": [
    {
     "data": {
      "text/plain": [
       "(   unnamed:_0 customer       state  customer_lifetime_value response  \\\n",
       " 0           0  DK49336     Arizona              4809.216960       No   \n",
       " 1           1  KX64629  California              2228.525238       No   \n",
       " 2           2  LZ68649  Washington             14947.917300       No   \n",
       " 3           3  XL78013      Oregon             22332.439460      Yes   \n",
       " 4           4  QA50777      Oregon              9025.067525       No   \n",
       " \n",
       "    coverage education effective_to_date employmentstatus gender  ...  \\\n",
       " 0     Basic   College        2011-02-18         Employed      M  ...   \n",
       " 1     Basic   College        2011-01-18       Unemployed      F  ...   \n",
       " 2     Basic  Bachelor        2011-02-10         Employed      M  ...   \n",
       " 3  Extended   College        2011-01-11         Employed      M  ...   \n",
       " 4   Premium  Bachelor        2011-01-17    Medical Leave      F  ...   \n",
       " \n",
       "    number_of_policies     policy_type        policy  renew_offer_type  \\\n",
       " 0                   9  Corporate Auto  Corporate L3            Offer3   \n",
       " 1                   1   Personal Auto   Personal L3            Offer4   \n",
       " 2                   2   Personal Auto   Personal L3            Offer3   \n",
       " 3                   2  Corporate Auto  Corporate L3            Offer2   \n",
       " 4                   7   Personal Auto   Personal L2            Offer1   \n",
       " \n",
       "    sales_channel  total_claim_amount  vehicle_class  vehicle_size  \\\n",
       " 0          Agent          292.800000  Four-Door Car       Medsize   \n",
       " 1    Call Center          744.924331  Four-Door Car       Medsize   \n",
       " 2    Call Center          480.000000            SUV       Medsize   \n",
       " 3         Branch          484.013411  Four-Door Car       Medsize   \n",
       " 4         Branch          707.925645  Four-Door Car       Medsize   \n",
       " \n",
       "   vehicle_type month  \n",
       " 0            A   2.0  \n",
       " 1            A   1.0  \n",
       " 2            A   2.0  \n",
       " 3            A   1.0  \n",
       " 4            A   1.0  \n",
       " \n",
       " [5 rows x 27 columns],\n",
       "       unnamed:_0 customer       state  customer_lifetime_value response  \\\n",
       " 5493        5493  HW16019      Oregon              7583.189638       No   \n",
       " 5494        5494  BV27017  California             17602.511460       No   \n",
       " 5495        5495  OF46381  California              7659.717220       No   \n",
       " 5496        5496  WN14473     Arizona              2882.350556       No   \n",
       " 5497        5497  QS35019  California             14435.673650       No   \n",
       " \n",
       "      coverage             education effective_to_date employmentstatus gender  \\\n",
       " 5493    Basic              Bachelor        2011-02-08         Disabled      M   \n",
       " 5494  Premium               College        2011-02-06       Unemployed      F   \n",
       " 5495    Basic  High School or Below        2011-02-06       Unemployed      M   \n",
       " 5496    Basic                Master        2011-02-17         Employed      M   \n",
       " 5497  Premium                Master        2011-01-26         Employed      M   \n",
       " \n",
       "       ...  number_of_policies     policy_type        policy  renew_offer_type  \\\n",
       " 5493  ...                   2   Personal Auto   Personal L1            Offer4   \n",
       " 5494  ...                   2  Corporate Auto  Corporate L1            Offer1   \n",
       " 5495  ...                   2   Personal Auto   Personal L2            Offer1   \n",
       " 5496  ...                   1   Personal Auto   Personal L3            Offer2   \n",
       " 5497  ...                   2   Personal Auto   Personal L2            Offer1   \n",
       " \n",
       "       sales_channel  total_claim_amount  vehicle_class  vehicle_size  \\\n",
       " 5493    Call Center           76.026046   Two-Door Car       Medsize   \n",
       " 5494          Agent          772.800000            SUV       Medsize   \n",
       " 5495          Agent          525.600000   Two-Door Car         Small   \n",
       " 5496    Call Center          204.448708   Two-Door Car       Medsize   \n",
       " 5497          Agent          109.900000            NaN           NaN   \n",
       " \n",
       "      vehicle_type month  \n",
       " 5493            A   2.0  \n",
       " 5494            A   2.0  \n",
       " 5495            A   2.0  \n",
       " 5496            A   2.0  \n",
       " 5497          NaN   NaN  \n",
       " \n",
       " [5 rows x 27 columns])"
      ]
     },
     "execution_count": 6,
     "metadata": {},
     "output_type": "execute_result"
    }
   ],
   "source": [
    "customer_data.head(),customer_data.tail()"
   ]
  },
  {
   "cell_type": "code",
   "execution_count": 7,
   "id": "40ffa410",
   "metadata": {},
   "outputs": [
    {
     "name": "stderr",
     "output_type": "stream",
     "text": [
      "/Users/rachealnicholls/anaconda3/lib/python3.11/site-packages/sklearn/preprocessing/_encoders.py:972: FutureWarning: `sparse` was renamed to `sparse_output` in version 1.2 and will be removed in 1.4. `sparse_output` is ignored unless you leave `sparse` to its default value.\n",
      "  warnings.warn(\n"
     ]
    }
   ],
   "source": [
    "# Identify categorical variables (excluding 'customer' and 'effective_to_date' as they are identifiers or dates)\n",
    "categorical_cols = customer_data.select_dtypes(include=['object']).columns.drop(['customer', 'effective_to_date'])\n",
    "\n",
    "# Apply One Hot Encoding with drop_first to avoid multicollinearity\n",
    "ohe = OneHotEncoder(drop='first', sparse=False)\n",
    "categorical_encoded = ohe.fit_transform(customer_data[categorical_cols])\n",
    "\n",
    "# Convert the encoded categories back to a DataFrame for potential future use\n",
    "categorical_encoded_customer_data = pd.DataFrame(categorical_encoded, columns=ohe.get_feature_names_out(categorical_cols))\n"
   ]
  },
  {
   "cell_type": "code",
   "execution_count": 8,
   "id": "7b2b6187",
   "metadata": {},
   "outputs": [
    {
     "data": {
      "text/html": [
       "<div>\n",
       "<style scoped>\n",
       "    .dataframe tbody tr th:only-of-type {\n",
       "        vertical-align: middle;\n",
       "    }\n",
       "\n",
       "    .dataframe tbody tr th {\n",
       "        vertical-align: top;\n",
       "    }\n",
       "\n",
       "    .dataframe thead th {\n",
       "        text-align: right;\n",
       "    }\n",
       "</style>\n",
       "<table border=\"1\" class=\"dataframe\">\n",
       "  <thead>\n",
       "    <tr style=\"text-align: right;\">\n",
       "      <th></th>\n",
       "      <th>customer_lifetime_value</th>\n",
       "      <th>income</th>\n",
       "      <th>monthly_premium_auto</th>\n",
       "      <th>months_since_last_claim</th>\n",
       "      <th>months_since_policy_inception</th>\n",
       "      <th>number_of_open_complaints</th>\n",
       "      <th>number_of_policies</th>\n",
       "      <th>total_claim_amount</th>\n",
       "      <th>month</th>\n",
       "    </tr>\n",
       "  </thead>\n",
       "  <tbody>\n",
       "    <tr>\n",
       "      <th>0</th>\n",
       "      <td>4809.216960</td>\n",
       "      <td>48029</td>\n",
       "      <td>61</td>\n",
       "      <td>7.000000</td>\n",
       "      <td>52</td>\n",
       "      <td>0.000000</td>\n",
       "      <td>9</td>\n",
       "      <td>292.800000</td>\n",
       "      <td>2.0</td>\n",
       "    </tr>\n",
       "    <tr>\n",
       "      <th>1</th>\n",
       "      <td>2228.525238</td>\n",
       "      <td>0</td>\n",
       "      <td>64</td>\n",
       "      <td>3.000000</td>\n",
       "      <td>26</td>\n",
       "      <td>0.000000</td>\n",
       "      <td>1</td>\n",
       "      <td>744.924331</td>\n",
       "      <td>1.0</td>\n",
       "    </tr>\n",
       "    <tr>\n",
       "      <th>2</th>\n",
       "      <td>14947.917300</td>\n",
       "      <td>22139</td>\n",
       "      <td>100</td>\n",
       "      <td>34.000000</td>\n",
       "      <td>31</td>\n",
       "      <td>0.000000</td>\n",
       "      <td>2</td>\n",
       "      <td>480.000000</td>\n",
       "      <td>2.0</td>\n",
       "    </tr>\n",
       "    <tr>\n",
       "      <th>3</th>\n",
       "      <td>22332.439460</td>\n",
       "      <td>49078</td>\n",
       "      <td>97</td>\n",
       "      <td>10.000000</td>\n",
       "      <td>3</td>\n",
       "      <td>0.000000</td>\n",
       "      <td>2</td>\n",
       "      <td>484.013411</td>\n",
       "      <td>1.0</td>\n",
       "    </tr>\n",
       "    <tr>\n",
       "      <th>4</th>\n",
       "      <td>9025.067525</td>\n",
       "      <td>23675</td>\n",
       "      <td>117</td>\n",
       "      <td>15.149071</td>\n",
       "      <td>31</td>\n",
       "      <td>0.384256</td>\n",
       "      <td>7</td>\n",
       "      <td>707.925645</td>\n",
       "      <td>1.0</td>\n",
       "    </tr>\n",
       "  </tbody>\n",
       "</table>\n",
       "</div>"
      ],
      "text/plain": [
       "   customer_lifetime_value  income  monthly_premium_auto  \\\n",
       "0              4809.216960   48029                    61   \n",
       "1              2228.525238       0                    64   \n",
       "2             14947.917300   22139                   100   \n",
       "3             22332.439460   49078                    97   \n",
       "4              9025.067525   23675                   117   \n",
       "\n",
       "   months_since_last_claim  months_since_policy_inception  \\\n",
       "0                 7.000000                             52   \n",
       "1                 3.000000                             26   \n",
       "2                34.000000                             31   \n",
       "3                10.000000                              3   \n",
       "4                15.149071                             31   \n",
       "\n",
       "   number_of_open_complaints  number_of_policies  total_claim_amount  month  \n",
       "0                   0.000000                   9          292.800000    2.0  \n",
       "1                   0.000000                   1          744.924331    1.0  \n",
       "2                   0.000000                   2          480.000000    2.0  \n",
       "3                   0.000000                   2          484.013411    1.0  \n",
       "4                   0.384256                   7          707.925645    1.0  "
      ]
     },
     "execution_count": 8,
     "metadata": {},
     "output_type": "execute_result"
    }
   ],
   "source": [
    "# extracting numerical data in order to itirate.\n",
    "# Select numerical columns, excluding 'unnamed:_0' as it seems to be an index or identifier\n",
    "numerical_cols = customer_data.select_dtypes(include=['int64', 'float64']).columns.drop('unnamed:_0')\n",
    "numericals_customer_data = customer_data[numerical_cols]\n",
    "\n",
    "# Display the first few rows of the numerical data\n",
    "numericals_customer_data.head()\n"
   ]
  },
  {
   "cell_type": "code",
   "execution_count": 17,
   "id": "194aa0e1",
   "metadata": {},
   "outputs": [],
   "source": [
    "## visually examining distributions (histograms) of the numerical features\n",
    "# Select varA and varB based on the examination of distributions\n",
    "# For varA, we selected 'total_claim_amount'\n",
    "# For varB, we selected 'customer_lifetime_value'\n",
    "\n",
    "# Apply MinMaxScaler to varA ('total_claim_amount')\n",
    "varA = customer_data['total_claim_amount'].to_numpy().reshape(-1, 1)\n",
    "minmax_scaler = MinMaxScaler()\n",
    "varA_scaled = minmax_scaler.fit_transform(varA)\n",
    "\n"
   ]
  },
  {
   "cell_type": "code",
   "execution_count": 18,
   "id": "b3a8a8ec",
   "metadata": {},
   "outputs": [],
   "source": [
    "# Apply POWERTRANSFORMER to varB ('customer_lifetime_value') to reduce skew\n",
    "varB = customer_data['customer_lifetime_value'].to_numpy().reshape(-1, 1)\n",
    "power_transformer = PowerTransformer(method='yeo-johnson')\n",
    "varB_transformed = power_transformer.fit_transform(varB)\n",
    "\n",
    "# the Yeo Johnson method enables versatility, hence used here\n"
   ]
  },
  {
   "cell_type": "code",
   "execution_count": 21,
   "id": "da494f81",
   "metadata": {},
   "outputs": [
    {
     "name": "stdout",
     "output_type": "stream",
     "text": [
      "varA scaled range: 0.0 to 0.9999999999999999\n",
      "varB mean: 6.0792888850773214e-15, std: 1.0, skew before: 2.9100570833063877, skew after: 0.04667479646308277\n"
     ]
    }
   ],
   "source": [
    "# Check the transformations for varA\n",
    "varA_min, varA_max = varA_scaled.min(), varA_scaled.max()\n",
    "\n",
    "# Check the transformations for varB\n",
    "varB_mean, varB_std = varB_transformed.mean(), varB_transformed.std()\n",
    "varB_skew_before = pd.Series(varB.flatten()).skew()\n",
    "varB_skew_after = pd.Series(varB_transformed.flatten()).skew()\n",
    "# Print transformation results for verification\n",
    "print(f\"varA scaled range: {varA_min} to {varA_max}\")\n",
    "print(f\"varB mean: {varB_mean}, std: {varB_std}, skew before: {varB_skew_before}, skew after: {varB_skew_after}\")\n",
    "\n"
   ]
  },
  {
   "cell_type": "code",
   "execution_count": 22,
   "id": "0983b722",
   "metadata": {},
   "outputs": [
    {
     "data": {
      "image/png": "[encoded data removed]",
      "text/plain": [
       "<Figure size 1200x500 with 2 Axes>"
      ]
     },
     "metadata": {},
     "output_type": "display_data"
    }
   ],
   "source": [
    "# plotting  the distribution for varA and varB after transformation\n",
    "\n",
    "fig, ax = plt.subplots(1, 2, figsize=(12, 5))\n",
    "\n",
    "# Plot for varA after MinMax scaling\n",
    "sns.histplot(varA_scaled.flatten(), ax=ax[0], kde=True)\n",
    "ax[0].set_title('Distribution of varA (total_claim_amount) After MinMax Scaling')\n",
    "ax[0].set_xlabel('Scaled total_claim_amount')\n",
    "ax[0].set_ylabel('Frequency')\n",
    "\n",
    "# Plot for varB after Power Transformation\n",
    "sns.histplot(varB_transformed.flatten(), ax=ax[1], kde=True)\n",
    "ax[1].set_title('Distribution of varB (customer_lifetime_value) After Power Transformation')\n",
    "ax[1].set_xlabel('Transformed customer_lifetime_value')\n",
    "ax[1].set_ylabel('Frequency')\n",
    "\n",
    "plt.tight_layout()\n",
    "plt.show()"
   ]
  },
  {
   "cell_type": "code",
   "execution_count": null,
   "id": "981b6c44",
   "metadata": {},
   "outputs": [],
   "source": [
    "## it is important to note that the data has been rescaled \n",
    "## to a specific range but the  distribution has not been impacted.\n",
    "## The transformation helps in the preprocessing of the data in alignment \n",
    "## with most algorithm which require a normal distribution and standardized data. "
   ]
  },
  {
   "cell_type": "markdown",
   "id": "cecf0dc6",
   "metadata": {},
   "source": [
    "## Optional Bonus exercise\n",
    "### calculating the correlation and deciding if any featues are to be dropped "
   ]
  },
  {
   "cell_type": "code",
   "execution_count": 24,
   "id": "55870e1b",
   "metadata": {
    "scrolled": true
   },
   "outputs": [
    {
     "name": "stdout",
     "output_type": "stream",
     "text": [
      "                               unnamed:_0  customer_lifetime_value    income  \\\n",
      "unnamed:_0                       1.000000                 0.001860 -0.001747   \n",
      "customer_lifetime_value          0.001860                 1.000000  0.026719   \n",
      "income                          -0.001747                 0.026719  1.000000   \n",
      "monthly_premium_auto            -0.004931                 0.405724 -0.007605   \n",
      "months_since_last_claim         -0.015232                 0.008941 -0.027297   \n",
      "months_since_policy_inception    0.016412                 0.017506 -0.007934   \n",
      "number_of_open_complaints        0.020413                -0.037357  0.001467   \n",
      "number_of_policies              -0.004758                 0.018341  0.002150   \n",
      "total_claim_amount               0.009421                 0.238282 -0.356727   \n",
      "month                           -0.001776                -0.008683 -0.000128   \n",
      "\n",
      "                               monthly_premium_auto  months_since_last_claim  \\\n",
      "unnamed:_0                                -0.004931                -0.015232   \n",
      "customer_lifetime_value                    0.405724                 0.008941   \n",
      "income                                    -0.007605                -0.027297   \n",
      "monthly_premium_auto                       1.000000                 0.017007   \n",
      "months_since_last_claim                    0.017007                 1.000000   \n",
      "months_since_policy_inception              0.018764                -0.039799   \n",
      "number_of_open_complaints                 -0.002611                -0.006164   \n",
      "number_of_policies                        -0.021624                 0.010406   \n",
      "total_claim_amount                         0.634849                 0.011601   \n",
      "month                                      0.017813                -0.018214   \n",
      "\n",
      "                               months_since_policy_inception  \\\n",
      "unnamed:_0                                          0.016412   \n",
      "customer_lifetime_value                             0.017506   \n",
      "income                                             -0.007934   \n",
      "monthly_premium_auto                                0.018764   \n",
      "months_since_last_claim                            -0.039799   \n",
      "months_since_policy_inception                       1.000000   \n",
      "number_of_open_complaints                           0.015664   \n",
      "number_of_policies                                 -0.001691   \n",
      "total_claim_amount                                 -0.001464   \n",
      "month                                               0.024921   \n",
      "\n",
      "                               number_of_open_complaints  number_of_policies  \\\n",
      "unnamed:_0                                      0.020413           -0.004758   \n",
      "customer_lifetime_value                        -0.037357            0.018341   \n",
      "income                                          0.001467            0.002150   \n",
      "monthly_premium_auto                           -0.002611           -0.021624   \n",
      "months_since_last_claim                        -0.006164            0.010406   \n",
      "months_since_policy_inception                   0.015664           -0.001691   \n",
      "number_of_open_complaints                       1.000000            0.014679   \n",
      "number_of_policies                              0.014679            1.000000   \n",
      "total_claim_amount                              0.000277           -0.010356   \n",
      "month                                          -0.010701            0.005649   \n",
      "\n",
      "                               total_claim_amount     month  \n",
      "unnamed:_0                               0.009421 -0.001776  \n",
      "customer_lifetime_value                  0.238282 -0.008683  \n",
      "income                                  -0.356727 -0.000128  \n",
      "monthly_premium_auto                     0.634849  0.017813  \n",
      "months_since_last_claim                  0.011601 -0.018214  \n",
      "months_since_policy_inception           -0.001464  0.024921  \n",
      "number_of_open_complaints                0.000277 -0.010701  \n",
      "number_of_policies                      -0.010356  0.005649  \n",
      "total_claim_amount                       1.000000  0.009728  \n",
      "month                                    0.009728  1.000000  \n"
     ]
    }
   ],
   "source": [
    "import pandas as pd\n",
    "\n",
    "# Assuming you have already loaded your dataset into a DataFrame called customer_data\n",
    "# You can calculate the correlation matrix for all numerical variables like this:\n",
    "\n",
    "# Calculate the correlation matrix, excluding non-numeric columns\n",
    "correlation_matrix = customer_data.corr(numeric_only=True)\n",
    "\n",
    "# Displaying the correlation matrix\n",
    "print(correlation_matrix)"
   ]
  },
  {
   "cell_type": "code",
   "execution_count": null,
   "id": "fe582675",
   "metadata": {},
   "outputs": [],
   "source": [
    "### the idea of the correlation matrix is to the goal is strictly to \n",
    "### eliminate highly correlated features to reduce dimensionality or multicollinearity \n",
    "### customer life value and monthly premium auto show a positive correlatio and wiill be kept\n"
   ]
  }
 ],
 "metadata": {
  "kernelspec": {
   "display_name": "Python 3 (ipykernel)",
   "language": "python",
   "name": "python3"
  },
  "language_info": {
   "codemirror_mode": {
    "name": "ipython",
    "version": 3
   },
   "file_extension": ".py",
   "mimetype": "text/x-python",
   "name": "python",
   "nbconvert_exporter": "python",
   "pygments_lexer": "ipython3",
   "version": "3.11.5"
  },
  "varInspector": {
   "cols": {
    "lenName": 16,
    "lenType": 16,
    "lenVar": 40
   },
   "kernels_config": {
    "python": {
     "delete_cmd_postfix": "",
     "delete_cmd_prefix": "del ",
     "library": "var_list.py",
     "varRefreshCmd": "print(var_dic_list())"
    },
    "r": {
     "delete_cmd_postfix": ") ",
     "delete_cmd_prefix": "rm(",
     "library": "var_list.r",
     "varRefreshCmd": "cat(var_dic_list()) "
    }
   },
   "types_to_exclude": [
    "module",
    "function",
    "builtin_function_or_method",
    "instance",
    "_Feature"
   ],
   "window_display": false
  }
 },
 "nbformat": 4,
 "nbformat_minor": 5
}
