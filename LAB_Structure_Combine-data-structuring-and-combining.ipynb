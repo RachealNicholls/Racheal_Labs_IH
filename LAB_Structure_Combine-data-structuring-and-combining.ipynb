{
 "cells": [
  {
   "cell_type": "markdown",
   "id": "25d7736c-ba17-4aff-b6bb-66eba20fbf4e",
   "metadata": {
    "id": "25d7736c-ba17-4aff-b6bb-66eba20fbf4e"
   },
   "source": [
    "# Lab | Data Structuring and Combining Data"
   ]
  },
  {
   "cell_type": "markdown",
   "id": "a2cdfc70-44c8-478c-81e7-2bc43fdf4986",
   "metadata": {
    "id": "a2cdfc70-44c8-478c-81e7-2bc43fdf4986"
   },
   "source": [
    "## Challenge 1: Combining & Cleaning Data\n",
    "\n",
    "In this challenge, we will be working with the customer data from an insurance company, as we did in the two previous labs. The data can be found here:\n",
    "- https://raw.githubusercontent.com/data-bootcamp-v4/data/main/file1.csv\n",
    "\n",
    "But this time, we got new data, which can be found in the following 2 CSV files located at the links below.\n",
    "\n",
    "- https://raw.githubusercontent.com/data-bootcamp-v4/data/main/file2.csv\n",
    "- https://raw.githubusercontent.com/data-bootcamp-v4/data/main/file3.csv\n",
    "\n",
    "Note that you'll need to clean and format the new data.\n",
    "\n",
    "Observation:\n",
    "- One option is to first combine the three datasets and then apply the cleaning function to the new combined dataset\n",
    "- Another option would be to read the clean file you saved in the previous lab, and just clean the two new files and concatenate the three clean datasets"
   ]
  },
  {
   "cell_type": "code",
   "execution_count": 1,
   "id": "492d06e3-92c7-4105-ac72-536db98d3244",
   "metadata": {
    "id": "492d06e3-92c7-4105-ac72-536db98d3244"
   },
   "outputs": [
    {
     "data": {
      "text/plain": [
       "<bound method NDFrame.head of       unnamed:_0 customer       state  customer_lifetime_value response  \\\n",
       "0              0  DK49336     Arizona              4809.216960       No   \n",
       "1              1  KX64629  California              2228.525238       No   \n",
       "2              2  LZ68649  Washington             14947.917300       No   \n",
       "3              3  XL78013      Oregon             22332.439460      Yes   \n",
       "4              4  QA50777      Oregon              9025.067525       No   \n",
       "...          ...      ...         ...                      ...      ...   \n",
       "5493        5493  HW16019      Oregon              7583.189638       No   \n",
       "5494        5494  BV27017  California             17602.511460       No   \n",
       "5495        5495  OF46381  California              7659.717220       No   \n",
       "5496        5496  WN14473     Arizona              2882.350556       No   \n",
       "5497        5497  QS35019  California             14435.673650       No   \n",
       "\n",
       "      coverage             education effective_to_date employmentstatus  \\\n",
       "0        Basic               College        2011-02-18         Employed   \n",
       "1        Basic               College        2011-01-18       Unemployed   \n",
       "2        Basic              Bachelor        2011-02-10         Employed   \n",
       "3     Extended               College        2011-01-11         Employed   \n",
       "4      Premium              Bachelor        2011-01-17    Medical Leave   \n",
       "...        ...                   ...               ...              ...   \n",
       "5493     Basic              Bachelor        2011-02-08         Disabled   \n",
       "5494   Premium               College        2011-02-06       Unemployed   \n",
       "5495     Basic  High School or Below        2011-02-06       Unemployed   \n",
       "5496     Basic                Master        2011-02-17         Employed   \n",
       "5497   Premium                Master        2011-01-26         Employed   \n",
       "\n",
       "     gender  ...  number_of_policies     policy_type        policy  \\\n",
       "0         M  ...                   9  Corporate Auto  Corporate L3   \n",
       "1         F  ...                   1   Personal Auto   Personal L3   \n",
       "2         M  ...                   2   Personal Auto   Personal L3   \n",
       "3         M  ...                   2  Corporate Auto  Corporate L3   \n",
       "4         F  ...                   7   Personal Auto   Personal L2   \n",
       "...     ...  ...                 ...             ...           ...   \n",
       "5493      M  ...                   2   Personal Auto   Personal L1   \n",
       "5494      F  ...                   2  Corporate Auto  Corporate L1   \n",
       "5495      M  ...                   2   Personal Auto   Personal L2   \n",
       "5496      M  ...                   1   Personal Auto   Personal L3   \n",
       "5497      M  ...                   2   Personal Auto   Personal L2   \n",
       "\n",
       "      renew_offer_type  sales_channel  total_claim_amount  vehicle_class  \\\n",
       "0               Offer3          Agent          292.800000  Four-Door Car   \n",
       "1               Offer4    Call Center          744.924331  Four-Door Car   \n",
       "2               Offer3    Call Center          480.000000            SUV   \n",
       "3               Offer2         Branch          484.013411  Four-Door Car   \n",
       "4               Offer1         Branch          707.925645  Four-Door Car   \n",
       "...                ...            ...                 ...            ...   \n",
       "5493            Offer4    Call Center           76.026046   Two-Door Car   \n",
       "5494            Offer1          Agent          772.800000            SUV   \n",
       "5495            Offer1          Agent          525.600000   Two-Door Car   \n",
       "5496            Offer2    Call Center          204.448708   Two-Door Car   \n",
       "5497            Offer1          Agent          109.900000            NaN   \n",
       "\n",
       "      vehicle_size vehicle_type month  \n",
       "0          Medsize            A   2.0  \n",
       "1          Medsize            A   1.0  \n",
       "2          Medsize            A   2.0  \n",
       "3          Medsize            A   1.0  \n",
       "4          Medsize            A   1.0  \n",
       "...            ...          ...   ...  \n",
       "5493       Medsize            A   2.0  \n",
       "5494       Medsize            A   2.0  \n",
       "5495         Small            A   2.0  \n",
       "5496       Medsize            A   2.0  \n",
       "5497           NaN          NaN   NaN  \n",
       "\n",
       "[5498 rows x 27 columns]>"
      ]
     },
     "execution_count": 1,
     "metadata": {},
     "output_type": "execute_result"
    }
   ],
   "source": [
    "import pandas as pd\n",
    "df=pd.read_csv('customer_analysis.csv')\n",
    "#df.info()\n",
    "df.head\n",
    "df.info\n",
    "\n",
    "#rename dataframe to df_1\n",
    "df_1 = df\n",
    "df_1.head\n",
    "\n",
    "\n",
    "\n",
    "\n"
   ]
  },
  {
   "cell_type": "code",
   "execution_count": 2,
   "id": "e2eb3a07",
   "metadata": {
    "scrolled": true
   },
   "outputs": [
    {
     "name": "stdout",
     "output_type": "stream",
     "text": [
      "<class 'pandas.core.frame.DataFrame'>\n",
      "RangeIndex: 996 entries, 0 to 995\n",
      "Data columns (total 11 columns):\n",
      " #   Column                     Non-Null Count  Dtype  \n",
      "---  ------                     --------------  -----  \n",
      " 0   Customer                   996 non-null    object \n",
      " 1   ST                         996 non-null    object \n",
      " 2   GENDER                     991 non-null    object \n",
      " 3   Education                  996 non-null    object \n",
      " 4   Customer Lifetime Value    992 non-null    object \n",
      " 5   Income                     996 non-null    int64  \n",
      " 6   Monthly Premium Auto       996 non-null    int64  \n",
      " 7   Number of Open Complaints  996 non-null    object \n",
      " 8   Total Claim Amount         996 non-null    float64\n",
      " 9   Policy Type                996 non-null    object \n",
      " 10  Vehicle Class              996 non-null    object \n",
      "dtypes: float64(1), int64(2), object(8)\n",
      "memory usage: 85.7+ KB\n"
     ]
    }
   ],
   "source": [
    "# getting file 2\n",
    "\n",
    "# URL of the dataset\n",
    "url = \"https://raw.githubusercontent.com/data-bootcamp-v4/data/main/file2.csv\"\n",
    "\n",
    "# Load the dataset into a DataFrame\n",
    "df = pd.read_csv(url)\n",
    "df_2= df\n",
    "\n",
    "# Print the info of the DataFrame\n",
    "df_2.info()"
   ]
  },
  {
   "cell_type": "code",
   "execution_count": 3,
   "id": "c6a9002a",
   "metadata": {},
   "outputs": [
    {
     "name": "stdout",
     "output_type": "stream",
     "text": [
      "<class 'pandas.core.frame.DataFrame'>\n",
      "RangeIndex: 7070 entries, 0 to 7069\n",
      "Data columns (total 11 columns):\n",
      " #   Column                     Non-Null Count  Dtype  \n",
      "---  ------                     --------------  -----  \n",
      " 0   Customer                   7070 non-null   object \n",
      " 1   State                      7070 non-null   object \n",
      " 2   Customer Lifetime Value    7070 non-null   float64\n",
      " 3   Education                  7070 non-null   object \n",
      " 4   Gender                     7070 non-null   object \n",
      " 5   Income                     7070 non-null   int64  \n",
      " 6   Monthly Premium Auto       7070 non-null   int64  \n",
      " 7   Number of Open Complaints  7070 non-null   int64  \n",
      " 8   Policy Type                7070 non-null   object \n",
      " 9   Total Claim Amount         7070 non-null   float64\n",
      " 10  Vehicle Class              7070 non-null   object \n",
      "dtypes: float64(2), int64(3), object(6)\n",
      "memory usage: 607.7+ KB\n"
     ]
    }
   ],
   "source": [
    "#getting file 3\n",
    "\n",
    "\n",
    "# URL of the dataset\n",
    "url = \"https://raw.githubusercontent.com/data-bootcamp-v4/data/main/file3.csv\"\n",
    "\n",
    "# Load the dataset into a DataFrame\n",
    "df = pd.read_csv(url)\n",
    "df_3 = df\n",
    "\n",
    "# Print the info of the DataFrame\n",
    "df_3.info()"
   ]
  },
  {
   "cell_type": "code",
   "execution_count": 4,
   "id": "103a3873",
   "metadata": {},
   "outputs": [
    {
     "data": {
      "text/plain": [
       "<bound method DataFrame.info of        unnamed:_0 customer       state  customer_lifetime_value response  \\\n",
       "0             0.0  DK49336     Arizona              4809.216960       No   \n",
       "1             1.0  KX64629  California              2228.525238       No   \n",
       "2             2.0  LZ68649  Washington             14947.917300       No   \n",
       "3             3.0  XL78013      Oregon             22332.439460      Yes   \n",
       "4             4.0  QA50777      Oregon              9025.067525       No   \n",
       "...           ...      ...         ...                      ...      ...   \n",
       "13559         NaN      NaN         NaN                      NaN      NaN   \n",
       "13560         NaN      NaN         NaN                      NaN      NaN   \n",
       "13561         NaN      NaN         NaN                      NaN      NaN   \n",
       "13562         NaN      NaN         NaN                      NaN      NaN   \n",
       "13563         NaN      NaN         NaN                      NaN      NaN   \n",
       "\n",
       "       coverage education effective_to_date employmentstatus gender  ...  \\\n",
       "0         Basic   College        2011-02-18         Employed      M  ...   \n",
       "1         Basic   College        2011-01-18       Unemployed      F  ...   \n",
       "2         Basic  Bachelor        2011-02-10         Employed      M  ...   \n",
       "3      Extended   College        2011-01-11         Employed      M  ...   \n",
       "4       Premium  Bachelor        2011-01-17    Medical Leave      F  ...   \n",
       "...         ...       ...               ...              ...    ...  ...   \n",
       "13559       NaN       NaN               NaN              NaN    NaN  ...   \n",
       "13560       NaN       NaN               NaN              NaN    NaN  ...   \n",
       "13561       NaN       NaN               NaN              NaN    NaN  ...   \n",
       "13562       NaN       NaN               NaN              NaN    NaN  ...   \n",
       "13563       NaN       NaN               NaN              NaN    NaN  ...   \n",
       "\n",
       "       Education Customer Lifetime Value   Income  Monthly Premium Auto  \\\n",
       "0            NaN                     NaN      NaN                   NaN   \n",
       "1            NaN                     NaN      NaN                   NaN   \n",
       "2            NaN                     NaN      NaN                   NaN   \n",
       "3            NaN                     NaN      NaN                   NaN   \n",
       "4            NaN                     NaN      NaN                   NaN   \n",
       "...          ...                     ...      ...                   ...   \n",
       "13559   Bachelor             23405.98798  71941.0                  73.0   \n",
       "13560    College             3096.511217  21604.0                  79.0   \n",
       "13561   Bachelor             8163.890428      0.0                  85.0   \n",
       "13562    College             7524.442436  21941.0                  96.0   \n",
       "13563    College             2611.836866      0.0                  77.0   \n",
       "\n",
       "       Number of Open Complaints  Total Claim Amount     Policy Type  \\\n",
       "0                            NaN                 NaN             NaN   \n",
       "1                            NaN                 NaN             NaN   \n",
       "2                            NaN                 NaN             NaN   \n",
       "3                            NaN                 NaN             NaN   \n",
       "4                            NaN                 NaN             NaN   \n",
       "...                          ...                 ...             ...   \n",
       "13559                          0          198.234764   Personal Auto   \n",
       "13560                          0          379.200000  Corporate Auto   \n",
       "13561                          3          790.784983  Corporate Auto   \n",
       "13562                          0          691.200000   Personal Auto   \n",
       "13563                          0          369.600000  Corporate Auto   \n",
       "\n",
       "       Vehicle Class       State Gender  \n",
       "0                NaN         NaN    NaN  \n",
       "1                NaN         NaN    NaN  \n",
       "2                NaN         NaN    NaN  \n",
       "3                NaN         NaN    NaN  \n",
       "4                NaN         NaN    NaN  \n",
       "...              ...         ...    ...  \n",
       "13559  Four-Door Car  California      M  \n",
       "13560  Four-Door Car  California      F  \n",
       "13561  Four-Door Car  California      M  \n",
       "13562  Four-Door Car  California      M  \n",
       "13563   Two-Door Car  California      M  \n",
       "\n",
       "[13564 rows x 40 columns]>"
      ]
     },
     "execution_count": 4,
     "metadata": {},
     "output_type": "execute_result"
    }
   ],
   "source": [
    "# Data cleaning: One option is to first combine the three datasets and\n",
    "#then apply the cleaning function to the new combined dataset\n",
    "\n",
    "combined_df = pd.concat([df_1, df_2, df_3], ignore_index=True)\n",
    "combined_df.info"
   ]
  },
  {
   "cell_type": "markdown",
   "id": "31b8a9e7-7db9-4604-991b-ef6771603e57",
   "metadata": {
    "id": "31b8a9e7-7db9-4604-991b-ef6771603e57"
   },
   "source": [
    "# Challenge 2: Structuring Data"
   ]
  },
  {
   "cell_type": "code",
   "execution_count": 5,
   "id": "1fce59d3",
   "metadata": {},
   "outputs": [
    {
     "name": "stdout",
     "output_type": "stream",
     "text": [
      "<class 'pandas.core.frame.DataFrame'>\n",
      "RangeIndex: 13564 entries, 0 to 13563\n",
      "Data columns (total 40 columns):\n",
      " #   Column                         Non-Null Count  Dtype  \n",
      "---  ------                         --------------  -----  \n",
      " 0   unnamed:_0                     5498 non-null   float64\n",
      " 1   customer                       5498 non-null   object \n",
      " 2   state                          5498 non-null   object \n",
      " 3   customer_lifetime_value        5498 non-null   float64\n",
      " 4   response                       5498 non-null   object \n",
      " 5   coverage                       5498 non-null   object \n",
      " 6   education                      5498 non-null   object \n",
      " 7   effective_to_date              5498 non-null   object \n",
      " 8   employmentstatus               5498 non-null   object \n",
      " 9   gender                         5498 non-null   object \n",
      " 10  income                         5498 non-null   float64\n",
      " 11  location_code                  5498 non-null   object \n",
      " 12  marital_status                 5498 non-null   object \n",
      " 13  monthly_premium_auto           5498 non-null   float64\n",
      " 14  months_since_last_claim        5498 non-null   float64\n",
      " 15  months_since_policy_inception  5498 non-null   float64\n",
      " 16  number_of_open_complaints      5498 non-null   float64\n",
      " 17  number_of_policies             5498 non-null   float64\n",
      " 18  policy_type                    5498 non-null   object \n",
      " 19  policy                         5498 non-null   object \n",
      " 20  renew_offer_type               5498 non-null   object \n",
      " 21  sales_channel                  5498 non-null   object \n",
      " 22  total_claim_amount             5498 non-null   float64\n",
      " 23  vehicle_class                  5497 non-null   object \n",
      " 24  vehicle_size                   5497 non-null   object \n",
      " 25  vehicle_type                   5497 non-null   object \n",
      " 26  month                          5497 non-null   float64\n",
      " 27  Customer                       8066 non-null   object \n",
      " 28  ST                             996 non-null    object \n",
      " 29  GENDER                         991 non-null    object \n",
      " 30  Education                      8066 non-null   object \n",
      " 31  Customer Lifetime Value        8062 non-null   object \n",
      " 32  Income                         8066 non-null   float64\n",
      " 33  Monthly Premium Auto           8066 non-null   float64\n",
      " 34  Number of Open Complaints      8066 non-null   object \n",
      " 35  Total Claim Amount             8066 non-null   float64\n",
      " 36  Policy Type                    8066 non-null   object \n",
      " 37  Vehicle Class                  8066 non-null   object \n",
      " 38  State                          7070 non-null   object \n",
      " 39  Gender                         7070 non-null   object \n",
      "dtypes: float64(13), object(27)\n",
      "memory usage: 4.1+ MB\n",
      "   unnamed:_0 customer       state  customer_lifetime_value response  \\\n",
      "0         0.0  DK49336     Arizona              4809.216960       No   \n",
      "1         1.0  KX64629  California              2228.525238       No   \n",
      "2         2.0  LZ68649  Washington             14947.917300       No   \n",
      "3         3.0  XL78013      Oregon             22332.439460      Yes   \n",
      "4         4.0  QA50777      Oregon              9025.067525       No   \n",
      "\n",
      "   coverage education effective_to_date employmentstatus gender  ...  \\\n",
      "0     Basic   College        2011-02-18         Employed      M  ...   \n",
      "1     Basic   College        2011-01-18       Unemployed      F  ...   \n",
      "2     Basic  Bachelor        2011-02-10         Employed      M  ...   \n",
      "3  Extended   College        2011-01-11         Employed      M  ...   \n",
      "4   Premium  Bachelor        2011-01-17    Medical Leave      F  ...   \n",
      "\n",
      "   Education Customer Lifetime Value Income  Monthly Premium Auto  \\\n",
      "0        NaN                     NaN    NaN                   NaN   \n",
      "1        NaN                     NaN    NaN                   NaN   \n",
      "2        NaN                     NaN    NaN                   NaN   \n",
      "3        NaN                     NaN    NaN                   NaN   \n",
      "4        NaN                     NaN    NaN                   NaN   \n",
      "\n",
      "   Number of Open Complaints  Total Claim Amount  Policy Type  Vehicle Class  \\\n",
      "0                        NaN                 NaN          NaN            NaN   \n",
      "1                        NaN                 NaN          NaN            NaN   \n",
      "2                        NaN                 NaN          NaN            NaN   \n",
      "3                        NaN                 NaN          NaN            NaN   \n",
      "4                        NaN                 NaN          NaN            NaN   \n",
      "\n",
      "  State Gender  \n",
      "0   NaN    NaN  \n",
      "1   NaN    NaN  \n",
      "2   NaN    NaN  \n",
      "3   NaN    NaN  \n",
      "4   NaN    NaN  \n",
      "\n",
      "[5 rows x 40 columns]\n"
     ]
    }
   ],
   "source": [
    "#as done earlier\n",
    "## Assuming df_1, df_2, df_3 are already loaded and ready\n",
    "\n",
    "# Concatenate the DataFrames\n",
    "combined_df = pd.concat([df_1, df_2, df_3], ignore_index=True)\n",
    "\n",
    "# Display the structure of the concatenated DataFrame\n",
    "combined_df.info()\n",
    "\n",
    "# Optionally, you can inspect the first few rows to confirm it looks as expected\n",
    "print(combined_df.head())"
   ]
  },
  {
   "cell_type": "code",
   "execution_count": 6,
   "id": "c0964e8c",
   "metadata": {
    "scrolled": true
   },
   "outputs": [
    {
     "name": "stdout",
     "output_type": "stream",
     "text": [
      "<class 'pandas.core.frame.DataFrame'>\n",
      "RangeIndex: 13564 entries, 0 to 13563\n",
      "Data columns (total 40 columns):\n",
      " #   Column                         Non-Null Count  Dtype  \n",
      "---  ------                         --------------  -----  \n",
      " 0   unnamed:_0                     5498 non-null   float64\n",
      " 1   customer                       5498 non-null   object \n",
      " 2   state                          5498 non-null   object \n",
      " 3   customer_lifetime_value        5498 non-null   float64\n",
      " 4   response                       5498 non-null   object \n",
      " 5   coverage                       5498 non-null   object \n",
      " 6   education                      5498 non-null   object \n",
      " 7   effective_to_date              5498 non-null   object \n",
      " 8   employmentstatus               5498 non-null   object \n",
      " 9   gender                         5498 non-null   object \n",
      " 10  income                         5498 non-null   float64\n",
      " 11  location_code                  5498 non-null   object \n",
      " 12  marital_status                 5498 non-null   object \n",
      " 13  monthly_premium_auto           5498 non-null   float64\n",
      " 14  months_since_last_claim        5498 non-null   float64\n",
      " 15  months_since_policy_inception  5498 non-null   float64\n",
      " 16  number_of_open_complaints      5498 non-null   float64\n",
      " 17  number_of_policies             5498 non-null   float64\n",
      " 18  policy_type                    5498 non-null   object \n",
      " 19  policy                         5498 non-null   object \n",
      " 20  renew_offer_type               5498 non-null   object \n",
      " 21  sales_channel                  5498 non-null   object \n",
      " 22  total_claim_amount             5498 non-null   float64\n",
      " 23  vehicle_class                  5497 non-null   object \n",
      " 24  vehicle_size                   5497 non-null   object \n",
      " 25  vehicle_type                   5497 non-null   object \n",
      " 26  month                          5497 non-null   float64\n",
      " 27  Customer                       8066 non-null   object \n",
      " 28  ST                             996 non-null    object \n",
      " 29  GENDER                         991 non-null    object \n",
      " 30  Education                      8066 non-null   object \n",
      " 31  Customer Lifetime Value        8062 non-null   object \n",
      " 32  Income                         8066 non-null   float64\n",
      " 33  Monthly Premium Auto           8066 non-null   float64\n",
      " 34  Number of Open Complaints      8066 non-null   object \n",
      " 35  Total Claim Amount             8066 non-null   float64\n",
      " 36  Policy Type                    8066 non-null   object \n",
      " 37  Vehicle Class                  8066 non-null   object \n",
      " 38  State                          7070 non-null   object \n",
      " 39  Gender                         7070 non-null   object \n",
      "dtypes: float64(13), object(27)\n",
      "memory usage: 4.1+ MB\n"
     ]
    }
   ],
   "source": [
    "# Remove all duplicate rows in the DataFrame\n",
    "combined_df = combined_df.drop_duplicates()\n",
    "\n",
    "# Verify changes by displaying the info of the DataFrame\n",
    "combined_df.info()\n"
   ]
  },
  {
   "cell_type": "code",
   "execution_count": 7,
   "id": "d641a93a",
   "metadata": {},
   "outputs": [],
   "source": [
    "combined_df = combined_df.drop(columns=['GENDER', 'ST', 'Customer', 'Education', 'Total Claim Amount', 'Policy Type', 'Vehicle Class','gender'])"
   ]
  },
  {
   "cell_type": "markdown",
   "id": "a877fd6d-7a0c-46d2-9657-f25036e4ca4b",
   "metadata": {
    "id": "a877fd6d-7a0c-46d2-9657-f25036e4ca4b"
   },
   "source": [
    "In this challenge, we will continue to work with customer data from an insurance company, but we will use a dataset with more columns, called marketing_customer_analysis.csv, which can be found at the following link:\n",
    "\n",
    "https://raw.githubusercontent.com/data-bootcamp-v4/data/main/marketing_customer_analysis_clean.csv\n",
    "\n",
    "This dataset contains information such as customer demographics, policy details, vehicle information, and the customer's response to the last marketing campaign. Our goal is to explore and analyze this data by performing data cleaning, formatting, and structuring."
   ]
  },
  {
   "cell_type": "code",
   "execution_count": 8,
   "id": "aa10d9b0-1c27-4d3f-a8e4-db6ab73bfd26",
   "metadata": {
    "id": "aa10d9b0-1c27-4d3f-a8e4-db6ab73bfd26"
   },
   "outputs": [
    {
     "name": "stdout",
     "output_type": "stream",
     "text": [
      "<class 'pandas.core.frame.DataFrame'>\n",
      "RangeIndex: 10910 entries, 0 to 10909\n",
      "Data columns (total 27 columns):\n",
      " #   Column                         Non-Null Count  Dtype  \n",
      "---  ------                         --------------  -----  \n",
      " 0   unnamed:_0                     10910 non-null  int64  \n",
      " 1   customer                       10910 non-null  object \n",
      " 2   state                          10910 non-null  object \n",
      " 3   customer_lifetime_value        10910 non-null  float64\n",
      " 4   response                       10910 non-null  object \n",
      " 5   coverage                       10910 non-null  object \n",
      " 6   education                      10910 non-null  object \n",
      " 7   effective_to_date              10910 non-null  object \n",
      " 8   employmentstatus               10910 non-null  object \n",
      " 9   gender                         10910 non-null  object \n",
      " 10  income                         10910 non-null  int64  \n",
      " 11  location_code                  10910 non-null  object \n",
      " 12  marital_status                 10910 non-null  object \n",
      " 13  monthly_premium_auto           10910 non-null  int64  \n",
      " 14  months_since_last_claim        10910 non-null  float64\n",
      " 15  months_since_policy_inception  10910 non-null  int64  \n",
      " 16  number_of_open_complaints      10910 non-null  float64\n",
      " 17  number_of_policies             10910 non-null  int64  \n",
      " 18  policy_type                    10910 non-null  object \n",
      " 19  policy                         10910 non-null  object \n",
      " 20  renew_offer_type               10910 non-null  object \n",
      " 21  sales_channel                  10910 non-null  object \n",
      " 22  total_claim_amount             10910 non-null  float64\n",
      " 23  vehicle_class                  10910 non-null  object \n",
      " 24  vehicle_size                   10910 non-null  object \n",
      " 25  vehicle_type                   10910 non-null  object \n",
      " 26  month                          10910 non-null  int64  \n",
      "dtypes: float64(4), int64(6), object(17)\n",
      "memory usage: 2.2+ MB\n"
     ]
    }
   ],
   "source": [
    "# pulling up new dastaset\n",
    "#getting file 4\n",
    "\n",
    "\n",
    "# URL of the dataset\n",
    "url = \"https://raw.githubusercontent.com/data-bootcamp-v4/data/main/marketing_customer_analysis_clean.csv\"\n",
    "\n",
    "# Load the dataset into a DataFrame\n",
    "df = pd.read_csv(url)\n",
    "df_4 = df\n",
    "\n",
    "# Print the info of the DataFrame\n",
    "df_4.info()"
   ]
  },
  {
   "cell_type": "markdown",
   "id": "df35fd0d-513e-4e77-867e-429da10a9cc7",
   "metadata": {
    "id": "df35fd0d-513e-4e77-867e-429da10a9cc7"
   },
   "source": [
    "1. You work at the marketing department and you want to know which sales channel brought the most sales in terms of total revenue. Using pivot, create a summary table showing the total revenue for each sales channel (branch, call center, web, and mail).\n",
    "Round the total revenue to 2 decimal points.  Analyze the resulting table to draw insights."
   ]
  },
  {
   "cell_type": "code",
   "execution_count": 11,
   "id": "931230c9",
   "metadata": {},
   "outputs": [
    {
     "ename": "ValueError",
     "evalue": "Grouper for 'sales_channel' not 1-dimensional",
     "output_type": "error",
     "traceback": [
      "\u001b[0;31m---------------------------------------------------------------------------\u001b[0m",
      "\u001b[0;31mValueError\u001b[0m                                Traceback (most recent call last)",
      "Cell \u001b[0;32mIn[11], line 2\u001b[0m\n\u001b[1;32m      1\u001b[0m \u001b[38;5;66;03m# Pivot table for total revenue by sales channel\u001b[39;00m\n\u001b[0;32m----> 2\u001b[0m pivot_sales_channel \u001b[38;5;241m=\u001b[39m combined_df\u001b[38;5;241m.\u001b[39mpivot_table(values\u001b[38;5;241m=\u001b[39m\u001b[38;5;124m'\u001b[39m\u001b[38;5;124msales_channel\u001b[39m\u001b[38;5;124m'\u001b[39m, index\u001b[38;5;241m=\u001b[39m\u001b[38;5;124m'\u001b[39m\u001b[38;5;124msales_channel\u001b[39m\u001b[38;5;124m'\u001b[39m, aggfunc\u001b[38;5;241m=\u001b[39m\u001b[38;5;124m'\u001b[39m\u001b[38;5;124msum\u001b[39m\u001b[38;5;124m'\u001b[39m)\u001b[38;5;241m.\u001b[39mround(\u001b[38;5;241m2\u001b[39m)\n\u001b[1;32m      4\u001b[0m \u001b[38;5;28mprint\u001b[39m(pivot_sales_channel)\n",
      "File \u001b[0;32m~/anaconda3/lib/python3.11/site-packages/pandas/core/frame.py:8579\u001b[0m, in \u001b[0;36mDataFrame.pivot_table\u001b[0;34m(self, values, index, columns, aggfunc, fill_value, margins, dropna, margins_name, observed, sort)\u001b[0m\n\u001b[1;32m   8562\u001b[0m \u001b[38;5;129m@Substitution\u001b[39m(\u001b[38;5;124m\"\u001b[39m\u001b[38;5;124m\"\u001b[39m)\n\u001b[1;32m   8563\u001b[0m \u001b[38;5;129m@Appender\u001b[39m(_shared_docs[\u001b[38;5;124m\"\u001b[39m\u001b[38;5;124mpivot_table\u001b[39m\u001b[38;5;124m\"\u001b[39m])\n\u001b[1;32m   8564\u001b[0m \u001b[38;5;28;01mdef\u001b[39;00m \u001b[38;5;21mpivot_table\u001b[39m(\n\u001b[0;32m   (...)\u001b[0m\n\u001b[1;32m   8575\u001b[0m     sort: \u001b[38;5;28mbool\u001b[39m \u001b[38;5;241m=\u001b[39m \u001b[38;5;28;01mTrue\u001b[39;00m,\n\u001b[1;32m   8576\u001b[0m ) \u001b[38;5;241m-\u001b[39m\u001b[38;5;241m>\u001b[39m DataFrame:\n\u001b[1;32m   8577\u001b[0m     \u001b[38;5;28;01mfrom\u001b[39;00m \u001b[38;5;21;01mpandas\u001b[39;00m\u001b[38;5;21;01m.\u001b[39;00m\u001b[38;5;21;01mcore\u001b[39;00m\u001b[38;5;21;01m.\u001b[39;00m\u001b[38;5;21;01mreshape\u001b[39;00m\u001b[38;5;21;01m.\u001b[39;00m\u001b[38;5;21;01mpivot\u001b[39;00m \u001b[38;5;28;01mimport\u001b[39;00m pivot_table\n\u001b[0;32m-> 8579\u001b[0m     \u001b[38;5;28;01mreturn\u001b[39;00m pivot_table(\n\u001b[1;32m   8580\u001b[0m         \u001b[38;5;28mself\u001b[39m,\n\u001b[1;32m   8581\u001b[0m         values\u001b[38;5;241m=\u001b[39mvalues,\n\u001b[1;32m   8582\u001b[0m         index\u001b[38;5;241m=\u001b[39mindex,\n\u001b[1;32m   8583\u001b[0m         columns\u001b[38;5;241m=\u001b[39mcolumns,\n\u001b[1;32m   8584\u001b[0m         aggfunc\u001b[38;5;241m=\u001b[39maggfunc,\n\u001b[1;32m   8585\u001b[0m         fill_value\u001b[38;5;241m=\u001b[39mfill_value,\n\u001b[1;32m   8586\u001b[0m         margins\u001b[38;5;241m=\u001b[39mmargins,\n\u001b[1;32m   8587\u001b[0m         dropna\u001b[38;5;241m=\u001b[39mdropna,\n\u001b[1;32m   8588\u001b[0m         margins_name\u001b[38;5;241m=\u001b[39mmargins_name,\n\u001b[1;32m   8589\u001b[0m         observed\u001b[38;5;241m=\u001b[39mobserved,\n\u001b[1;32m   8590\u001b[0m         sort\u001b[38;5;241m=\u001b[39msort,\n\u001b[1;32m   8591\u001b[0m     )\n",
      "File \u001b[0;32m~/anaconda3/lib/python3.11/site-packages/pandas/core/reshape/pivot.py:97\u001b[0m, in \u001b[0;36mpivot_table\u001b[0;34m(data, values, index, columns, aggfunc, fill_value, margins, dropna, margins_name, observed, sort)\u001b[0m\n\u001b[1;32m     94\u001b[0m     table \u001b[38;5;241m=\u001b[39m concat(pieces, keys\u001b[38;5;241m=\u001b[39mkeys, axis\u001b[38;5;241m=\u001b[39m\u001b[38;5;241m1\u001b[39m)\n\u001b[1;32m     95\u001b[0m     \u001b[38;5;28;01mreturn\u001b[39;00m table\u001b[38;5;241m.\u001b[39m__finalize__(data, method\u001b[38;5;241m=\u001b[39m\u001b[38;5;124m\"\u001b[39m\u001b[38;5;124mpivot_table\u001b[39m\u001b[38;5;124m\"\u001b[39m)\n\u001b[0;32m---> 97\u001b[0m table \u001b[38;5;241m=\u001b[39m __internal_pivot_table(\n\u001b[1;32m     98\u001b[0m     data,\n\u001b[1;32m     99\u001b[0m     values,\n\u001b[1;32m    100\u001b[0m     index,\n\u001b[1;32m    101\u001b[0m     columns,\n\u001b[1;32m    102\u001b[0m     aggfunc,\n\u001b[1;32m    103\u001b[0m     fill_value,\n\u001b[1;32m    104\u001b[0m     margins,\n\u001b[1;32m    105\u001b[0m     dropna,\n\u001b[1;32m    106\u001b[0m     margins_name,\n\u001b[1;32m    107\u001b[0m     observed,\n\u001b[1;32m    108\u001b[0m     sort,\n\u001b[1;32m    109\u001b[0m )\n\u001b[1;32m    110\u001b[0m \u001b[38;5;28;01mreturn\u001b[39;00m table\u001b[38;5;241m.\u001b[39m__finalize__(data, method\u001b[38;5;241m=\u001b[39m\u001b[38;5;124m\"\u001b[39m\u001b[38;5;124mpivot_table\u001b[39m\u001b[38;5;124m\"\u001b[39m)\n",
      "File \u001b[0;32m~/anaconda3/lib/python3.11/site-packages/pandas/core/reshape/pivot.py:166\u001b[0m, in \u001b[0;36m__internal_pivot_table\u001b[0;34m(data, values, index, columns, aggfunc, fill_value, margins, dropna, margins_name, observed, sort)\u001b[0m\n\u001b[1;32m    163\u001b[0m             \u001b[38;5;28;01mpass\u001b[39;00m\n\u001b[1;32m    164\u001b[0m     values \u001b[38;5;241m=\u001b[39m \u001b[38;5;28mlist\u001b[39m(values)\n\u001b[0;32m--> 166\u001b[0m grouped \u001b[38;5;241m=\u001b[39m data\u001b[38;5;241m.\u001b[39mgroupby(keys, observed\u001b[38;5;241m=\u001b[39mobserved, sort\u001b[38;5;241m=\u001b[39msort)\n\u001b[1;32m    167\u001b[0m agged \u001b[38;5;241m=\u001b[39m grouped\u001b[38;5;241m.\u001b[39magg(aggfunc)\n\u001b[1;32m    169\u001b[0m \u001b[38;5;28;01mif\u001b[39;00m dropna \u001b[38;5;129;01mand\u001b[39;00m \u001b[38;5;28misinstance\u001b[39m(agged, ABCDataFrame) \u001b[38;5;129;01mand\u001b[39;00m \u001b[38;5;28mlen\u001b[39m(agged\u001b[38;5;241m.\u001b[39mcolumns):\n",
      "File \u001b[0;32m~/anaconda3/lib/python3.11/site-packages/pandas/core/frame.py:8252\u001b[0m, in \u001b[0;36mDataFrame.groupby\u001b[0;34m(self, by, axis, level, as_index, sort, group_keys, observed, dropna)\u001b[0m\n\u001b[1;32m   8249\u001b[0m     \u001b[38;5;28;01mraise\u001b[39;00m \u001b[38;5;167;01mTypeError\u001b[39;00m(\u001b[38;5;124m\"\u001b[39m\u001b[38;5;124mYou have to supply one of \u001b[39m\u001b[38;5;124m'\u001b[39m\u001b[38;5;124mby\u001b[39m\u001b[38;5;124m'\u001b[39m\u001b[38;5;124m and \u001b[39m\u001b[38;5;124m'\u001b[39m\u001b[38;5;124mlevel\u001b[39m\u001b[38;5;124m'\u001b[39m\u001b[38;5;124m\"\u001b[39m)\n\u001b[1;32m   8250\u001b[0m axis \u001b[38;5;241m=\u001b[39m \u001b[38;5;28mself\u001b[39m\u001b[38;5;241m.\u001b[39m_get_axis_number(axis)\n\u001b[0;32m-> 8252\u001b[0m \u001b[38;5;28;01mreturn\u001b[39;00m DataFrameGroupBy(\n\u001b[1;32m   8253\u001b[0m     obj\u001b[38;5;241m=\u001b[39m\u001b[38;5;28mself\u001b[39m,\n\u001b[1;32m   8254\u001b[0m     keys\u001b[38;5;241m=\u001b[39mby,\n\u001b[1;32m   8255\u001b[0m     axis\u001b[38;5;241m=\u001b[39maxis,\n\u001b[1;32m   8256\u001b[0m     level\u001b[38;5;241m=\u001b[39mlevel,\n\u001b[1;32m   8257\u001b[0m     as_index\u001b[38;5;241m=\u001b[39mas_index,\n\u001b[1;32m   8258\u001b[0m     sort\u001b[38;5;241m=\u001b[39msort,\n\u001b[1;32m   8259\u001b[0m     group_keys\u001b[38;5;241m=\u001b[39mgroup_keys,\n\u001b[1;32m   8260\u001b[0m     observed\u001b[38;5;241m=\u001b[39mobserved,\n\u001b[1;32m   8261\u001b[0m     dropna\u001b[38;5;241m=\u001b[39mdropna,\n\u001b[1;32m   8262\u001b[0m )\n",
      "File \u001b[0;32m~/anaconda3/lib/python3.11/site-packages/pandas/core/groupby/groupby.py:931\u001b[0m, in \u001b[0;36mGroupBy.__init__\u001b[0;34m(self, obj, keys, axis, level, grouper, exclusions, selection, as_index, sort, group_keys, observed, dropna)\u001b[0m\n\u001b[1;32m    928\u001b[0m \u001b[38;5;28mself\u001b[39m\u001b[38;5;241m.\u001b[39mdropna \u001b[38;5;241m=\u001b[39m dropna\n\u001b[1;32m    930\u001b[0m \u001b[38;5;28;01mif\u001b[39;00m grouper \u001b[38;5;129;01mis\u001b[39;00m \u001b[38;5;28;01mNone\u001b[39;00m:\n\u001b[0;32m--> 931\u001b[0m     grouper, exclusions, obj \u001b[38;5;241m=\u001b[39m get_grouper(\n\u001b[1;32m    932\u001b[0m         obj,\n\u001b[1;32m    933\u001b[0m         keys,\n\u001b[1;32m    934\u001b[0m         axis\u001b[38;5;241m=\u001b[39maxis,\n\u001b[1;32m    935\u001b[0m         level\u001b[38;5;241m=\u001b[39mlevel,\n\u001b[1;32m    936\u001b[0m         sort\u001b[38;5;241m=\u001b[39msort,\n\u001b[1;32m    937\u001b[0m         observed\u001b[38;5;241m=\u001b[39mobserved,\n\u001b[1;32m    938\u001b[0m         dropna\u001b[38;5;241m=\u001b[39m\u001b[38;5;28mself\u001b[39m\u001b[38;5;241m.\u001b[39mdropna,\n\u001b[1;32m    939\u001b[0m     )\n\u001b[1;32m    941\u001b[0m \u001b[38;5;28mself\u001b[39m\u001b[38;5;241m.\u001b[39mobj \u001b[38;5;241m=\u001b[39m obj\n\u001b[1;32m    942\u001b[0m \u001b[38;5;28mself\u001b[39m\u001b[38;5;241m.\u001b[39maxis \u001b[38;5;241m=\u001b[39m obj\u001b[38;5;241m.\u001b[39m_get_axis_number(axis)\n",
      "File \u001b[0;32m~/anaconda3/lib/python3.11/site-packages/pandas/core/groupby/grouper.py:980\u001b[0m, in \u001b[0;36mget_grouper\u001b[0;34m(obj, key, axis, level, sort, observed, validate, dropna)\u001b[0m\n\u001b[1;32m    976\u001b[0m     in_axis, name, gpr \u001b[38;5;241m=\u001b[39m \u001b[38;5;28;01mTrue\u001b[39;00m, gpr, obj[gpr]\n\u001b[1;32m    977\u001b[0m     \u001b[38;5;28;01mif\u001b[39;00m gpr\u001b[38;5;241m.\u001b[39mndim \u001b[38;5;241m!=\u001b[39m \u001b[38;5;241m1\u001b[39m:\n\u001b[1;32m    978\u001b[0m         \u001b[38;5;66;03m# non-unique columns; raise here to get the name in the\u001b[39;00m\n\u001b[1;32m    979\u001b[0m         \u001b[38;5;66;03m# exception message\u001b[39;00m\n\u001b[0;32m--> 980\u001b[0m         \u001b[38;5;28;01mraise\u001b[39;00m \u001b[38;5;167;01mValueError\u001b[39;00m(\u001b[38;5;124mf\u001b[39m\u001b[38;5;124m\"\u001b[39m\u001b[38;5;124mGrouper for \u001b[39m\u001b[38;5;124m'\u001b[39m\u001b[38;5;132;01m{\u001b[39;00mname\u001b[38;5;132;01m}\u001b[39;00m\u001b[38;5;124m'\u001b[39m\u001b[38;5;124m not 1-dimensional\u001b[39m\u001b[38;5;124m\"\u001b[39m)\n\u001b[1;32m    981\u001b[0m     exclusions\u001b[38;5;241m.\u001b[39madd(name)\n\u001b[1;32m    982\u001b[0m \u001b[38;5;28;01melif\u001b[39;00m obj\u001b[38;5;241m.\u001b[39m_is_level_reference(gpr, axis\u001b[38;5;241m=\u001b[39maxis):\n",
      "\u001b[0;31mValueError\u001b[0m: Grouper for 'sales_channel' not 1-dimensional"
     ]
    }
   ],
   "source": [
    "#???????#\n",
    "# WHY DOES THIS ERROR OCCUR\n",
    "Pivot table for total revenue by sales channel\n",
    "pivot_sales_channel = combined_df.pivot_table(values='sales_channel', index='sales_channel', aggfunc='sum').round(2)\n",
    "\n",
    "print(pivot_sales_channel)"
   ]
  },
  {
   "cell_type": "markdown",
   "id": "640993b2-a291-436c-a34d-a551144f8196",
   "metadata": {
    "id": "640993b2-a291-436c-a34d-a551144f8196"
   },
   "source": [
    "#2. #Create a pivot table that shows the average customer lifetime value per gender and education level. Analyze the resulting table to draw insights.\n",
    "\n",
    "revenue_by_channel = df.pivot_table(\n",
    "    index='sales_channel',\n",
    "    values='total_revenue',\n",
    "    aggfunc=sum,\n",
    ")\n",
    "\n",
    "revenue_by_channel = revenue_by_channel.round(2)  # Round to 2 decimal places\n",
    "\n",
    "print(revenue_by_channel)"
   ]
  },
  {
   "cell_type": "code",
   "execution_count": null,
   "id": "8fe074de",
   "metadata": {},
   "outputs": [],
   "source": [
    "revenue_by_channel = df.pivot_table( index='sales_channel', values='total_revenue', aggfunc=sum, )\n",
    "revenue_by_channel = revenue_by_channel.round(2) # Round to 2 decimal places\n",
    "print(revenue_by_channel)    \n"
   ]
  },
  {
   "cell_type": "code",
   "execution_count": null,
   "id": "285a8fb8",
   "metadata": {},
   "outputs": [],
   "source": [
    "# pivot3_df=df.pivot_table(index=['gender'], columns='education', values =[]).......uncompleted"
   ]
  },
  {
   "cell_type": "markdown",
   "id": "32c7f2e5-3d90-43e5-be33-9781b6069198",
   "metadata": {
    "id": "32c7f2e5-3d90-43e5-be33-9781b6069198"
   },
   "source": [
    "## Bonus\n",
    "\n",
    "You work at the customer service department and you want to know which months had the highest number of complaints by policy type category. Create a summary table showing the number of complaints by policy type and month.\n",
    "Show it in a long format table."
   ]
  },
  {
   "cell_type": "markdown",
   "id": "e3d09a8f-953c-448a-a5f8-2e5a8cca7291",
   "metadata": {
    "id": "e3d09a8f-953c-448a-a5f8-2e5a8cca7291"
   },
   "source": [
    "*In data analysis, a long format table is a way of structuring data in which each observation or measurement is stored in a separate row of the table. The key characteristic of a long format table is that each column represents a single variable, and each row represents a single observation of that variable.*\n",
    "\n",
    "*More information about long and wide format tables here: https://www.statology.org/long-vs-wide-data/*"
   ]
  },
  {
   "cell_type": "code",
   "execution_count": 10,
   "id": "3a069e0b-b400-470e-904d-d17582191be4",
   "metadata": {
    "id": "3a069e0b-b400-470e-904d-d17582191be4"
   },
   "outputs": [
    {
     "name": "stdout",
     "output_type": "stream",
     "text": [
      "      policy_type  month  number_of_open_complaints\n",
      "0  Corporate Auto    1.0                 230.217476\n",
      "1  Corporate Auto    2.0                 199.833220\n",
      "2   Personal Auto    1.0                 890.184782\n",
      "3   Personal Auto    2.0                 702.726477\n",
      "4    Special Auto    1.0                  39.921281\n",
      "5    Special Auto    2.0                  51.537024\n"
     ]
    }
   ],
   "source": [
    "summary_table = combined_df.pivot_table(values='number_of_open_complaints', \n",
    "                                        index=['policy_type', 'month'], \n",
    "                                        aggfunc='sum',\n",
    "                                        fill_value=0).reset_index()\n",
    "\n",
    "print(summary_table)"
   ]
  },
  {
   "cell_type": "code",
   "execution_count": null,
   "id": "3d856f3c",
   "metadata": {},
   "outputs": [],
   "source": []
  }
 ],
 "metadata": {
  "colab": {
   "provenance": []
  },
  "kernelspec": {
   "display_name": "Python 3 (ipykernel)",
   "language": "python",
   "name": "python3"
  },
  "language_info": {
   "codemirror_mode": {
    "name": "ipython",
    "version": 3
   },
   "file_extension": ".py",
   "mimetype": "text/x-python",
   "name": "python",
   "nbconvert_exporter": "python",
   "pygments_lexer": "ipython3",
   "version": "3.11.5"
  }
 },
 "nbformat": 4,
 "nbformat_minor": 5
}
